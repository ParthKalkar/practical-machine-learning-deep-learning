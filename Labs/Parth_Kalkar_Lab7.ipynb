{
  "nbformat": 4,
  "nbformat_minor": 0,
  "metadata": {
    "colab": {
      "provenance": [],
      "collapsed_sections": [],
      "toc_visible": true
    },
    "kernelspec": {
      "name": "python3",
      "display_name": "Python 3"
    },
    "language_info": {
      "name": "python"
    },
    "accelerator": "GPU",
    "widgets": {
      "application/vnd.jupyter.widget-state+json": {
        "e284db08907d4302930b7aea714c7716": {
          "model_module": "@jupyter-widgets/controls",
          "model_name": "HBoxModel",
          "model_module_version": "1.5.0",
          "state": {
            "_dom_classes": [],
            "_model_module": "@jupyter-widgets/controls",
            "_model_module_version": "1.5.0",
            "_model_name": "HBoxModel",
            "_view_count": null,
            "_view_module": "@jupyter-widgets/controls",
            "_view_module_version": "1.5.0",
            "_view_name": "HBoxView",
            "box_style": "",
            "children": [
              "IPY_MODEL_444eef2696aa4f898cdf675e3ec34727",
              "IPY_MODEL_91dc544f7628479f96740cb4fcea1482",
              "IPY_MODEL_bff8da993ca54e3a8bc694486326ce41"
            ],
            "layout": "IPY_MODEL_b5d41dfcf0de42559862df0390f2295b"
          }
        },
        "444eef2696aa4f898cdf675e3ec34727": {
          "model_module": "@jupyter-widgets/controls",
          "model_name": "HTMLModel",
          "model_module_version": "1.5.0",
          "state": {
            "_dom_classes": [],
            "_model_module": "@jupyter-widgets/controls",
            "_model_module_version": "1.5.0",
            "_model_name": "HTMLModel",
            "_view_count": null,
            "_view_module": "@jupyter-widgets/controls",
            "_view_module_version": "1.5.0",
            "_view_name": "HTMLView",
            "description": "",
            "description_tooltip": null,
            "layout": "IPY_MODEL_3d6c0ce9ddbf4c79b3edabb3dc6abc8b",
            "placeholder": "​",
            "style": "IPY_MODEL_43260ea648cc4aa199793ea87e445a1e",
            "value": "100%"
          }
        },
        "91dc544f7628479f96740cb4fcea1482": {
          "model_module": "@jupyter-widgets/controls",
          "model_name": "FloatProgressModel",
          "model_module_version": "1.5.0",
          "state": {
            "_dom_classes": [],
            "_model_module": "@jupyter-widgets/controls",
            "_model_module_version": "1.5.0",
            "_model_name": "FloatProgressModel",
            "_view_count": null,
            "_view_module": "@jupyter-widgets/controls",
            "_view_module_version": "1.5.0",
            "_view_name": "ProgressView",
            "bar_style": "success",
            "description": "",
            "description_tooltip": null,
            "layout": "IPY_MODEL_ba5e92e5ab784a9baee10b23ee98bf21",
            "max": 3,
            "min": 0,
            "orientation": "horizontal",
            "style": "IPY_MODEL_7628fd598e6c46da81cad525c8eac435",
            "value": 3
          }
        },
        "bff8da993ca54e3a8bc694486326ce41": {
          "model_module": "@jupyter-widgets/controls",
          "model_name": "HTMLModel",
          "model_module_version": "1.5.0",
          "state": {
            "_dom_classes": [],
            "_model_module": "@jupyter-widgets/controls",
            "_model_module_version": "1.5.0",
            "_model_name": "HTMLModel",
            "_view_count": null,
            "_view_module": "@jupyter-widgets/controls",
            "_view_module_version": "1.5.0",
            "_view_name": "HTMLView",
            "description": "",
            "description_tooltip": null,
            "layout": "IPY_MODEL_6c97dce9897941c1afc42b3d8d515d94",
            "placeholder": "​",
            "style": "IPY_MODEL_f8626ef157114aafb1e933a823e36709",
            "value": " 3/3 [00:00&lt;00:00, 33.52it/s]"
          }
        },
        "b5d41dfcf0de42559862df0390f2295b": {
          "model_module": "@jupyter-widgets/base",
          "model_name": "LayoutModel",
          "model_module_version": "1.2.0",
          "state": {
            "_model_module": "@jupyter-widgets/base",
            "_model_module_version": "1.2.0",
            "_model_name": "LayoutModel",
            "_view_count": null,
            "_view_module": "@jupyter-widgets/base",
            "_view_module_version": "1.2.0",
            "_view_name": "LayoutView",
            "align_content": null,
            "align_items": null,
            "align_self": null,
            "border": null,
            "bottom": null,
            "display": null,
            "flex": null,
            "flex_flow": null,
            "grid_area": null,
            "grid_auto_columns": null,
            "grid_auto_flow": null,
            "grid_auto_rows": null,
            "grid_column": null,
            "grid_gap": null,
            "grid_row": null,
            "grid_template_areas": null,
            "grid_template_columns": null,
            "grid_template_rows": null,
            "height": null,
            "justify_content": null,
            "justify_items": null,
            "left": null,
            "margin": null,
            "max_height": null,
            "max_width": null,
            "min_height": null,
            "min_width": null,
            "object_fit": null,
            "object_position": null,
            "order": null,
            "overflow": null,
            "overflow_x": null,
            "overflow_y": null,
            "padding": null,
            "right": null,
            "top": null,
            "visibility": null,
            "width": null
          }
        },
        "3d6c0ce9ddbf4c79b3edabb3dc6abc8b": {
          "model_module": "@jupyter-widgets/base",
          "model_name": "LayoutModel",
          "model_module_version": "1.2.0",
          "state": {
            "_model_module": "@jupyter-widgets/base",
            "_model_module_version": "1.2.0",
            "_model_name": "LayoutModel",
            "_view_count": null,
            "_view_module": "@jupyter-widgets/base",
            "_view_module_version": "1.2.0",
            "_view_name": "LayoutView",
            "align_content": null,
            "align_items": null,
            "align_self": null,
            "border": null,
            "bottom": null,
            "display": null,
            "flex": null,
            "flex_flow": null,
            "grid_area": null,
            "grid_auto_columns": null,
            "grid_auto_flow": null,
            "grid_auto_rows": null,
            "grid_column": null,
            "grid_gap": null,
            "grid_row": null,
            "grid_template_areas": null,
            "grid_template_columns": null,
            "grid_template_rows": null,
            "height": null,
            "justify_content": null,
            "justify_items": null,
            "left": null,
            "margin": null,
            "max_height": null,
            "max_width": null,
            "min_height": null,
            "min_width": null,
            "object_fit": null,
            "object_position": null,
            "order": null,
            "overflow": null,
            "overflow_x": null,
            "overflow_y": null,
            "padding": null,
            "right": null,
            "top": null,
            "visibility": null,
            "width": null
          }
        },
        "43260ea648cc4aa199793ea87e445a1e": {
          "model_module": "@jupyter-widgets/controls",
          "model_name": "DescriptionStyleModel",
          "model_module_version": "1.5.0",
          "state": {
            "_model_module": "@jupyter-widgets/controls",
            "_model_module_version": "1.5.0",
            "_model_name": "DescriptionStyleModel",
            "_view_count": null,
            "_view_module": "@jupyter-widgets/base",
            "_view_module_version": "1.2.0",
            "_view_name": "StyleView",
            "description_width": ""
          }
        },
        "ba5e92e5ab784a9baee10b23ee98bf21": {
          "model_module": "@jupyter-widgets/base",
          "model_name": "LayoutModel",
          "model_module_version": "1.2.0",
          "state": {
            "_model_module": "@jupyter-widgets/base",
            "_model_module_version": "1.2.0",
            "_model_name": "LayoutModel",
            "_view_count": null,
            "_view_module": "@jupyter-widgets/base",
            "_view_module_version": "1.2.0",
            "_view_name": "LayoutView",
            "align_content": null,
            "align_items": null,
            "align_self": null,
            "border": null,
            "bottom": null,
            "display": null,
            "flex": null,
            "flex_flow": null,
            "grid_area": null,
            "grid_auto_columns": null,
            "grid_auto_flow": null,
            "grid_auto_rows": null,
            "grid_column": null,
            "grid_gap": null,
            "grid_row": null,
            "grid_template_areas": null,
            "grid_template_columns": null,
            "grid_template_rows": null,
            "height": null,
            "justify_content": null,
            "justify_items": null,
            "left": null,
            "margin": null,
            "max_height": null,
            "max_width": null,
            "min_height": null,
            "min_width": null,
            "object_fit": null,
            "object_position": null,
            "order": null,
            "overflow": null,
            "overflow_x": null,
            "overflow_y": null,
            "padding": null,
            "right": null,
            "top": null,
            "visibility": null,
            "width": null
          }
        },
        "7628fd598e6c46da81cad525c8eac435": {
          "model_module": "@jupyter-widgets/controls",
          "model_name": "ProgressStyleModel",
          "model_module_version": "1.5.0",
          "state": {
            "_model_module": "@jupyter-widgets/controls",
            "_model_module_version": "1.5.0",
            "_model_name": "ProgressStyleModel",
            "_view_count": null,
            "_view_module": "@jupyter-widgets/base",
            "_view_module_version": "1.2.0",
            "_view_name": "StyleView",
            "bar_color": null,
            "description_width": ""
          }
        },
        "6c97dce9897941c1afc42b3d8d515d94": {
          "model_module": "@jupyter-widgets/base",
          "model_name": "LayoutModel",
          "model_module_version": "1.2.0",
          "state": {
            "_model_module": "@jupyter-widgets/base",
            "_model_module_version": "1.2.0",
            "_model_name": "LayoutModel",
            "_view_count": null,
            "_view_module": "@jupyter-widgets/base",
            "_view_module_version": "1.2.0",
            "_view_name": "LayoutView",
            "align_content": null,
            "align_items": null,
            "align_self": null,
            "border": null,
            "bottom": null,
            "display": null,
            "flex": null,
            "flex_flow": null,
            "grid_area": null,
            "grid_auto_columns": null,
            "grid_auto_flow": null,
            "grid_auto_rows": null,
            "grid_column": null,
            "grid_gap": null,
            "grid_row": null,
            "grid_template_areas": null,
            "grid_template_columns": null,
            "grid_template_rows": null,
            "height": null,
            "justify_content": null,
            "justify_items": null,
            "left": null,
            "margin": null,
            "max_height": null,
            "max_width": null,
            "min_height": null,
            "min_width": null,
            "object_fit": null,
            "object_position": null,
            "order": null,
            "overflow": null,
            "overflow_x": null,
            "overflow_y": null,
            "padding": null,
            "right": null,
            "top": null,
            "visibility": null,
            "width": null
          }
        },
        "f8626ef157114aafb1e933a823e36709": {
          "model_module": "@jupyter-widgets/controls",
          "model_name": "DescriptionStyleModel",
          "model_module_version": "1.5.0",
          "state": {
            "_model_module": "@jupyter-widgets/controls",
            "_model_module_version": "1.5.0",
            "_model_name": "DescriptionStyleModel",
            "_view_count": null,
            "_view_module": "@jupyter-widgets/base",
            "_view_module_version": "1.2.0",
            "_view_name": "StyleView",
            "description_width": ""
          }
        },
        "04322310ef104eb5b9776d88843d17cc": {
          "model_module": "@jupyter-widgets/controls",
          "model_name": "HBoxModel",
          "model_module_version": "1.5.0",
          "state": {
            "_dom_classes": [],
            "_model_module": "@jupyter-widgets/controls",
            "_model_module_version": "1.5.0",
            "_model_name": "HBoxModel",
            "_view_count": null,
            "_view_module": "@jupyter-widgets/controls",
            "_view_module_version": "1.5.0",
            "_view_name": "HBoxView",
            "box_style": "",
            "children": [
              "IPY_MODEL_40583b8387514b9ca9814cf896616e9f",
              "IPY_MODEL_bb9647d6bc2b4b9a8afc56403ce27ff2",
              "IPY_MODEL_8e5d7c9b05484a1faea0e09a9d7e7862"
            ],
            "layout": "IPY_MODEL_696fdc137b7d44f0b62dd56eafa69010"
          }
        },
        "40583b8387514b9ca9814cf896616e9f": {
          "model_module": "@jupyter-widgets/controls",
          "model_name": "HTMLModel",
          "model_module_version": "1.5.0",
          "state": {
            "_dom_classes": [],
            "_model_module": "@jupyter-widgets/controls",
            "_model_module_version": "1.5.0",
            "_model_name": "HTMLModel",
            "_view_count": null,
            "_view_module": "@jupyter-widgets/controls",
            "_view_module_version": "1.5.0",
            "_view_name": "HTMLView",
            "description": "",
            "description_tooltip": null,
            "layout": "IPY_MODEL_3e93efd82c8f4c01b296867e374c5c51",
            "placeholder": "​",
            "style": "IPY_MODEL_219951f5c2df43a8805c7b485cd271d9",
            "value": ""
          }
        },
        "bb9647d6bc2b4b9a8afc56403ce27ff2": {
          "model_module": "@jupyter-widgets/controls",
          "model_name": "FloatProgressModel",
          "model_module_version": "1.5.0",
          "state": {
            "_dom_classes": [],
            "_model_module": "@jupyter-widgets/controls",
            "_model_module_version": "1.5.0",
            "_model_name": "FloatProgressModel",
            "_view_count": null,
            "_view_module": "@jupyter-widgets/controls",
            "_view_module_version": "1.5.0",
            "_view_name": "ProgressView",
            "bar_style": "success",
            "description": "",
            "description_tooltip": null,
            "layout": "IPY_MODEL_2473676e577041548ae81fcfca98611f",
            "max": 1,
            "min": 0,
            "orientation": "horizontal",
            "style": "IPY_MODEL_026ec01a3ee04ab1bff1adcf72ca7e11",
            "value": 0
          }
        },
        "8e5d7c9b05484a1faea0e09a9d7e7862": {
          "model_module": "@jupyter-widgets/controls",
          "model_name": "HTMLModel",
          "model_module_version": "1.5.0",
          "state": {
            "_dom_classes": [],
            "_model_module": "@jupyter-widgets/controls",
            "_model_module_version": "1.5.0",
            "_model_name": "HTMLModel",
            "_view_count": null,
            "_view_module": "@jupyter-widgets/controls",
            "_view_module_version": "1.5.0",
            "_view_name": "HTMLView",
            "description": "",
            "description_tooltip": null,
            "layout": "IPY_MODEL_6d848c3881f24f0292e536be38250fed",
            "placeholder": "​",
            "style": "IPY_MODEL_882b0ce720444bbca6b6f18adb83f5fd",
            "value": " 0/0 [00:00&lt;?, ?it/s]"
          }
        },
        "696fdc137b7d44f0b62dd56eafa69010": {
          "model_module": "@jupyter-widgets/base",
          "model_name": "LayoutModel",
          "model_module_version": "1.2.0",
          "state": {
            "_model_module": "@jupyter-widgets/base",
            "_model_module_version": "1.2.0",
            "_model_name": "LayoutModel",
            "_view_count": null,
            "_view_module": "@jupyter-widgets/base",
            "_view_module_version": "1.2.0",
            "_view_name": "LayoutView",
            "align_content": null,
            "align_items": null,
            "align_self": null,
            "border": null,
            "bottom": null,
            "display": null,
            "flex": null,
            "flex_flow": null,
            "grid_area": null,
            "grid_auto_columns": null,
            "grid_auto_flow": null,
            "grid_auto_rows": null,
            "grid_column": null,
            "grid_gap": null,
            "grid_row": null,
            "grid_template_areas": null,
            "grid_template_columns": null,
            "grid_template_rows": null,
            "height": null,
            "justify_content": null,
            "justify_items": null,
            "left": null,
            "margin": null,
            "max_height": null,
            "max_width": null,
            "min_height": null,
            "min_width": null,
            "object_fit": null,
            "object_position": null,
            "order": null,
            "overflow": null,
            "overflow_x": null,
            "overflow_y": null,
            "padding": null,
            "right": null,
            "top": null,
            "visibility": null,
            "width": null
          }
        },
        "3e93efd82c8f4c01b296867e374c5c51": {
          "model_module": "@jupyter-widgets/base",
          "model_name": "LayoutModel",
          "model_module_version": "1.2.0",
          "state": {
            "_model_module": "@jupyter-widgets/base",
            "_model_module_version": "1.2.0",
            "_model_name": "LayoutModel",
            "_view_count": null,
            "_view_module": "@jupyter-widgets/base",
            "_view_module_version": "1.2.0",
            "_view_name": "LayoutView",
            "align_content": null,
            "align_items": null,
            "align_self": null,
            "border": null,
            "bottom": null,
            "display": null,
            "flex": null,
            "flex_flow": null,
            "grid_area": null,
            "grid_auto_columns": null,
            "grid_auto_flow": null,
            "grid_auto_rows": null,
            "grid_column": null,
            "grid_gap": null,
            "grid_row": null,
            "grid_template_areas": null,
            "grid_template_columns": null,
            "grid_template_rows": null,
            "height": null,
            "justify_content": null,
            "justify_items": null,
            "left": null,
            "margin": null,
            "max_height": null,
            "max_width": null,
            "min_height": null,
            "min_width": null,
            "object_fit": null,
            "object_position": null,
            "order": null,
            "overflow": null,
            "overflow_x": null,
            "overflow_y": null,
            "padding": null,
            "right": null,
            "top": null,
            "visibility": null,
            "width": null
          }
        },
        "219951f5c2df43a8805c7b485cd271d9": {
          "model_module": "@jupyter-widgets/controls",
          "model_name": "DescriptionStyleModel",
          "model_module_version": "1.5.0",
          "state": {
            "_model_module": "@jupyter-widgets/controls",
            "_model_module_version": "1.5.0",
            "_model_name": "DescriptionStyleModel",
            "_view_count": null,
            "_view_module": "@jupyter-widgets/base",
            "_view_module_version": "1.2.0",
            "_view_name": "StyleView",
            "description_width": ""
          }
        },
        "2473676e577041548ae81fcfca98611f": {
          "model_module": "@jupyter-widgets/base",
          "model_name": "LayoutModel",
          "model_module_version": "1.2.0",
          "state": {
            "_model_module": "@jupyter-widgets/base",
            "_model_module_version": "1.2.0",
            "_model_name": "LayoutModel",
            "_view_count": null,
            "_view_module": "@jupyter-widgets/base",
            "_view_module_version": "1.2.0",
            "_view_name": "LayoutView",
            "align_content": null,
            "align_items": null,
            "align_self": null,
            "border": null,
            "bottom": null,
            "display": null,
            "flex": null,
            "flex_flow": null,
            "grid_area": null,
            "grid_auto_columns": null,
            "grid_auto_flow": null,
            "grid_auto_rows": null,
            "grid_column": null,
            "grid_gap": null,
            "grid_row": null,
            "grid_template_areas": null,
            "grid_template_columns": null,
            "grid_template_rows": null,
            "height": null,
            "justify_content": null,
            "justify_items": null,
            "left": null,
            "margin": null,
            "max_height": null,
            "max_width": null,
            "min_height": null,
            "min_width": null,
            "object_fit": null,
            "object_position": null,
            "order": null,
            "overflow": null,
            "overflow_x": null,
            "overflow_y": null,
            "padding": null,
            "right": null,
            "top": null,
            "visibility": null,
            "width": "20px"
          }
        },
        "026ec01a3ee04ab1bff1adcf72ca7e11": {
          "model_module": "@jupyter-widgets/controls",
          "model_name": "ProgressStyleModel",
          "model_module_version": "1.5.0",
          "state": {
            "_model_module": "@jupyter-widgets/controls",
            "_model_module_version": "1.5.0",
            "_model_name": "ProgressStyleModel",
            "_view_count": null,
            "_view_module": "@jupyter-widgets/base",
            "_view_module_version": "1.2.0",
            "_view_name": "StyleView",
            "bar_color": null,
            "description_width": ""
          }
        },
        "6d848c3881f24f0292e536be38250fed": {
          "model_module": "@jupyter-widgets/base",
          "model_name": "LayoutModel",
          "model_module_version": "1.2.0",
          "state": {
            "_model_module": "@jupyter-widgets/base",
            "_model_module_version": "1.2.0",
            "_model_name": "LayoutModel",
            "_view_count": null,
            "_view_module": "@jupyter-widgets/base",
            "_view_module_version": "1.2.0",
            "_view_name": "LayoutView",
            "align_content": null,
            "align_items": null,
            "align_self": null,
            "border": null,
            "bottom": null,
            "display": null,
            "flex": null,
            "flex_flow": null,
            "grid_area": null,
            "grid_auto_columns": null,
            "grid_auto_flow": null,
            "grid_auto_rows": null,
            "grid_column": null,
            "grid_gap": null,
            "grid_row": null,
            "grid_template_areas": null,
            "grid_template_columns": null,
            "grid_template_rows": null,
            "height": null,
            "justify_content": null,
            "justify_items": null,
            "left": null,
            "margin": null,
            "max_height": null,
            "max_width": null,
            "min_height": null,
            "min_width": null,
            "object_fit": null,
            "object_position": null,
            "order": null,
            "overflow": null,
            "overflow_x": null,
            "overflow_y": null,
            "padding": null,
            "right": null,
            "top": null,
            "visibility": null,
            "width": null
          }
        },
        "882b0ce720444bbca6b6f18adb83f5fd": {
          "model_module": "@jupyter-widgets/controls",
          "model_name": "DescriptionStyleModel",
          "model_module_version": "1.5.0",
          "state": {
            "_model_module": "@jupyter-widgets/controls",
            "_model_module_version": "1.5.0",
            "_model_name": "DescriptionStyleModel",
            "_view_count": null,
            "_view_module": "@jupyter-widgets/base",
            "_view_module_version": "1.2.0",
            "_view_name": "StyleView",
            "description_width": ""
          }
        },
        "1db0358a524448ef974d1af9f63605d5": {
          "model_module": "@jupyter-widgets/controls",
          "model_name": "HBoxModel",
          "model_module_version": "1.5.0",
          "state": {
            "_dom_classes": [],
            "_model_module": "@jupyter-widgets/controls",
            "_model_module_version": "1.5.0",
            "_model_name": "HBoxModel",
            "_view_count": null,
            "_view_module": "@jupyter-widgets/controls",
            "_view_module_version": "1.5.0",
            "_view_name": "HBoxView",
            "box_style": "",
            "children": [
              "IPY_MODEL_08abbe23e503472894e43a07236924fe",
              "IPY_MODEL_1c0090f9b8e24b5c9d3bf88d9e3448a8",
              "IPY_MODEL_9cb2d9871cb545b1aa347534b418ed29"
            ],
            "layout": "IPY_MODEL_446a1775b16d4ceb8b114e683b9b5aa3"
          }
        },
        "08abbe23e503472894e43a07236924fe": {
          "model_module": "@jupyter-widgets/controls",
          "model_name": "HTMLModel",
          "model_module_version": "1.5.0",
          "state": {
            "_dom_classes": [],
            "_model_module": "@jupyter-widgets/controls",
            "_model_module_version": "1.5.0",
            "_model_name": "HTMLModel",
            "_view_count": null,
            "_view_module": "@jupyter-widgets/controls",
            "_view_module_version": "1.5.0",
            "_view_name": "HTMLView",
            "description": "",
            "description_tooltip": null,
            "layout": "IPY_MODEL_000b6bc0192d432d9b0aa14c245d5a48",
            "placeholder": "​",
            "style": "IPY_MODEL_b8992feb8d8e48d6ad80aa1b8d969c9a",
            "value": "100%"
          }
        },
        "1c0090f9b8e24b5c9d3bf88d9e3448a8": {
          "model_module": "@jupyter-widgets/controls",
          "model_name": "FloatProgressModel",
          "model_module_version": "1.5.0",
          "state": {
            "_dom_classes": [],
            "_model_module": "@jupyter-widgets/controls",
            "_model_module_version": "1.5.0",
            "_model_name": "FloatProgressModel",
            "_view_count": null,
            "_view_module": "@jupyter-widgets/controls",
            "_view_module_version": "1.5.0",
            "_view_name": "ProgressView",
            "bar_style": "success",
            "description": "",
            "description_tooltip": null,
            "layout": "IPY_MODEL_2b65440c5ec14cc1bcf4a064785aa719",
            "max": 25,
            "min": 0,
            "orientation": "horizontal",
            "style": "IPY_MODEL_5694b907e87948d5ba8c61cd579a97ae",
            "value": 25
          }
        },
        "9cb2d9871cb545b1aa347534b418ed29": {
          "model_module": "@jupyter-widgets/controls",
          "model_name": "HTMLModel",
          "model_module_version": "1.5.0",
          "state": {
            "_dom_classes": [],
            "_model_module": "@jupyter-widgets/controls",
            "_model_module_version": "1.5.0",
            "_model_name": "HTMLModel",
            "_view_count": null,
            "_view_module": "@jupyter-widgets/controls",
            "_view_module_version": "1.5.0",
            "_view_name": "HTMLView",
            "description": "",
            "description_tooltip": null,
            "layout": "IPY_MODEL_d554fc9dcd4a40819ac8b60b308cc732",
            "placeholder": "​",
            "style": "IPY_MODEL_280518b2229f4cddb31621477992c121",
            "value": " 25/25 [00:23&lt;00:00,  1.16s/ba]"
          }
        },
        "446a1775b16d4ceb8b114e683b9b5aa3": {
          "model_module": "@jupyter-widgets/base",
          "model_name": "LayoutModel",
          "model_module_version": "1.2.0",
          "state": {
            "_model_module": "@jupyter-widgets/base",
            "_model_module_version": "1.2.0",
            "_model_name": "LayoutModel",
            "_view_count": null,
            "_view_module": "@jupyter-widgets/base",
            "_view_module_version": "1.2.0",
            "_view_name": "LayoutView",
            "align_content": null,
            "align_items": null,
            "align_self": null,
            "border": null,
            "bottom": null,
            "display": null,
            "flex": null,
            "flex_flow": null,
            "grid_area": null,
            "grid_auto_columns": null,
            "grid_auto_flow": null,
            "grid_auto_rows": null,
            "grid_column": null,
            "grid_gap": null,
            "grid_row": null,
            "grid_template_areas": null,
            "grid_template_columns": null,
            "grid_template_rows": null,
            "height": null,
            "justify_content": null,
            "justify_items": null,
            "left": null,
            "margin": null,
            "max_height": null,
            "max_width": null,
            "min_height": null,
            "min_width": null,
            "object_fit": null,
            "object_position": null,
            "order": null,
            "overflow": null,
            "overflow_x": null,
            "overflow_y": null,
            "padding": null,
            "right": null,
            "top": null,
            "visibility": null,
            "width": null
          }
        },
        "000b6bc0192d432d9b0aa14c245d5a48": {
          "model_module": "@jupyter-widgets/base",
          "model_name": "LayoutModel",
          "model_module_version": "1.2.0",
          "state": {
            "_model_module": "@jupyter-widgets/base",
            "_model_module_version": "1.2.0",
            "_model_name": "LayoutModel",
            "_view_count": null,
            "_view_module": "@jupyter-widgets/base",
            "_view_module_version": "1.2.0",
            "_view_name": "LayoutView",
            "align_content": null,
            "align_items": null,
            "align_self": null,
            "border": null,
            "bottom": null,
            "display": null,
            "flex": null,
            "flex_flow": null,
            "grid_area": null,
            "grid_auto_columns": null,
            "grid_auto_flow": null,
            "grid_auto_rows": null,
            "grid_column": null,
            "grid_gap": null,
            "grid_row": null,
            "grid_template_areas": null,
            "grid_template_columns": null,
            "grid_template_rows": null,
            "height": null,
            "justify_content": null,
            "justify_items": null,
            "left": null,
            "margin": null,
            "max_height": null,
            "max_width": null,
            "min_height": null,
            "min_width": null,
            "object_fit": null,
            "object_position": null,
            "order": null,
            "overflow": null,
            "overflow_x": null,
            "overflow_y": null,
            "padding": null,
            "right": null,
            "top": null,
            "visibility": null,
            "width": null
          }
        },
        "b8992feb8d8e48d6ad80aa1b8d969c9a": {
          "model_module": "@jupyter-widgets/controls",
          "model_name": "DescriptionStyleModel",
          "model_module_version": "1.5.0",
          "state": {
            "_model_module": "@jupyter-widgets/controls",
            "_model_module_version": "1.5.0",
            "_model_name": "DescriptionStyleModel",
            "_view_count": null,
            "_view_module": "@jupyter-widgets/base",
            "_view_module_version": "1.2.0",
            "_view_name": "StyleView",
            "description_width": ""
          }
        },
        "2b65440c5ec14cc1bcf4a064785aa719": {
          "model_module": "@jupyter-widgets/base",
          "model_name": "LayoutModel",
          "model_module_version": "1.2.0",
          "state": {
            "_model_module": "@jupyter-widgets/base",
            "_model_module_version": "1.2.0",
            "_model_name": "LayoutModel",
            "_view_count": null,
            "_view_module": "@jupyter-widgets/base",
            "_view_module_version": "1.2.0",
            "_view_name": "LayoutView",
            "align_content": null,
            "align_items": null,
            "align_self": null,
            "border": null,
            "bottom": null,
            "display": null,
            "flex": null,
            "flex_flow": null,
            "grid_area": null,
            "grid_auto_columns": null,
            "grid_auto_flow": null,
            "grid_auto_rows": null,
            "grid_column": null,
            "grid_gap": null,
            "grid_row": null,
            "grid_template_areas": null,
            "grid_template_columns": null,
            "grid_template_rows": null,
            "height": null,
            "justify_content": null,
            "justify_items": null,
            "left": null,
            "margin": null,
            "max_height": null,
            "max_width": null,
            "min_height": null,
            "min_width": null,
            "object_fit": null,
            "object_position": null,
            "order": null,
            "overflow": null,
            "overflow_x": null,
            "overflow_y": null,
            "padding": null,
            "right": null,
            "top": null,
            "visibility": null,
            "width": null
          }
        },
        "5694b907e87948d5ba8c61cd579a97ae": {
          "model_module": "@jupyter-widgets/controls",
          "model_name": "ProgressStyleModel",
          "model_module_version": "1.5.0",
          "state": {
            "_model_module": "@jupyter-widgets/controls",
            "_model_module_version": "1.5.0",
            "_model_name": "ProgressStyleModel",
            "_view_count": null,
            "_view_module": "@jupyter-widgets/base",
            "_view_module_version": "1.2.0",
            "_view_name": "StyleView",
            "bar_color": null,
            "description_width": ""
          }
        },
        "d554fc9dcd4a40819ac8b60b308cc732": {
          "model_module": "@jupyter-widgets/base",
          "model_name": "LayoutModel",
          "model_module_version": "1.2.0",
          "state": {
            "_model_module": "@jupyter-widgets/base",
            "_model_module_version": "1.2.0",
            "_model_name": "LayoutModel",
            "_view_count": null,
            "_view_module": "@jupyter-widgets/base",
            "_view_module_version": "1.2.0",
            "_view_name": "LayoutView",
            "align_content": null,
            "align_items": null,
            "align_self": null,
            "border": null,
            "bottom": null,
            "display": null,
            "flex": null,
            "flex_flow": null,
            "grid_area": null,
            "grid_auto_columns": null,
            "grid_auto_flow": null,
            "grid_auto_rows": null,
            "grid_column": null,
            "grid_gap": null,
            "grid_row": null,
            "grid_template_areas": null,
            "grid_template_columns": null,
            "grid_template_rows": null,
            "height": null,
            "justify_content": null,
            "justify_items": null,
            "left": null,
            "margin": null,
            "max_height": null,
            "max_width": null,
            "min_height": null,
            "min_width": null,
            "object_fit": null,
            "object_position": null,
            "order": null,
            "overflow": null,
            "overflow_x": null,
            "overflow_y": null,
            "padding": null,
            "right": null,
            "top": null,
            "visibility": null,
            "width": null
          }
        },
        "280518b2229f4cddb31621477992c121": {
          "model_module": "@jupyter-widgets/controls",
          "model_name": "DescriptionStyleModel",
          "model_module_version": "1.5.0",
          "state": {
            "_model_module": "@jupyter-widgets/controls",
            "_model_module_version": "1.5.0",
            "_model_name": "DescriptionStyleModel",
            "_view_count": null,
            "_view_module": "@jupyter-widgets/base",
            "_view_module_version": "1.2.0",
            "_view_name": "StyleView",
            "description_width": ""
          }
        },
        "8190e9e562d540819ec640dd0f809ded": {
          "model_module": "@jupyter-widgets/controls",
          "model_name": "HBoxModel",
          "model_module_version": "1.5.0",
          "state": {
            "_dom_classes": [],
            "_model_module": "@jupyter-widgets/controls",
            "_model_module_version": "1.5.0",
            "_model_name": "HBoxModel",
            "_view_count": null,
            "_view_module": "@jupyter-widgets/controls",
            "_view_module_version": "1.5.0",
            "_view_name": "HBoxView",
            "box_style": "",
            "children": [
              "IPY_MODEL_bf92b52500c940eca66a65e232f0ec32",
              "IPY_MODEL_f2e0a3be1c744368a620ddb5850fff84",
              "IPY_MODEL_90db579d31ad481fabbdf47220267cc3"
            ],
            "layout": "IPY_MODEL_dbb820fca35d4efcb98ebdd77931f3c1"
          }
        },
        "bf92b52500c940eca66a65e232f0ec32": {
          "model_module": "@jupyter-widgets/controls",
          "model_name": "HTMLModel",
          "model_module_version": "1.5.0",
          "state": {
            "_dom_classes": [],
            "_model_module": "@jupyter-widgets/controls",
            "_model_module_version": "1.5.0",
            "_model_name": "HTMLModel",
            "_view_count": null,
            "_view_module": "@jupyter-widgets/controls",
            "_view_module_version": "1.5.0",
            "_view_name": "HTMLView",
            "description": "",
            "description_tooltip": null,
            "layout": "IPY_MODEL_9906b2aaa1774314a5b6adf4a63ccf7d",
            "placeholder": "​",
            "style": "IPY_MODEL_6501b1bd87df4441a7918d7c5a0bd1ef",
            "value": "100%"
          }
        },
        "f2e0a3be1c744368a620ddb5850fff84": {
          "model_module": "@jupyter-widgets/controls",
          "model_name": "FloatProgressModel",
          "model_module_version": "1.5.0",
          "state": {
            "_dom_classes": [],
            "_model_module": "@jupyter-widgets/controls",
            "_model_module_version": "1.5.0",
            "_model_name": "FloatProgressModel",
            "_view_count": null,
            "_view_module": "@jupyter-widgets/controls",
            "_view_module_version": "1.5.0",
            "_view_name": "ProgressView",
            "bar_style": "success",
            "description": "",
            "description_tooltip": null,
            "layout": "IPY_MODEL_fb2865096c6841a185094fcd4d47a4dc",
            "max": 16,
            "min": 0,
            "orientation": "horizontal",
            "style": "IPY_MODEL_ebab0f32cace45b1823bac3796d86669",
            "value": 16
          }
        },
        "90db579d31ad481fabbdf47220267cc3": {
          "model_module": "@jupyter-widgets/controls",
          "model_name": "HTMLModel",
          "model_module_version": "1.5.0",
          "state": {
            "_dom_classes": [],
            "_model_module": "@jupyter-widgets/controls",
            "_model_module_version": "1.5.0",
            "_model_name": "HTMLModel",
            "_view_count": null,
            "_view_module": "@jupyter-widgets/controls",
            "_view_module_version": "1.5.0",
            "_view_name": "HTMLView",
            "description": "",
            "description_tooltip": null,
            "layout": "IPY_MODEL_09fae49193704dbf85e9ad9cb2d2a3cf",
            "placeholder": "​",
            "style": "IPY_MODEL_3f2dd96856fc47d7b53105dd58708dd1",
            "value": " 16/16 [00:30&lt;00:00,  2.01s/it]"
          }
        },
        "dbb820fca35d4efcb98ebdd77931f3c1": {
          "model_module": "@jupyter-widgets/base",
          "model_name": "LayoutModel",
          "model_module_version": "1.2.0",
          "state": {
            "_model_module": "@jupyter-widgets/base",
            "_model_module_version": "1.2.0",
            "_model_name": "LayoutModel",
            "_view_count": null,
            "_view_module": "@jupyter-widgets/base",
            "_view_module_version": "1.2.0",
            "_view_name": "LayoutView",
            "align_content": null,
            "align_items": null,
            "align_self": null,
            "border": null,
            "bottom": null,
            "display": null,
            "flex": null,
            "flex_flow": null,
            "grid_area": null,
            "grid_auto_columns": null,
            "grid_auto_flow": null,
            "grid_auto_rows": null,
            "grid_column": null,
            "grid_gap": null,
            "grid_row": null,
            "grid_template_areas": null,
            "grid_template_columns": null,
            "grid_template_rows": null,
            "height": null,
            "justify_content": null,
            "justify_items": null,
            "left": null,
            "margin": null,
            "max_height": null,
            "max_width": null,
            "min_height": null,
            "min_width": null,
            "object_fit": null,
            "object_position": null,
            "order": null,
            "overflow": null,
            "overflow_x": null,
            "overflow_y": null,
            "padding": null,
            "right": null,
            "top": null,
            "visibility": null,
            "width": null
          }
        },
        "9906b2aaa1774314a5b6adf4a63ccf7d": {
          "model_module": "@jupyter-widgets/base",
          "model_name": "LayoutModel",
          "model_module_version": "1.2.0",
          "state": {
            "_model_module": "@jupyter-widgets/base",
            "_model_module_version": "1.2.0",
            "_model_name": "LayoutModel",
            "_view_count": null,
            "_view_module": "@jupyter-widgets/base",
            "_view_module_version": "1.2.0",
            "_view_name": "LayoutView",
            "align_content": null,
            "align_items": null,
            "align_self": null,
            "border": null,
            "bottom": null,
            "display": null,
            "flex": null,
            "flex_flow": null,
            "grid_area": null,
            "grid_auto_columns": null,
            "grid_auto_flow": null,
            "grid_auto_rows": null,
            "grid_column": null,
            "grid_gap": null,
            "grid_row": null,
            "grid_template_areas": null,
            "grid_template_columns": null,
            "grid_template_rows": null,
            "height": null,
            "justify_content": null,
            "justify_items": null,
            "left": null,
            "margin": null,
            "max_height": null,
            "max_width": null,
            "min_height": null,
            "min_width": null,
            "object_fit": null,
            "object_position": null,
            "order": null,
            "overflow": null,
            "overflow_x": null,
            "overflow_y": null,
            "padding": null,
            "right": null,
            "top": null,
            "visibility": null,
            "width": null
          }
        },
        "6501b1bd87df4441a7918d7c5a0bd1ef": {
          "model_module": "@jupyter-widgets/controls",
          "model_name": "DescriptionStyleModel",
          "model_module_version": "1.5.0",
          "state": {
            "_model_module": "@jupyter-widgets/controls",
            "_model_module_version": "1.5.0",
            "_model_name": "DescriptionStyleModel",
            "_view_count": null,
            "_view_module": "@jupyter-widgets/base",
            "_view_module_version": "1.2.0",
            "_view_name": "StyleView",
            "description_width": ""
          }
        },
        "fb2865096c6841a185094fcd4d47a4dc": {
          "model_module": "@jupyter-widgets/base",
          "model_name": "LayoutModel",
          "model_module_version": "1.2.0",
          "state": {
            "_model_module": "@jupyter-widgets/base",
            "_model_module_version": "1.2.0",
            "_model_name": "LayoutModel",
            "_view_count": null,
            "_view_module": "@jupyter-widgets/base",
            "_view_module_version": "1.2.0",
            "_view_name": "LayoutView",
            "align_content": null,
            "align_items": null,
            "align_self": null,
            "border": null,
            "bottom": null,
            "display": null,
            "flex": null,
            "flex_flow": null,
            "grid_area": null,
            "grid_auto_columns": null,
            "grid_auto_flow": null,
            "grid_auto_rows": null,
            "grid_column": null,
            "grid_gap": null,
            "grid_row": null,
            "grid_template_areas": null,
            "grid_template_columns": null,
            "grid_template_rows": null,
            "height": null,
            "justify_content": null,
            "justify_items": null,
            "left": null,
            "margin": null,
            "max_height": null,
            "max_width": null,
            "min_height": null,
            "min_width": null,
            "object_fit": null,
            "object_position": null,
            "order": null,
            "overflow": null,
            "overflow_x": null,
            "overflow_y": null,
            "padding": null,
            "right": null,
            "top": null,
            "visibility": null,
            "width": null
          }
        },
        "ebab0f32cace45b1823bac3796d86669": {
          "model_module": "@jupyter-widgets/controls",
          "model_name": "ProgressStyleModel",
          "model_module_version": "1.5.0",
          "state": {
            "_model_module": "@jupyter-widgets/controls",
            "_model_module_version": "1.5.0",
            "_model_name": "ProgressStyleModel",
            "_view_count": null,
            "_view_module": "@jupyter-widgets/base",
            "_view_module_version": "1.2.0",
            "_view_name": "StyleView",
            "bar_color": null,
            "description_width": ""
          }
        },
        "09fae49193704dbf85e9ad9cb2d2a3cf": {
          "model_module": "@jupyter-widgets/base",
          "model_name": "LayoutModel",
          "model_module_version": "1.2.0",
          "state": {
            "_model_module": "@jupyter-widgets/base",
            "_model_module_version": "1.2.0",
            "_model_name": "LayoutModel",
            "_view_count": null,
            "_view_module": "@jupyter-widgets/base",
            "_view_module_version": "1.2.0",
            "_view_name": "LayoutView",
            "align_content": null,
            "align_items": null,
            "align_self": null,
            "border": null,
            "bottom": null,
            "display": null,
            "flex": null,
            "flex_flow": null,
            "grid_area": null,
            "grid_auto_columns": null,
            "grid_auto_flow": null,
            "grid_auto_rows": null,
            "grid_column": null,
            "grid_gap": null,
            "grid_row": null,
            "grid_template_areas": null,
            "grid_template_columns": null,
            "grid_template_rows": null,
            "height": null,
            "justify_content": null,
            "justify_items": null,
            "left": null,
            "margin": null,
            "max_height": null,
            "max_width": null,
            "min_height": null,
            "min_width": null,
            "object_fit": null,
            "object_position": null,
            "order": null,
            "overflow": null,
            "overflow_x": null,
            "overflow_y": null,
            "padding": null,
            "right": null,
            "top": null,
            "visibility": null,
            "width": null
          }
        },
        "3f2dd96856fc47d7b53105dd58708dd1": {
          "model_module": "@jupyter-widgets/controls",
          "model_name": "DescriptionStyleModel",
          "model_module_version": "1.5.0",
          "state": {
            "_model_module": "@jupyter-widgets/controls",
            "_model_module_version": "1.5.0",
            "_model_name": "DescriptionStyleModel",
            "_view_count": null,
            "_view_module": "@jupyter-widgets/base",
            "_view_module_version": "1.2.0",
            "_view_name": "StyleView",
            "description_width": ""
          }
        },
        "2f6baf7fad7a45fd9dd302e8b893b098": {
          "model_module": "@jupyter-widgets/controls",
          "model_name": "HBoxModel",
          "model_module_version": "1.5.0",
          "state": {
            "_dom_classes": [],
            "_model_module": "@jupyter-widgets/controls",
            "_model_module_version": "1.5.0",
            "_model_name": "HBoxModel",
            "_view_count": null,
            "_view_module": "@jupyter-widgets/controls",
            "_view_module_version": "1.5.0",
            "_view_name": "HBoxView",
            "box_style": "",
            "children": [
              "IPY_MODEL_5abea1ad84fa436abb33df34e2475e7d",
              "IPY_MODEL_a75b55dd6a18402b86b0df2c3d9ec5f6",
              "IPY_MODEL_ec02fd39e935435199f17d92f7c8adea"
            ],
            "layout": "IPY_MODEL_0895a26bc013466382e150908723b30c"
          }
        },
        "5abea1ad84fa436abb33df34e2475e7d": {
          "model_module": "@jupyter-widgets/controls",
          "model_name": "HTMLModel",
          "model_module_version": "1.5.0",
          "state": {
            "_dom_classes": [],
            "_model_module": "@jupyter-widgets/controls",
            "_model_module_version": "1.5.0",
            "_model_name": "HTMLModel",
            "_view_count": null,
            "_view_module": "@jupyter-widgets/controls",
            "_view_module_version": "1.5.0",
            "_view_name": "HTMLView",
            "description": "",
            "description_tooltip": null,
            "layout": "IPY_MODEL_50a5d40a313a404da35728c36d2946be",
            "placeholder": "​",
            "style": "IPY_MODEL_7cc3e043b15a48ffa8afc3822f427ec6",
            "value": "100%"
          }
        },
        "a75b55dd6a18402b86b0df2c3d9ec5f6": {
          "model_module": "@jupyter-widgets/controls",
          "model_name": "FloatProgressModel",
          "model_module_version": "1.5.0",
          "state": {
            "_dom_classes": [],
            "_model_module": "@jupyter-widgets/controls",
            "_model_module_version": "1.5.0",
            "_model_name": "FloatProgressModel",
            "_view_count": null,
            "_view_module": "@jupyter-widgets/controls",
            "_view_module_version": "1.5.0",
            "_view_name": "ProgressView",
            "bar_style": "success",
            "description": "",
            "description_tooltip": null,
            "layout": "IPY_MODEL_914acee00b6b4697bbc43072d0fee792",
            "max": 16,
            "min": 0,
            "orientation": "horizontal",
            "style": "IPY_MODEL_9a155a571ccd41e499fd63076cce5df4",
            "value": 16
          }
        },
        "ec02fd39e935435199f17d92f7c8adea": {
          "model_module": "@jupyter-widgets/controls",
          "model_name": "HTMLModel",
          "model_module_version": "1.5.0",
          "state": {
            "_dom_classes": [],
            "_model_module": "@jupyter-widgets/controls",
            "_model_module_version": "1.5.0",
            "_model_name": "HTMLModel",
            "_view_count": null,
            "_view_module": "@jupyter-widgets/controls",
            "_view_module_version": "1.5.0",
            "_view_name": "HTMLView",
            "description": "",
            "description_tooltip": null,
            "layout": "IPY_MODEL_99c9cb4c33cc4c0f97d1cab081e2727c",
            "placeholder": "​",
            "style": "IPY_MODEL_dfb875d4db714f1fbc366e893f487260",
            "value": " 16/16 [00:31&lt;00:00,  2.10s/it]"
          }
        },
        "0895a26bc013466382e150908723b30c": {
          "model_module": "@jupyter-widgets/base",
          "model_name": "LayoutModel",
          "model_module_version": "1.2.0",
          "state": {
            "_model_module": "@jupyter-widgets/base",
            "_model_module_version": "1.2.0",
            "_model_name": "LayoutModel",
            "_view_count": null,
            "_view_module": "@jupyter-widgets/base",
            "_view_module_version": "1.2.0",
            "_view_name": "LayoutView",
            "align_content": null,
            "align_items": null,
            "align_self": null,
            "border": null,
            "bottom": null,
            "display": null,
            "flex": null,
            "flex_flow": null,
            "grid_area": null,
            "grid_auto_columns": null,
            "grid_auto_flow": null,
            "grid_auto_rows": null,
            "grid_column": null,
            "grid_gap": null,
            "grid_row": null,
            "grid_template_areas": null,
            "grid_template_columns": null,
            "grid_template_rows": null,
            "height": null,
            "justify_content": null,
            "justify_items": null,
            "left": null,
            "margin": null,
            "max_height": null,
            "max_width": null,
            "min_height": null,
            "min_width": null,
            "object_fit": null,
            "object_position": null,
            "order": null,
            "overflow": null,
            "overflow_x": null,
            "overflow_y": null,
            "padding": null,
            "right": null,
            "top": null,
            "visibility": null,
            "width": null
          }
        },
        "50a5d40a313a404da35728c36d2946be": {
          "model_module": "@jupyter-widgets/base",
          "model_name": "LayoutModel",
          "model_module_version": "1.2.0",
          "state": {
            "_model_module": "@jupyter-widgets/base",
            "_model_module_version": "1.2.0",
            "_model_name": "LayoutModel",
            "_view_count": null,
            "_view_module": "@jupyter-widgets/base",
            "_view_module_version": "1.2.0",
            "_view_name": "LayoutView",
            "align_content": null,
            "align_items": null,
            "align_self": null,
            "border": null,
            "bottom": null,
            "display": null,
            "flex": null,
            "flex_flow": null,
            "grid_area": null,
            "grid_auto_columns": null,
            "grid_auto_flow": null,
            "grid_auto_rows": null,
            "grid_column": null,
            "grid_gap": null,
            "grid_row": null,
            "grid_template_areas": null,
            "grid_template_columns": null,
            "grid_template_rows": null,
            "height": null,
            "justify_content": null,
            "justify_items": null,
            "left": null,
            "margin": null,
            "max_height": null,
            "max_width": null,
            "min_height": null,
            "min_width": null,
            "object_fit": null,
            "object_position": null,
            "order": null,
            "overflow": null,
            "overflow_x": null,
            "overflow_y": null,
            "padding": null,
            "right": null,
            "top": null,
            "visibility": null,
            "width": null
          }
        },
        "7cc3e043b15a48ffa8afc3822f427ec6": {
          "model_module": "@jupyter-widgets/controls",
          "model_name": "DescriptionStyleModel",
          "model_module_version": "1.5.0",
          "state": {
            "_model_module": "@jupyter-widgets/controls",
            "_model_module_version": "1.5.0",
            "_model_name": "DescriptionStyleModel",
            "_view_count": null,
            "_view_module": "@jupyter-widgets/base",
            "_view_module_version": "1.2.0",
            "_view_name": "StyleView",
            "description_width": ""
          }
        },
        "914acee00b6b4697bbc43072d0fee792": {
          "model_module": "@jupyter-widgets/base",
          "model_name": "LayoutModel",
          "model_module_version": "1.2.0",
          "state": {
            "_model_module": "@jupyter-widgets/base",
            "_model_module_version": "1.2.0",
            "_model_name": "LayoutModel",
            "_view_count": null,
            "_view_module": "@jupyter-widgets/base",
            "_view_module_version": "1.2.0",
            "_view_name": "LayoutView",
            "align_content": null,
            "align_items": null,
            "align_self": null,
            "border": null,
            "bottom": null,
            "display": null,
            "flex": null,
            "flex_flow": null,
            "grid_area": null,
            "grid_auto_columns": null,
            "grid_auto_flow": null,
            "grid_auto_rows": null,
            "grid_column": null,
            "grid_gap": null,
            "grid_row": null,
            "grid_template_areas": null,
            "grid_template_columns": null,
            "grid_template_rows": null,
            "height": null,
            "justify_content": null,
            "justify_items": null,
            "left": null,
            "margin": null,
            "max_height": null,
            "max_width": null,
            "min_height": null,
            "min_width": null,
            "object_fit": null,
            "object_position": null,
            "order": null,
            "overflow": null,
            "overflow_x": null,
            "overflow_y": null,
            "padding": null,
            "right": null,
            "top": null,
            "visibility": null,
            "width": null
          }
        },
        "9a155a571ccd41e499fd63076cce5df4": {
          "model_module": "@jupyter-widgets/controls",
          "model_name": "ProgressStyleModel",
          "model_module_version": "1.5.0",
          "state": {
            "_model_module": "@jupyter-widgets/controls",
            "_model_module_version": "1.5.0",
            "_model_name": "ProgressStyleModel",
            "_view_count": null,
            "_view_module": "@jupyter-widgets/base",
            "_view_module_version": "1.2.0",
            "_view_name": "StyleView",
            "bar_color": null,
            "description_width": ""
          }
        },
        "99c9cb4c33cc4c0f97d1cab081e2727c": {
          "model_module": "@jupyter-widgets/base",
          "model_name": "LayoutModel",
          "model_module_version": "1.2.0",
          "state": {
            "_model_module": "@jupyter-widgets/base",
            "_model_module_version": "1.2.0",
            "_model_name": "LayoutModel",
            "_view_count": null,
            "_view_module": "@jupyter-widgets/base",
            "_view_module_version": "1.2.0",
            "_view_name": "LayoutView",
            "align_content": null,
            "align_items": null,
            "align_self": null,
            "border": null,
            "bottom": null,
            "display": null,
            "flex": null,
            "flex_flow": null,
            "grid_area": null,
            "grid_auto_columns": null,
            "grid_auto_flow": null,
            "grid_auto_rows": null,
            "grid_column": null,
            "grid_gap": null,
            "grid_row": null,
            "grid_template_areas": null,
            "grid_template_columns": null,
            "grid_template_rows": null,
            "height": null,
            "justify_content": null,
            "justify_items": null,
            "left": null,
            "margin": null,
            "max_height": null,
            "max_width": null,
            "min_height": null,
            "min_width": null,
            "object_fit": null,
            "object_position": null,
            "order": null,
            "overflow": null,
            "overflow_x": null,
            "overflow_y": null,
            "padding": null,
            "right": null,
            "top": null,
            "visibility": null,
            "width": null
          }
        },
        "dfb875d4db714f1fbc366e893f487260": {
          "model_module": "@jupyter-widgets/controls",
          "model_name": "DescriptionStyleModel",
          "model_module_version": "1.5.0",
          "state": {
            "_model_module": "@jupyter-widgets/controls",
            "_model_module_version": "1.5.0",
            "_model_name": "DescriptionStyleModel",
            "_view_count": null,
            "_view_module": "@jupyter-widgets/base",
            "_view_module_version": "1.2.0",
            "_view_name": "StyleView",
            "description_width": ""
          }
        },
        "27219391f36940b487fed64b90a2720a": {
          "model_module": "@jupyter-widgets/controls",
          "model_name": "HBoxModel",
          "model_module_version": "1.5.0",
          "state": {
            "_dom_classes": [],
            "_model_module": "@jupyter-widgets/controls",
            "_model_module_version": "1.5.0",
            "_model_name": "HBoxModel",
            "_view_count": null,
            "_view_module": "@jupyter-widgets/controls",
            "_view_module_version": "1.5.0",
            "_view_name": "HBoxView",
            "box_style": "",
            "children": [
              "IPY_MODEL_932fb3de275f4b939847b25d3018e818",
              "IPY_MODEL_6fa7a598ab76485bb22ec2d198adee2d",
              "IPY_MODEL_dc6175f5ad8a4b54b137688423e634ee"
            ],
            "layout": "IPY_MODEL_7645eba65bf94c29b8165f812a5e4cae"
          }
        },
        "932fb3de275f4b939847b25d3018e818": {
          "model_module": "@jupyter-widgets/controls",
          "model_name": "HTMLModel",
          "model_module_version": "1.5.0",
          "state": {
            "_dom_classes": [],
            "_model_module": "@jupyter-widgets/controls",
            "_model_module_version": "1.5.0",
            "_model_name": "HTMLModel",
            "_view_count": null,
            "_view_module": "@jupyter-widgets/controls",
            "_view_module_version": "1.5.0",
            "_view_name": "HTMLView",
            "description": "",
            "description_tooltip": null,
            "layout": "IPY_MODEL_5c26f2d0ce8b4cd2aecb55b9a5083113",
            "placeholder": "​",
            "style": "IPY_MODEL_ead8aadda2174a738ae968c4920545de",
            "value": "100%"
          }
        },
        "6fa7a598ab76485bb22ec2d198adee2d": {
          "model_module": "@jupyter-widgets/controls",
          "model_name": "FloatProgressModel",
          "model_module_version": "1.5.0",
          "state": {
            "_dom_classes": [],
            "_model_module": "@jupyter-widgets/controls",
            "_model_module_version": "1.5.0",
            "_model_name": "FloatProgressModel",
            "_view_count": null,
            "_view_module": "@jupyter-widgets/controls",
            "_view_module_version": "1.5.0",
            "_view_name": "ProgressView",
            "bar_style": "success",
            "description": "",
            "description_tooltip": null,
            "layout": "IPY_MODEL_ff31b05013aa40d5a216ff46a0aee33e",
            "max": 16,
            "min": 0,
            "orientation": "horizontal",
            "style": "IPY_MODEL_16db37d8f4894eedb3337f10405160b6",
            "value": 16
          }
        },
        "dc6175f5ad8a4b54b137688423e634ee": {
          "model_module": "@jupyter-widgets/controls",
          "model_name": "HTMLModel",
          "model_module_version": "1.5.0",
          "state": {
            "_dom_classes": [],
            "_model_module": "@jupyter-widgets/controls",
            "_model_module_version": "1.5.0",
            "_model_name": "HTMLModel",
            "_view_count": null,
            "_view_module": "@jupyter-widgets/controls",
            "_view_module_version": "1.5.0",
            "_view_name": "HTMLView",
            "description": "",
            "description_tooltip": null,
            "layout": "IPY_MODEL_68bbf68d52744681a2d166a05fa7fe66",
            "placeholder": "​",
            "style": "IPY_MODEL_037bc82667af4a7a8377d8deb3ab55a3",
            "value": " 16/16 [00:31&lt;00:00,  2.10s/it]"
          }
        },
        "7645eba65bf94c29b8165f812a5e4cae": {
          "model_module": "@jupyter-widgets/base",
          "model_name": "LayoutModel",
          "model_module_version": "1.2.0",
          "state": {
            "_model_module": "@jupyter-widgets/base",
            "_model_module_version": "1.2.0",
            "_model_name": "LayoutModel",
            "_view_count": null,
            "_view_module": "@jupyter-widgets/base",
            "_view_module_version": "1.2.0",
            "_view_name": "LayoutView",
            "align_content": null,
            "align_items": null,
            "align_self": null,
            "border": null,
            "bottom": null,
            "display": null,
            "flex": null,
            "flex_flow": null,
            "grid_area": null,
            "grid_auto_columns": null,
            "grid_auto_flow": null,
            "grid_auto_rows": null,
            "grid_column": null,
            "grid_gap": null,
            "grid_row": null,
            "grid_template_areas": null,
            "grid_template_columns": null,
            "grid_template_rows": null,
            "height": null,
            "justify_content": null,
            "justify_items": null,
            "left": null,
            "margin": null,
            "max_height": null,
            "max_width": null,
            "min_height": null,
            "min_width": null,
            "object_fit": null,
            "object_position": null,
            "order": null,
            "overflow": null,
            "overflow_x": null,
            "overflow_y": null,
            "padding": null,
            "right": null,
            "top": null,
            "visibility": null,
            "width": null
          }
        },
        "5c26f2d0ce8b4cd2aecb55b9a5083113": {
          "model_module": "@jupyter-widgets/base",
          "model_name": "LayoutModel",
          "model_module_version": "1.2.0",
          "state": {
            "_model_module": "@jupyter-widgets/base",
            "_model_module_version": "1.2.0",
            "_model_name": "LayoutModel",
            "_view_count": null,
            "_view_module": "@jupyter-widgets/base",
            "_view_module_version": "1.2.0",
            "_view_name": "LayoutView",
            "align_content": null,
            "align_items": null,
            "align_self": null,
            "border": null,
            "bottom": null,
            "display": null,
            "flex": null,
            "flex_flow": null,
            "grid_area": null,
            "grid_auto_columns": null,
            "grid_auto_flow": null,
            "grid_auto_rows": null,
            "grid_column": null,
            "grid_gap": null,
            "grid_row": null,
            "grid_template_areas": null,
            "grid_template_columns": null,
            "grid_template_rows": null,
            "height": null,
            "justify_content": null,
            "justify_items": null,
            "left": null,
            "margin": null,
            "max_height": null,
            "max_width": null,
            "min_height": null,
            "min_width": null,
            "object_fit": null,
            "object_position": null,
            "order": null,
            "overflow": null,
            "overflow_x": null,
            "overflow_y": null,
            "padding": null,
            "right": null,
            "top": null,
            "visibility": null,
            "width": null
          }
        },
        "ead8aadda2174a738ae968c4920545de": {
          "model_module": "@jupyter-widgets/controls",
          "model_name": "DescriptionStyleModel",
          "model_module_version": "1.5.0",
          "state": {
            "_model_module": "@jupyter-widgets/controls",
            "_model_module_version": "1.5.0",
            "_model_name": "DescriptionStyleModel",
            "_view_count": null,
            "_view_module": "@jupyter-widgets/base",
            "_view_module_version": "1.2.0",
            "_view_name": "StyleView",
            "description_width": ""
          }
        },
        "ff31b05013aa40d5a216ff46a0aee33e": {
          "model_module": "@jupyter-widgets/base",
          "model_name": "LayoutModel",
          "model_module_version": "1.2.0",
          "state": {
            "_model_module": "@jupyter-widgets/base",
            "_model_module_version": "1.2.0",
            "_model_name": "LayoutModel",
            "_view_count": null,
            "_view_module": "@jupyter-widgets/base",
            "_view_module_version": "1.2.0",
            "_view_name": "LayoutView",
            "align_content": null,
            "align_items": null,
            "align_self": null,
            "border": null,
            "bottom": null,
            "display": null,
            "flex": null,
            "flex_flow": null,
            "grid_area": null,
            "grid_auto_columns": null,
            "grid_auto_flow": null,
            "grid_auto_rows": null,
            "grid_column": null,
            "grid_gap": null,
            "grid_row": null,
            "grid_template_areas": null,
            "grid_template_columns": null,
            "grid_template_rows": null,
            "height": null,
            "justify_content": null,
            "justify_items": null,
            "left": null,
            "margin": null,
            "max_height": null,
            "max_width": null,
            "min_height": null,
            "min_width": null,
            "object_fit": null,
            "object_position": null,
            "order": null,
            "overflow": null,
            "overflow_x": null,
            "overflow_y": null,
            "padding": null,
            "right": null,
            "top": null,
            "visibility": null,
            "width": null
          }
        },
        "16db37d8f4894eedb3337f10405160b6": {
          "model_module": "@jupyter-widgets/controls",
          "model_name": "ProgressStyleModel",
          "model_module_version": "1.5.0",
          "state": {
            "_model_module": "@jupyter-widgets/controls",
            "_model_module_version": "1.5.0",
            "_model_name": "ProgressStyleModel",
            "_view_count": null,
            "_view_module": "@jupyter-widgets/base",
            "_view_module_version": "1.2.0",
            "_view_name": "StyleView",
            "bar_color": null,
            "description_width": ""
          }
        },
        "68bbf68d52744681a2d166a05fa7fe66": {
          "model_module": "@jupyter-widgets/base",
          "model_name": "LayoutModel",
          "model_module_version": "1.2.0",
          "state": {
            "_model_module": "@jupyter-widgets/base",
            "_model_module_version": "1.2.0",
            "_model_name": "LayoutModel",
            "_view_count": null,
            "_view_module": "@jupyter-widgets/base",
            "_view_module_version": "1.2.0",
            "_view_name": "LayoutView",
            "align_content": null,
            "align_items": null,
            "align_self": null,
            "border": null,
            "bottom": null,
            "display": null,
            "flex": null,
            "flex_flow": null,
            "grid_area": null,
            "grid_auto_columns": null,
            "grid_auto_flow": null,
            "grid_auto_rows": null,
            "grid_column": null,
            "grid_gap": null,
            "grid_row": null,
            "grid_template_areas": null,
            "grid_template_columns": null,
            "grid_template_rows": null,
            "height": null,
            "justify_content": null,
            "justify_items": null,
            "left": null,
            "margin": null,
            "max_height": null,
            "max_width": null,
            "min_height": null,
            "min_width": null,
            "object_fit": null,
            "object_position": null,
            "order": null,
            "overflow": null,
            "overflow_x": null,
            "overflow_y": null,
            "padding": null,
            "right": null,
            "top": null,
            "visibility": null,
            "width": null
          }
        },
        "037bc82667af4a7a8377d8deb3ab55a3": {
          "model_module": "@jupyter-widgets/controls",
          "model_name": "DescriptionStyleModel",
          "model_module_version": "1.5.0",
          "state": {
            "_model_module": "@jupyter-widgets/controls",
            "_model_module_version": "1.5.0",
            "_model_name": "DescriptionStyleModel",
            "_view_count": null,
            "_view_module": "@jupyter-widgets/base",
            "_view_module_version": "1.2.0",
            "_view_name": "StyleView",
            "description_width": ""
          }
        },
        "4b2154864c4f4031ba9f898c7c37b0af": {
          "model_module": "@jupyter-widgets/controls",
          "model_name": "HBoxModel",
          "model_module_version": "1.5.0",
          "state": {
            "_dom_classes": [],
            "_model_module": "@jupyter-widgets/controls",
            "_model_module_version": "1.5.0",
            "_model_name": "HBoxModel",
            "_view_count": null,
            "_view_module": "@jupyter-widgets/controls",
            "_view_module_version": "1.5.0",
            "_view_name": "HBoxView",
            "box_style": "",
            "children": [
              "IPY_MODEL_0f81579f79b041d0a45361d1686bbbee",
              "IPY_MODEL_b6f88c184dda4409b3da8dc54e7e8f49",
              "IPY_MODEL_30626985c7f141e6a12b2ede5a15ef66"
            ],
            "layout": "IPY_MODEL_a351bd866e2d4e08b999de7325de0e43"
          }
        },
        "0f81579f79b041d0a45361d1686bbbee": {
          "model_module": "@jupyter-widgets/controls",
          "model_name": "HTMLModel",
          "model_module_version": "1.5.0",
          "state": {
            "_dom_classes": [],
            "_model_module": "@jupyter-widgets/controls",
            "_model_module_version": "1.5.0",
            "_model_name": "HTMLModel",
            "_view_count": null,
            "_view_module": "@jupyter-widgets/controls",
            "_view_module_version": "1.5.0",
            "_view_name": "HTMLView",
            "description": "",
            "description_tooltip": null,
            "layout": "IPY_MODEL_a9cbd7c627254ee4ab2d3e2a1d7f5431",
            "placeholder": "​",
            "style": "IPY_MODEL_99082d1e625f488784d77c3c52ac06ce",
            "value": "100%"
          }
        },
        "b6f88c184dda4409b3da8dc54e7e8f49": {
          "model_module": "@jupyter-widgets/controls",
          "model_name": "FloatProgressModel",
          "model_module_version": "1.5.0",
          "state": {
            "_dom_classes": [],
            "_model_module": "@jupyter-widgets/controls",
            "_model_module_version": "1.5.0",
            "_model_name": "FloatProgressModel",
            "_view_count": null,
            "_view_module": "@jupyter-widgets/controls",
            "_view_module_version": "1.5.0",
            "_view_name": "ProgressView",
            "bar_style": "success",
            "description": "",
            "description_tooltip": null,
            "layout": "IPY_MODEL_092bae6894444a0b8fb9923062d806ef",
            "max": 16,
            "min": 0,
            "orientation": "horizontal",
            "style": "IPY_MODEL_b8ac48d4c2ba47caa13078671145f362",
            "value": 16
          }
        },
        "30626985c7f141e6a12b2ede5a15ef66": {
          "model_module": "@jupyter-widgets/controls",
          "model_name": "HTMLModel",
          "model_module_version": "1.5.0",
          "state": {
            "_dom_classes": [],
            "_model_module": "@jupyter-widgets/controls",
            "_model_module_version": "1.5.0",
            "_model_name": "HTMLModel",
            "_view_count": null,
            "_view_module": "@jupyter-widgets/controls",
            "_view_module_version": "1.5.0",
            "_view_name": "HTMLView",
            "description": "",
            "description_tooltip": null,
            "layout": "IPY_MODEL_2a38160e9cd14caba8c5a7cdeee57e2d",
            "placeholder": "​",
            "style": "IPY_MODEL_8608f510c03b4a9da031ced24ec64dfa",
            "value": " 16/16 [00:31&lt;00:00,  2.08s/it]"
          }
        },
        "a351bd866e2d4e08b999de7325de0e43": {
          "model_module": "@jupyter-widgets/base",
          "model_name": "LayoutModel",
          "model_module_version": "1.2.0",
          "state": {
            "_model_module": "@jupyter-widgets/base",
            "_model_module_version": "1.2.0",
            "_model_name": "LayoutModel",
            "_view_count": null,
            "_view_module": "@jupyter-widgets/base",
            "_view_module_version": "1.2.0",
            "_view_name": "LayoutView",
            "align_content": null,
            "align_items": null,
            "align_self": null,
            "border": null,
            "bottom": null,
            "display": null,
            "flex": null,
            "flex_flow": null,
            "grid_area": null,
            "grid_auto_columns": null,
            "grid_auto_flow": null,
            "grid_auto_rows": null,
            "grid_column": null,
            "grid_gap": null,
            "grid_row": null,
            "grid_template_areas": null,
            "grid_template_columns": null,
            "grid_template_rows": null,
            "height": null,
            "justify_content": null,
            "justify_items": null,
            "left": null,
            "margin": null,
            "max_height": null,
            "max_width": null,
            "min_height": null,
            "min_width": null,
            "object_fit": null,
            "object_position": null,
            "order": null,
            "overflow": null,
            "overflow_x": null,
            "overflow_y": null,
            "padding": null,
            "right": null,
            "top": null,
            "visibility": null,
            "width": null
          }
        },
        "a9cbd7c627254ee4ab2d3e2a1d7f5431": {
          "model_module": "@jupyter-widgets/base",
          "model_name": "LayoutModel",
          "model_module_version": "1.2.0",
          "state": {
            "_model_module": "@jupyter-widgets/base",
            "_model_module_version": "1.2.0",
            "_model_name": "LayoutModel",
            "_view_count": null,
            "_view_module": "@jupyter-widgets/base",
            "_view_module_version": "1.2.0",
            "_view_name": "LayoutView",
            "align_content": null,
            "align_items": null,
            "align_self": null,
            "border": null,
            "bottom": null,
            "display": null,
            "flex": null,
            "flex_flow": null,
            "grid_area": null,
            "grid_auto_columns": null,
            "grid_auto_flow": null,
            "grid_auto_rows": null,
            "grid_column": null,
            "grid_gap": null,
            "grid_row": null,
            "grid_template_areas": null,
            "grid_template_columns": null,
            "grid_template_rows": null,
            "height": null,
            "justify_content": null,
            "justify_items": null,
            "left": null,
            "margin": null,
            "max_height": null,
            "max_width": null,
            "min_height": null,
            "min_width": null,
            "object_fit": null,
            "object_position": null,
            "order": null,
            "overflow": null,
            "overflow_x": null,
            "overflow_y": null,
            "padding": null,
            "right": null,
            "top": null,
            "visibility": null,
            "width": null
          }
        },
        "99082d1e625f488784d77c3c52ac06ce": {
          "model_module": "@jupyter-widgets/controls",
          "model_name": "DescriptionStyleModel",
          "model_module_version": "1.5.0",
          "state": {
            "_model_module": "@jupyter-widgets/controls",
            "_model_module_version": "1.5.0",
            "_model_name": "DescriptionStyleModel",
            "_view_count": null,
            "_view_module": "@jupyter-widgets/base",
            "_view_module_version": "1.2.0",
            "_view_name": "StyleView",
            "description_width": ""
          }
        },
        "092bae6894444a0b8fb9923062d806ef": {
          "model_module": "@jupyter-widgets/base",
          "model_name": "LayoutModel",
          "model_module_version": "1.2.0",
          "state": {
            "_model_module": "@jupyter-widgets/base",
            "_model_module_version": "1.2.0",
            "_model_name": "LayoutModel",
            "_view_count": null,
            "_view_module": "@jupyter-widgets/base",
            "_view_module_version": "1.2.0",
            "_view_name": "LayoutView",
            "align_content": null,
            "align_items": null,
            "align_self": null,
            "border": null,
            "bottom": null,
            "display": null,
            "flex": null,
            "flex_flow": null,
            "grid_area": null,
            "grid_auto_columns": null,
            "grid_auto_flow": null,
            "grid_auto_rows": null,
            "grid_column": null,
            "grid_gap": null,
            "grid_row": null,
            "grid_template_areas": null,
            "grid_template_columns": null,
            "grid_template_rows": null,
            "height": null,
            "justify_content": null,
            "justify_items": null,
            "left": null,
            "margin": null,
            "max_height": null,
            "max_width": null,
            "min_height": null,
            "min_width": null,
            "object_fit": null,
            "object_position": null,
            "order": null,
            "overflow": null,
            "overflow_x": null,
            "overflow_y": null,
            "padding": null,
            "right": null,
            "top": null,
            "visibility": null,
            "width": null
          }
        },
        "b8ac48d4c2ba47caa13078671145f362": {
          "model_module": "@jupyter-widgets/controls",
          "model_name": "ProgressStyleModel",
          "model_module_version": "1.5.0",
          "state": {
            "_model_module": "@jupyter-widgets/controls",
            "_model_module_version": "1.5.0",
            "_model_name": "ProgressStyleModel",
            "_view_count": null,
            "_view_module": "@jupyter-widgets/base",
            "_view_module_version": "1.2.0",
            "_view_name": "StyleView",
            "bar_color": null,
            "description_width": ""
          }
        },
        "2a38160e9cd14caba8c5a7cdeee57e2d": {
          "model_module": "@jupyter-widgets/base",
          "model_name": "LayoutModel",
          "model_module_version": "1.2.0",
          "state": {
            "_model_module": "@jupyter-widgets/base",
            "_model_module_version": "1.2.0",
            "_model_name": "LayoutModel",
            "_view_count": null,
            "_view_module": "@jupyter-widgets/base",
            "_view_module_version": "1.2.0",
            "_view_name": "LayoutView",
            "align_content": null,
            "align_items": null,
            "align_self": null,
            "border": null,
            "bottom": null,
            "display": null,
            "flex": null,
            "flex_flow": null,
            "grid_area": null,
            "grid_auto_columns": null,
            "grid_auto_flow": null,
            "grid_auto_rows": null,
            "grid_column": null,
            "grid_gap": null,
            "grid_row": null,
            "grid_template_areas": null,
            "grid_template_columns": null,
            "grid_template_rows": null,
            "height": null,
            "justify_content": null,
            "justify_items": null,
            "left": null,
            "margin": null,
            "max_height": null,
            "max_width": null,
            "min_height": null,
            "min_width": null,
            "object_fit": null,
            "object_position": null,
            "order": null,
            "overflow": null,
            "overflow_x": null,
            "overflow_y": null,
            "padding": null,
            "right": null,
            "top": null,
            "visibility": null,
            "width": null
          }
        },
        "8608f510c03b4a9da031ced24ec64dfa": {
          "model_module": "@jupyter-widgets/controls",
          "model_name": "DescriptionStyleModel",
          "model_module_version": "1.5.0",
          "state": {
            "_model_module": "@jupyter-widgets/controls",
            "_model_module_version": "1.5.0",
            "_model_name": "DescriptionStyleModel",
            "_view_count": null,
            "_view_module": "@jupyter-widgets/base",
            "_view_module_version": "1.2.0",
            "_view_name": "StyleView",
            "description_width": ""
          }
        },
        "9fc6736191b74f92b0683f59a9196fa1": {
          "model_module": "@jupyter-widgets/controls",
          "model_name": "HBoxModel",
          "model_module_version": "1.5.0",
          "state": {
            "_dom_classes": [],
            "_model_module": "@jupyter-widgets/controls",
            "_model_module_version": "1.5.0",
            "_model_name": "HBoxModel",
            "_view_count": null,
            "_view_module": "@jupyter-widgets/controls",
            "_view_module_version": "1.5.0",
            "_view_name": "HBoxView",
            "box_style": "",
            "children": [
              "IPY_MODEL_ca73416aa9df49609369f7401c9bf05c",
              "IPY_MODEL_d13a1d56fda9427580e23be78a6569de",
              "IPY_MODEL_09911d3d4f7d46dcb7970a061e548929"
            ],
            "layout": "IPY_MODEL_43c6051c1ce04519bddc18ec1cca2b55"
          }
        },
        "ca73416aa9df49609369f7401c9bf05c": {
          "model_module": "@jupyter-widgets/controls",
          "model_name": "HTMLModel",
          "model_module_version": "1.5.0",
          "state": {
            "_dom_classes": [],
            "_model_module": "@jupyter-widgets/controls",
            "_model_module_version": "1.5.0",
            "_model_name": "HTMLModel",
            "_view_count": null,
            "_view_module": "@jupyter-widgets/controls",
            "_view_module_version": "1.5.0",
            "_view_name": "HTMLView",
            "description": "",
            "description_tooltip": null,
            "layout": "IPY_MODEL_c0499fd35409469d9e1d43b1765d06ee",
            "placeholder": "​",
            "style": "IPY_MODEL_ee5ab82f0d8044829ab748820f2ca9c7",
            "value": "100%"
          }
        },
        "d13a1d56fda9427580e23be78a6569de": {
          "model_module": "@jupyter-widgets/controls",
          "model_name": "FloatProgressModel",
          "model_module_version": "1.5.0",
          "state": {
            "_dom_classes": [],
            "_model_module": "@jupyter-widgets/controls",
            "_model_module_version": "1.5.0",
            "_model_name": "FloatProgressModel",
            "_view_count": null,
            "_view_module": "@jupyter-widgets/controls",
            "_view_module_version": "1.5.0",
            "_view_name": "ProgressView",
            "bar_style": "success",
            "description": "",
            "description_tooltip": null,
            "layout": "IPY_MODEL_8d431d6f06b341f7be6f54186ec6a8d1",
            "max": 16,
            "min": 0,
            "orientation": "horizontal",
            "style": "IPY_MODEL_380889b07c0e41b3b74fdc17efdd4475",
            "value": 16
          }
        },
        "09911d3d4f7d46dcb7970a061e548929": {
          "model_module": "@jupyter-widgets/controls",
          "model_name": "HTMLModel",
          "model_module_version": "1.5.0",
          "state": {
            "_dom_classes": [],
            "_model_module": "@jupyter-widgets/controls",
            "_model_module_version": "1.5.0",
            "_model_name": "HTMLModel",
            "_view_count": null,
            "_view_module": "@jupyter-widgets/controls",
            "_view_module_version": "1.5.0",
            "_view_name": "HTMLView",
            "description": "",
            "description_tooltip": null,
            "layout": "IPY_MODEL_aa238ccd1341456993ec571a7d2b23c3",
            "placeholder": "​",
            "style": "IPY_MODEL_c712566069bc484280e186826057148c",
            "value": " 16/16 [00:31&lt;00:00,  2.10s/it]"
          }
        },
        "43c6051c1ce04519bddc18ec1cca2b55": {
          "model_module": "@jupyter-widgets/base",
          "model_name": "LayoutModel",
          "model_module_version": "1.2.0",
          "state": {
            "_model_module": "@jupyter-widgets/base",
            "_model_module_version": "1.2.0",
            "_model_name": "LayoutModel",
            "_view_count": null,
            "_view_module": "@jupyter-widgets/base",
            "_view_module_version": "1.2.0",
            "_view_name": "LayoutView",
            "align_content": null,
            "align_items": null,
            "align_self": null,
            "border": null,
            "bottom": null,
            "display": null,
            "flex": null,
            "flex_flow": null,
            "grid_area": null,
            "grid_auto_columns": null,
            "grid_auto_flow": null,
            "grid_auto_rows": null,
            "grid_column": null,
            "grid_gap": null,
            "grid_row": null,
            "grid_template_areas": null,
            "grid_template_columns": null,
            "grid_template_rows": null,
            "height": null,
            "justify_content": null,
            "justify_items": null,
            "left": null,
            "margin": null,
            "max_height": null,
            "max_width": null,
            "min_height": null,
            "min_width": null,
            "object_fit": null,
            "object_position": null,
            "order": null,
            "overflow": null,
            "overflow_x": null,
            "overflow_y": null,
            "padding": null,
            "right": null,
            "top": null,
            "visibility": null,
            "width": null
          }
        },
        "c0499fd35409469d9e1d43b1765d06ee": {
          "model_module": "@jupyter-widgets/base",
          "model_name": "LayoutModel",
          "model_module_version": "1.2.0",
          "state": {
            "_model_module": "@jupyter-widgets/base",
            "_model_module_version": "1.2.0",
            "_model_name": "LayoutModel",
            "_view_count": null,
            "_view_module": "@jupyter-widgets/base",
            "_view_module_version": "1.2.0",
            "_view_name": "LayoutView",
            "align_content": null,
            "align_items": null,
            "align_self": null,
            "border": null,
            "bottom": null,
            "display": null,
            "flex": null,
            "flex_flow": null,
            "grid_area": null,
            "grid_auto_columns": null,
            "grid_auto_flow": null,
            "grid_auto_rows": null,
            "grid_column": null,
            "grid_gap": null,
            "grid_row": null,
            "grid_template_areas": null,
            "grid_template_columns": null,
            "grid_template_rows": null,
            "height": null,
            "justify_content": null,
            "justify_items": null,
            "left": null,
            "margin": null,
            "max_height": null,
            "max_width": null,
            "min_height": null,
            "min_width": null,
            "object_fit": null,
            "object_position": null,
            "order": null,
            "overflow": null,
            "overflow_x": null,
            "overflow_y": null,
            "padding": null,
            "right": null,
            "top": null,
            "visibility": null,
            "width": null
          }
        },
        "ee5ab82f0d8044829ab748820f2ca9c7": {
          "model_module": "@jupyter-widgets/controls",
          "model_name": "DescriptionStyleModel",
          "model_module_version": "1.5.0",
          "state": {
            "_model_module": "@jupyter-widgets/controls",
            "_model_module_version": "1.5.0",
            "_model_name": "DescriptionStyleModel",
            "_view_count": null,
            "_view_module": "@jupyter-widgets/base",
            "_view_module_version": "1.2.0",
            "_view_name": "StyleView",
            "description_width": ""
          }
        },
        "8d431d6f06b341f7be6f54186ec6a8d1": {
          "model_module": "@jupyter-widgets/base",
          "model_name": "LayoutModel",
          "model_module_version": "1.2.0",
          "state": {
            "_model_module": "@jupyter-widgets/base",
            "_model_module_version": "1.2.0",
            "_model_name": "LayoutModel",
            "_view_count": null,
            "_view_module": "@jupyter-widgets/base",
            "_view_module_version": "1.2.0",
            "_view_name": "LayoutView",
            "align_content": null,
            "align_items": null,
            "align_self": null,
            "border": null,
            "bottom": null,
            "display": null,
            "flex": null,
            "flex_flow": null,
            "grid_area": null,
            "grid_auto_columns": null,
            "grid_auto_flow": null,
            "grid_auto_rows": null,
            "grid_column": null,
            "grid_gap": null,
            "grid_row": null,
            "grid_template_areas": null,
            "grid_template_columns": null,
            "grid_template_rows": null,
            "height": null,
            "justify_content": null,
            "justify_items": null,
            "left": null,
            "margin": null,
            "max_height": null,
            "max_width": null,
            "min_height": null,
            "min_width": null,
            "object_fit": null,
            "object_position": null,
            "order": null,
            "overflow": null,
            "overflow_x": null,
            "overflow_y": null,
            "padding": null,
            "right": null,
            "top": null,
            "visibility": null,
            "width": null
          }
        },
        "380889b07c0e41b3b74fdc17efdd4475": {
          "model_module": "@jupyter-widgets/controls",
          "model_name": "ProgressStyleModel",
          "model_module_version": "1.5.0",
          "state": {
            "_model_module": "@jupyter-widgets/controls",
            "_model_module_version": "1.5.0",
            "_model_name": "ProgressStyleModel",
            "_view_count": null,
            "_view_module": "@jupyter-widgets/base",
            "_view_module_version": "1.2.0",
            "_view_name": "StyleView",
            "bar_color": null,
            "description_width": ""
          }
        },
        "aa238ccd1341456993ec571a7d2b23c3": {
          "model_module": "@jupyter-widgets/base",
          "model_name": "LayoutModel",
          "model_module_version": "1.2.0",
          "state": {
            "_model_module": "@jupyter-widgets/base",
            "_model_module_version": "1.2.0",
            "_model_name": "LayoutModel",
            "_view_count": null,
            "_view_module": "@jupyter-widgets/base",
            "_view_module_version": "1.2.0",
            "_view_name": "LayoutView",
            "align_content": null,
            "align_items": null,
            "align_self": null,
            "border": null,
            "bottom": null,
            "display": null,
            "flex": null,
            "flex_flow": null,
            "grid_area": null,
            "grid_auto_columns": null,
            "grid_auto_flow": null,
            "grid_auto_rows": null,
            "grid_column": null,
            "grid_gap": null,
            "grid_row": null,
            "grid_template_areas": null,
            "grid_template_columns": null,
            "grid_template_rows": null,
            "height": null,
            "justify_content": null,
            "justify_items": null,
            "left": null,
            "margin": null,
            "max_height": null,
            "max_width": null,
            "min_height": null,
            "min_width": null,
            "object_fit": null,
            "object_position": null,
            "order": null,
            "overflow": null,
            "overflow_x": null,
            "overflow_y": null,
            "padding": null,
            "right": null,
            "top": null,
            "visibility": null,
            "width": null
          }
        },
        "c712566069bc484280e186826057148c": {
          "model_module": "@jupyter-widgets/controls",
          "model_name": "DescriptionStyleModel",
          "model_module_version": "1.5.0",
          "state": {
            "_model_module": "@jupyter-widgets/controls",
            "_model_module_version": "1.5.0",
            "_model_name": "DescriptionStyleModel",
            "_view_count": null,
            "_view_module": "@jupyter-widgets/base",
            "_view_module_version": "1.2.0",
            "_view_name": "StyleView",
            "description_width": ""
          }
        },
        "aa5c47f948d548cca7fa82c4e1e48ccd": {
          "model_module": "@jupyter-widgets/controls",
          "model_name": "HBoxModel",
          "model_module_version": "1.5.0",
          "state": {
            "_dom_classes": [],
            "_model_module": "@jupyter-widgets/controls",
            "_model_module_version": "1.5.0",
            "_model_name": "HBoxModel",
            "_view_count": null,
            "_view_module": "@jupyter-widgets/controls",
            "_view_module_version": "1.5.0",
            "_view_name": "HBoxView",
            "box_style": "",
            "children": [
              "IPY_MODEL_73393e076a2840c7b8a04ae9bb17e273",
              "IPY_MODEL_4e4f2b5adbb94f08bb4209c331ff81ed",
              "IPY_MODEL_e09ac13a7329461ca379adcdcfe9dd92"
            ],
            "layout": "IPY_MODEL_65bae9b56d084df1a90f415c68222630"
          }
        },
        "73393e076a2840c7b8a04ae9bb17e273": {
          "model_module": "@jupyter-widgets/controls",
          "model_name": "HTMLModel",
          "model_module_version": "1.5.0",
          "state": {
            "_dom_classes": [],
            "_model_module": "@jupyter-widgets/controls",
            "_model_module_version": "1.5.0",
            "_model_name": "HTMLModel",
            "_view_count": null,
            "_view_module": "@jupyter-widgets/controls",
            "_view_module_version": "1.5.0",
            "_view_name": "HTMLView",
            "description": "",
            "description_tooltip": null,
            "layout": "IPY_MODEL_99b50bf0878b4328a9da21e091e29a1a",
            "placeholder": "​",
            "style": "IPY_MODEL_7f30b43018c242dfbd0a76a8d5f6d25d",
            "value": "Downloading: 100%"
          }
        },
        "4e4f2b5adbb94f08bb4209c331ff81ed": {
          "model_module": "@jupyter-widgets/controls",
          "model_name": "FloatProgressModel",
          "model_module_version": "1.5.0",
          "state": {
            "_dom_classes": [],
            "_model_module": "@jupyter-widgets/controls",
            "_model_module_version": "1.5.0",
            "_model_name": "FloatProgressModel",
            "_view_count": null,
            "_view_module": "@jupyter-widgets/controls",
            "_view_module_version": "1.5.0",
            "_view_name": "ProgressView",
            "bar_style": "success",
            "description": "",
            "description_tooltip": null,
            "layout": "IPY_MODEL_53357b2aba574511a7e298abed153543",
            "max": 435779157,
            "min": 0,
            "orientation": "horizontal",
            "style": "IPY_MODEL_b373b214e7684a45b7e5d688e81b7a78",
            "value": 435779157
          }
        },
        "e09ac13a7329461ca379adcdcfe9dd92": {
          "model_module": "@jupyter-widgets/controls",
          "model_name": "HTMLModel",
          "model_module_version": "1.5.0",
          "state": {
            "_dom_classes": [],
            "_model_module": "@jupyter-widgets/controls",
            "_model_module_version": "1.5.0",
            "_model_name": "HTMLModel",
            "_view_count": null,
            "_view_module": "@jupyter-widgets/controls",
            "_view_module_version": "1.5.0",
            "_view_name": "HTMLView",
            "description": "",
            "description_tooltip": null,
            "layout": "IPY_MODEL_f5777a2abc99410797e865c1fc1d9d2d",
            "placeholder": "​",
            "style": "IPY_MODEL_4fe64042b35b48c2beadef35ef98da28",
            "value": " 436M/436M [00:09&lt;00:00, 36.3MB/s]"
          }
        },
        "65bae9b56d084df1a90f415c68222630": {
          "model_module": "@jupyter-widgets/base",
          "model_name": "LayoutModel",
          "model_module_version": "1.2.0",
          "state": {
            "_model_module": "@jupyter-widgets/base",
            "_model_module_version": "1.2.0",
            "_model_name": "LayoutModel",
            "_view_count": null,
            "_view_module": "@jupyter-widgets/base",
            "_view_module_version": "1.2.0",
            "_view_name": "LayoutView",
            "align_content": null,
            "align_items": null,
            "align_self": null,
            "border": null,
            "bottom": null,
            "display": null,
            "flex": null,
            "flex_flow": null,
            "grid_area": null,
            "grid_auto_columns": null,
            "grid_auto_flow": null,
            "grid_auto_rows": null,
            "grid_column": null,
            "grid_gap": null,
            "grid_row": null,
            "grid_template_areas": null,
            "grid_template_columns": null,
            "grid_template_rows": null,
            "height": null,
            "justify_content": null,
            "justify_items": null,
            "left": null,
            "margin": null,
            "max_height": null,
            "max_width": null,
            "min_height": null,
            "min_width": null,
            "object_fit": null,
            "object_position": null,
            "order": null,
            "overflow": null,
            "overflow_x": null,
            "overflow_y": null,
            "padding": null,
            "right": null,
            "top": null,
            "visibility": null,
            "width": null
          }
        },
        "99b50bf0878b4328a9da21e091e29a1a": {
          "model_module": "@jupyter-widgets/base",
          "model_name": "LayoutModel",
          "model_module_version": "1.2.0",
          "state": {
            "_model_module": "@jupyter-widgets/base",
            "_model_module_version": "1.2.0",
            "_model_name": "LayoutModel",
            "_view_count": null,
            "_view_module": "@jupyter-widgets/base",
            "_view_module_version": "1.2.0",
            "_view_name": "LayoutView",
            "align_content": null,
            "align_items": null,
            "align_self": null,
            "border": null,
            "bottom": null,
            "display": null,
            "flex": null,
            "flex_flow": null,
            "grid_area": null,
            "grid_auto_columns": null,
            "grid_auto_flow": null,
            "grid_auto_rows": null,
            "grid_column": null,
            "grid_gap": null,
            "grid_row": null,
            "grid_template_areas": null,
            "grid_template_columns": null,
            "grid_template_rows": null,
            "height": null,
            "justify_content": null,
            "justify_items": null,
            "left": null,
            "margin": null,
            "max_height": null,
            "max_width": null,
            "min_height": null,
            "min_width": null,
            "object_fit": null,
            "object_position": null,
            "order": null,
            "overflow": null,
            "overflow_x": null,
            "overflow_y": null,
            "padding": null,
            "right": null,
            "top": null,
            "visibility": null,
            "width": null
          }
        },
        "7f30b43018c242dfbd0a76a8d5f6d25d": {
          "model_module": "@jupyter-widgets/controls",
          "model_name": "DescriptionStyleModel",
          "model_module_version": "1.5.0",
          "state": {
            "_model_module": "@jupyter-widgets/controls",
            "_model_module_version": "1.5.0",
            "_model_name": "DescriptionStyleModel",
            "_view_count": null,
            "_view_module": "@jupyter-widgets/base",
            "_view_module_version": "1.2.0",
            "_view_name": "StyleView",
            "description_width": ""
          }
        },
        "53357b2aba574511a7e298abed153543": {
          "model_module": "@jupyter-widgets/base",
          "model_name": "LayoutModel",
          "model_module_version": "1.2.0",
          "state": {
            "_model_module": "@jupyter-widgets/base",
            "_model_module_version": "1.2.0",
            "_model_name": "LayoutModel",
            "_view_count": null,
            "_view_module": "@jupyter-widgets/base",
            "_view_module_version": "1.2.0",
            "_view_name": "LayoutView",
            "align_content": null,
            "align_items": null,
            "align_self": null,
            "border": null,
            "bottom": null,
            "display": null,
            "flex": null,
            "flex_flow": null,
            "grid_area": null,
            "grid_auto_columns": null,
            "grid_auto_flow": null,
            "grid_auto_rows": null,
            "grid_column": null,
            "grid_gap": null,
            "grid_row": null,
            "grid_template_areas": null,
            "grid_template_columns": null,
            "grid_template_rows": null,
            "height": null,
            "justify_content": null,
            "justify_items": null,
            "left": null,
            "margin": null,
            "max_height": null,
            "max_width": null,
            "min_height": null,
            "min_width": null,
            "object_fit": null,
            "object_position": null,
            "order": null,
            "overflow": null,
            "overflow_x": null,
            "overflow_y": null,
            "padding": null,
            "right": null,
            "top": null,
            "visibility": null,
            "width": null
          }
        },
        "b373b214e7684a45b7e5d688e81b7a78": {
          "model_module": "@jupyter-widgets/controls",
          "model_name": "ProgressStyleModel",
          "model_module_version": "1.5.0",
          "state": {
            "_model_module": "@jupyter-widgets/controls",
            "_model_module_version": "1.5.0",
            "_model_name": "ProgressStyleModel",
            "_view_count": null,
            "_view_module": "@jupyter-widgets/base",
            "_view_module_version": "1.2.0",
            "_view_name": "StyleView",
            "bar_color": null,
            "description_width": ""
          }
        },
        "f5777a2abc99410797e865c1fc1d9d2d": {
          "model_module": "@jupyter-widgets/base",
          "model_name": "LayoutModel",
          "model_module_version": "1.2.0",
          "state": {
            "_model_module": "@jupyter-widgets/base",
            "_model_module_version": "1.2.0",
            "_model_name": "LayoutModel",
            "_view_count": null,
            "_view_module": "@jupyter-widgets/base",
            "_view_module_version": "1.2.0",
            "_view_name": "LayoutView",
            "align_content": null,
            "align_items": null,
            "align_self": null,
            "border": null,
            "bottom": null,
            "display": null,
            "flex": null,
            "flex_flow": null,
            "grid_area": null,
            "grid_auto_columns": null,
            "grid_auto_flow": null,
            "grid_auto_rows": null,
            "grid_column": null,
            "grid_gap": null,
            "grid_row": null,
            "grid_template_areas": null,
            "grid_template_columns": null,
            "grid_template_rows": null,
            "height": null,
            "justify_content": null,
            "justify_items": null,
            "left": null,
            "margin": null,
            "max_height": null,
            "max_width": null,
            "min_height": null,
            "min_width": null,
            "object_fit": null,
            "object_position": null,
            "order": null,
            "overflow": null,
            "overflow_x": null,
            "overflow_y": null,
            "padding": null,
            "right": null,
            "top": null,
            "visibility": null,
            "width": null
          }
        },
        "4fe64042b35b48c2beadef35ef98da28": {
          "model_module": "@jupyter-widgets/controls",
          "model_name": "DescriptionStyleModel",
          "model_module_version": "1.5.0",
          "state": {
            "_model_module": "@jupyter-widgets/controls",
            "_model_module_version": "1.5.0",
            "_model_name": "DescriptionStyleModel",
            "_view_count": null,
            "_view_module": "@jupyter-widgets/base",
            "_view_module_version": "1.2.0",
            "_view_name": "StyleView",
            "description_width": ""
          }
        }
      }
    }
  },
  "cells": [
    {
      "cell_type": "markdown",
      "source": [
        "# Fine-tuning BERT for sentiment analysis"
      ],
      "metadata": {
        "id": "-RF-sy0lPLj5"
      }
    },
    {
      "cell_type": "code",
      "source": [
        "!pip install datasets\n",
        "!pip install transformers\n",
        "!pip install datasets"
      ],
      "metadata": {
        "id": "GLfN09gCpqQx",
        "colab": {
          "base_uri": "https://localhost:8080/"
        },
        "outputId": "d61d9e56-5d0b-4130-fdde-5c1b0aa5fb5b"
      },
      "execution_count": 1,
      "outputs": [
        {
          "output_type": "stream",
          "name": "stdout",
          "text": [
            "Looking in indexes: https://pypi.org/simple, https://us-python.pkg.dev/colab-wheels/public/simple/\n",
            "Requirement already satisfied: datasets in /usr/local/lib/python3.7/dist-packages (2.5.2)\n",
            "Requirement already satisfied: fsspec[http]>=2021.11.1 in /usr/local/lib/python3.7/dist-packages (from datasets) (2022.8.2)\n",
            "Requirement already satisfied: pyarrow>=6.0.0 in /usr/local/lib/python3.7/dist-packages (from datasets) (6.0.1)\n",
            "Requirement already satisfied: requests>=2.19.0 in /usr/local/lib/python3.7/dist-packages (from datasets) (2.23.0)\n",
            "Requirement already satisfied: pandas in /usr/local/lib/python3.7/dist-packages (from datasets) (1.3.5)\n",
            "Requirement already satisfied: tqdm>=4.62.1 in /usr/local/lib/python3.7/dist-packages (from datasets) (4.64.1)\n",
            "Requirement already satisfied: xxhash in /usr/local/lib/python3.7/dist-packages (from datasets) (3.0.0)\n",
            "Requirement already satisfied: aiohttp in /usr/local/lib/python3.7/dist-packages (from datasets) (3.8.3)\n",
            "Requirement already satisfied: importlib-metadata in /usr/local/lib/python3.7/dist-packages (from datasets) (5.0.0)\n",
            "Requirement already satisfied: packaging in /usr/local/lib/python3.7/dist-packages (from datasets) (21.3)\n",
            "Requirement already satisfied: numpy>=1.17 in /usr/local/lib/python3.7/dist-packages (from datasets) (1.21.6)\n",
            "Requirement already satisfied: multiprocess in /usr/local/lib/python3.7/dist-packages (from datasets) (0.70.13)\n",
            "Requirement already satisfied: dill<0.3.6 in /usr/local/lib/python3.7/dist-packages (from datasets) (0.3.5.1)\n",
            "Requirement already satisfied: responses<0.19 in /usr/local/lib/python3.7/dist-packages (from datasets) (0.18.0)\n",
            "Requirement already satisfied: huggingface-hub<1.0.0,>=0.2.0 in /usr/local/lib/python3.7/dist-packages (from datasets) (0.10.1)\n",
            "Requirement already satisfied: charset-normalizer<3.0,>=2.0 in /usr/local/lib/python3.7/dist-packages (from aiohttp->datasets) (2.1.1)\n",
            "Requirement already satisfied: frozenlist>=1.1.1 in /usr/local/lib/python3.7/dist-packages (from aiohttp->datasets) (1.3.1)\n",
            "Requirement already satisfied: aiosignal>=1.1.2 in /usr/local/lib/python3.7/dist-packages (from aiohttp->datasets) (1.2.0)\n",
            "Requirement already satisfied: yarl<2.0,>=1.0 in /usr/local/lib/python3.7/dist-packages (from aiohttp->datasets) (1.8.1)\n",
            "Requirement already satisfied: async-timeout<5.0,>=4.0.0a3 in /usr/local/lib/python3.7/dist-packages (from aiohttp->datasets) (4.0.2)\n",
            "Requirement already satisfied: typing-extensions>=3.7.4 in /usr/local/lib/python3.7/dist-packages (from aiohttp->datasets) (4.1.1)\n",
            "Requirement already satisfied: asynctest==0.13.0 in /usr/local/lib/python3.7/dist-packages (from aiohttp->datasets) (0.13.0)\n",
            "Requirement already satisfied: multidict<7.0,>=4.5 in /usr/local/lib/python3.7/dist-packages (from aiohttp->datasets) (6.0.2)\n",
            "Requirement already satisfied: attrs>=17.3.0 in /usr/local/lib/python3.7/dist-packages (from aiohttp->datasets) (22.1.0)\n",
            "Requirement already satisfied: filelock in /usr/local/lib/python3.7/dist-packages (from huggingface-hub<1.0.0,>=0.2.0->datasets) (3.8.0)\n",
            "Requirement already satisfied: pyyaml>=5.1 in /usr/local/lib/python3.7/dist-packages (from huggingface-hub<1.0.0,>=0.2.0->datasets) (6.0)\n",
            "Requirement already satisfied: pyparsing!=3.0.5,>=2.0.2 in /usr/local/lib/python3.7/dist-packages (from packaging->datasets) (3.0.9)\n",
            "Requirement already satisfied: urllib3!=1.25.0,!=1.25.1,<1.26,>=1.21.1 in /usr/local/lib/python3.7/dist-packages (from requests>=2.19.0->datasets) (1.25.11)\n",
            "Requirement already satisfied: chardet<4,>=3.0.2 in /usr/local/lib/python3.7/dist-packages (from requests>=2.19.0->datasets) (3.0.4)\n",
            "Requirement already satisfied: idna<3,>=2.5 in /usr/local/lib/python3.7/dist-packages (from requests>=2.19.0->datasets) (2.10)\n",
            "Requirement already satisfied: certifi>=2017.4.17 in /usr/local/lib/python3.7/dist-packages (from requests>=2.19.0->datasets) (2022.9.24)\n",
            "Requirement already satisfied: zipp>=0.5 in /usr/local/lib/python3.7/dist-packages (from importlib-metadata->datasets) (3.8.1)\n",
            "Requirement already satisfied: pytz>=2017.3 in /usr/local/lib/python3.7/dist-packages (from pandas->datasets) (2022.4)\n",
            "Requirement already satisfied: python-dateutil>=2.7.3 in /usr/local/lib/python3.7/dist-packages (from pandas->datasets) (2.8.2)\n",
            "Requirement already satisfied: six>=1.5 in /usr/local/lib/python3.7/dist-packages (from python-dateutil>=2.7.3->pandas->datasets) (1.15.0)\n",
            "Looking in indexes: https://pypi.org/simple, https://us-python.pkg.dev/colab-wheels/public/simple/\n",
            "Requirement already satisfied: transformers in /usr/local/lib/python3.7/dist-packages (4.23.1)\n",
            "Requirement already satisfied: tokenizers!=0.11.3,<0.14,>=0.11.1 in /usr/local/lib/python3.7/dist-packages (from transformers) (0.13.1)\n",
            "Requirement already satisfied: importlib-metadata in /usr/local/lib/python3.7/dist-packages (from transformers) (5.0.0)\n",
            "Requirement already satisfied: pyyaml>=5.1 in /usr/local/lib/python3.7/dist-packages (from transformers) (6.0)\n",
            "Requirement already satisfied: tqdm>=4.27 in /usr/local/lib/python3.7/dist-packages (from transformers) (4.64.1)\n",
            "Requirement already satisfied: numpy>=1.17 in /usr/local/lib/python3.7/dist-packages (from transformers) (1.21.6)\n",
            "Requirement already satisfied: requests in /usr/local/lib/python3.7/dist-packages (from transformers) (2.23.0)\n",
            "Requirement already satisfied: packaging>=20.0 in /usr/local/lib/python3.7/dist-packages (from transformers) (21.3)\n",
            "Requirement already satisfied: regex!=2019.12.17 in /usr/local/lib/python3.7/dist-packages (from transformers) (2022.6.2)\n",
            "Requirement already satisfied: huggingface-hub<1.0,>=0.10.0 in /usr/local/lib/python3.7/dist-packages (from transformers) (0.10.1)\n",
            "Requirement already satisfied: filelock in /usr/local/lib/python3.7/dist-packages (from transformers) (3.8.0)\n",
            "Requirement already satisfied: typing-extensions>=3.7.4.3 in /usr/local/lib/python3.7/dist-packages (from huggingface-hub<1.0,>=0.10.0->transformers) (4.1.1)\n",
            "Requirement already satisfied: pyparsing!=3.0.5,>=2.0.2 in /usr/local/lib/python3.7/dist-packages (from packaging>=20.0->transformers) (3.0.9)\n",
            "Requirement already satisfied: zipp>=0.5 in /usr/local/lib/python3.7/dist-packages (from importlib-metadata->transformers) (3.8.1)\n",
            "Requirement already satisfied: urllib3!=1.25.0,!=1.25.1,<1.26,>=1.21.1 in /usr/local/lib/python3.7/dist-packages (from requests->transformers) (1.25.11)\n",
            "Requirement already satisfied: chardet<4,>=3.0.2 in /usr/local/lib/python3.7/dist-packages (from requests->transformers) (3.0.4)\n",
            "Requirement already satisfied: idna<3,>=2.5 in /usr/local/lib/python3.7/dist-packages (from requests->transformers) (2.10)\n",
            "Requirement already satisfied: certifi>=2017.4.17 in /usr/local/lib/python3.7/dist-packages (from requests->transformers) (2022.9.24)\n",
            "Looking in indexes: https://pypi.org/simple, https://us-python.pkg.dev/colab-wheels/public/simple/\n",
            "Requirement already satisfied: datasets in /usr/local/lib/python3.7/dist-packages (2.5.2)\n",
            "Requirement already satisfied: pyarrow>=6.0.0 in /usr/local/lib/python3.7/dist-packages (from datasets) (6.0.1)\n",
            "Requirement already satisfied: pandas in /usr/local/lib/python3.7/dist-packages (from datasets) (1.3.5)\n",
            "Requirement already satisfied: fsspec[http]>=2021.11.1 in /usr/local/lib/python3.7/dist-packages (from datasets) (2022.8.2)\n",
            "Requirement already satisfied: responses<0.19 in /usr/local/lib/python3.7/dist-packages (from datasets) (0.18.0)\n",
            "Requirement already satisfied: aiohttp in /usr/local/lib/python3.7/dist-packages (from datasets) (3.8.3)\n",
            "Requirement already satisfied: dill<0.3.6 in /usr/local/lib/python3.7/dist-packages (from datasets) (0.3.5.1)\n",
            "Requirement already satisfied: xxhash in /usr/local/lib/python3.7/dist-packages (from datasets) (3.0.0)\n",
            "Requirement already satisfied: packaging in /usr/local/lib/python3.7/dist-packages (from datasets) (21.3)\n",
            "Requirement already satisfied: importlib-metadata in /usr/local/lib/python3.7/dist-packages (from datasets) (5.0.0)\n",
            "Requirement already satisfied: requests>=2.19.0 in /usr/local/lib/python3.7/dist-packages (from datasets) (2.23.0)\n",
            "Requirement already satisfied: numpy>=1.17 in /usr/local/lib/python3.7/dist-packages (from datasets) (1.21.6)\n",
            "Requirement already satisfied: tqdm>=4.62.1 in /usr/local/lib/python3.7/dist-packages (from datasets) (4.64.1)\n",
            "Requirement already satisfied: huggingface-hub<1.0.0,>=0.2.0 in /usr/local/lib/python3.7/dist-packages (from datasets) (0.10.1)\n",
            "Requirement already satisfied: multiprocess in /usr/local/lib/python3.7/dist-packages (from datasets) (0.70.13)\n",
            "Requirement already satisfied: frozenlist>=1.1.1 in /usr/local/lib/python3.7/dist-packages (from aiohttp->datasets) (1.3.1)\n",
            "Requirement already satisfied: async-timeout<5.0,>=4.0.0a3 in /usr/local/lib/python3.7/dist-packages (from aiohttp->datasets) (4.0.2)\n",
            "Requirement already satisfied: multidict<7.0,>=4.5 in /usr/local/lib/python3.7/dist-packages (from aiohttp->datasets) (6.0.2)\n",
            "Requirement already satisfied: asynctest==0.13.0 in /usr/local/lib/python3.7/dist-packages (from aiohttp->datasets) (0.13.0)\n",
            "Requirement already satisfied: typing-extensions>=3.7.4 in /usr/local/lib/python3.7/dist-packages (from aiohttp->datasets) (4.1.1)\n",
            "Requirement already satisfied: charset-normalizer<3.0,>=2.0 in /usr/local/lib/python3.7/dist-packages (from aiohttp->datasets) (2.1.1)\n",
            "Requirement already satisfied: attrs>=17.3.0 in /usr/local/lib/python3.7/dist-packages (from aiohttp->datasets) (22.1.0)\n",
            "Requirement already satisfied: yarl<2.0,>=1.0 in /usr/local/lib/python3.7/dist-packages (from aiohttp->datasets) (1.8.1)\n",
            "Requirement already satisfied: aiosignal>=1.1.2 in /usr/local/lib/python3.7/dist-packages (from aiohttp->datasets) (1.2.0)\n",
            "Requirement already satisfied: filelock in /usr/local/lib/python3.7/dist-packages (from huggingface-hub<1.0.0,>=0.2.0->datasets) (3.8.0)\n",
            "Requirement already satisfied: pyyaml>=5.1 in /usr/local/lib/python3.7/dist-packages (from huggingface-hub<1.0.0,>=0.2.0->datasets) (6.0)\n",
            "Requirement already satisfied: pyparsing!=3.0.5,>=2.0.2 in /usr/local/lib/python3.7/dist-packages (from packaging->datasets) (3.0.9)\n",
            "Requirement already satisfied: chardet<4,>=3.0.2 in /usr/local/lib/python3.7/dist-packages (from requests>=2.19.0->datasets) (3.0.4)\n",
            "Requirement already satisfied: certifi>=2017.4.17 in /usr/local/lib/python3.7/dist-packages (from requests>=2.19.0->datasets) (2022.9.24)\n",
            "Requirement already satisfied: idna<3,>=2.5 in /usr/local/lib/python3.7/dist-packages (from requests>=2.19.0->datasets) (2.10)\n",
            "Requirement already satisfied: urllib3!=1.25.0,!=1.25.1,<1.26,>=1.21.1 in /usr/local/lib/python3.7/dist-packages (from requests>=2.19.0->datasets) (1.25.11)\n",
            "Requirement already satisfied: zipp>=0.5 in /usr/local/lib/python3.7/dist-packages (from importlib-metadata->datasets) (3.8.1)\n",
            "Requirement already satisfied: python-dateutil>=2.7.3 in /usr/local/lib/python3.7/dist-packages (from pandas->datasets) (2.8.2)\n",
            "Requirement already satisfied: pytz>=2017.3 in /usr/local/lib/python3.7/dist-packages (from pandas->datasets) (2022.4)\n",
            "Requirement already satisfied: six>=1.5 in /usr/local/lib/python3.7/dist-packages (from python-dateutil>=2.7.3->pandas->datasets) (1.15.0)\n"
          ]
        }
      ]
    },
    {
      "cell_type": "markdown",
      "source": [
        "## Data preprocessing"
      ],
      "metadata": {
        "id": "-H3p1tdnqrvT"
      }
    },
    {
      "cell_type": "code",
      "execution_count": 2,
      "metadata": {
        "colab": {
          "base_uri": "https://localhost:8080/",
          "height": 86,
          "referenced_widgets": [
            "e284db08907d4302930b7aea714c7716",
            "444eef2696aa4f898cdf675e3ec34727",
            "91dc544f7628479f96740cb4fcea1482",
            "bff8da993ca54e3a8bc694486326ce41",
            "b5d41dfcf0de42559862df0390f2295b",
            "3d6c0ce9ddbf4c79b3edabb3dc6abc8b",
            "43260ea648cc4aa199793ea87e445a1e",
            "ba5e92e5ab784a9baee10b23ee98bf21",
            "7628fd598e6c46da81cad525c8eac435",
            "6c97dce9897941c1afc42b3d8d515d94",
            "f8626ef157114aafb1e933a823e36709"
          ]
        },
        "id": "CV74SlP5aPbw",
        "outputId": "a25ea518-728f-4c38-ce1b-cad1058204b4"
      },
      "outputs": [
        {
          "output_type": "stream",
          "name": "stderr",
          "text": [
            "WARNING:datasets.builder:Found cached dataset imdb (/root/.cache/huggingface/datasets/imdb/plain_text/1.0.0/2fdd8b9bcadd6e7055e742a706876ba43f19faee861df134affd7a3f60fc38a1)\n"
          ]
        },
        {
          "output_type": "display_data",
          "data": {
            "text/plain": [
              "  0%|          | 0/3 [00:00<?, ?it/s]"
            ],
            "application/vnd.jupyter.widget-view+json": {
              "version_major": 2,
              "version_minor": 0,
              "model_id": "e284db08907d4302930b7aea714c7716"
            }
          },
          "metadata": {}
        }
      ],
      "source": [
        "from datasets import load_dataset\n",
        "\n",
        "raw_datasets = load_dataset(\"imdb\")"
      ]
    },
    {
      "cell_type": "code",
      "source": [
        "from transformers import AutoTokenizer\n",
        "\n",
        "tokenizer = AutoTokenizer.from_pretrained(\"bert-base-cased\")"
      ],
      "metadata": {
        "colab": {
          "base_uri": "https://localhost:8080/",
          "height": 104,
          "referenced_widgets": [
            "04322310ef104eb5b9776d88843d17cc",
            "40583b8387514b9ca9814cf896616e9f",
            "bb9647d6bc2b4b9a8afc56403ce27ff2",
            "8e5d7c9b05484a1faea0e09a9d7e7862",
            "696fdc137b7d44f0b62dd56eafa69010",
            "3e93efd82c8f4c01b296867e374c5c51",
            "219951f5c2df43a8805c7b485cd271d9",
            "2473676e577041548ae81fcfca98611f",
            "026ec01a3ee04ab1bff1adcf72ca7e11",
            "6d848c3881f24f0292e536be38250fed",
            "882b0ce720444bbca6b6f18adb83f5fd"
          ]
        },
        "id": "u0vAqF7OnL4B",
        "outputId": "ec6dd948-e145-4781-d851-b155e8d93e49"
      },
      "execution_count": 3,
      "outputs": [
        {
          "output_type": "stream",
          "name": "stderr",
          "text": [
            "The cache for model files in Transformers v4.22.0 has been updated. Migrating your old cache. This is a one-time only operation. You can interrupt this and resume the migration later on by calling `transformers.utils.move_cache()`.\n"
          ]
        },
        {
          "output_type": "stream",
          "name": "stdout",
          "text": [
            "Moving 0 files to the new cache system\n"
          ]
        },
        {
          "output_type": "display_data",
          "data": {
            "text/plain": [
              "0it [00:00, ?it/s]"
            ],
            "application/vnd.jupyter.widget-view+json": {
              "version_major": 2,
              "version_minor": 0,
              "model_id": "04322310ef104eb5b9776d88843d17cc"
            }
          },
          "metadata": {}
        }
      ]
    },
    {
      "cell_type": "code",
      "source": [
        "def tokenize_function(examples):\n",
        "    return tokenizer(examples[\"text\"], padding=\"max_length\", truncation=True)\n",
        "\n",
        "tokenized_datasets = raw_datasets.map(tokenize_function, batched=True)"
      ],
      "metadata": {
        "colab": {
          "base_uri": "https://localhost:8080/",
          "height": 104,
          "referenced_widgets": [
            "1db0358a524448ef974d1af9f63605d5",
            "08abbe23e503472894e43a07236924fe",
            "1c0090f9b8e24b5c9d3bf88d9e3448a8",
            "9cb2d9871cb545b1aa347534b418ed29",
            "446a1775b16d4ceb8b114e683b9b5aa3",
            "000b6bc0192d432d9b0aa14c245d5a48",
            "b8992feb8d8e48d6ad80aa1b8d969c9a",
            "2b65440c5ec14cc1bcf4a064785aa719",
            "5694b907e87948d5ba8c61cd579a97ae",
            "d554fc9dcd4a40819ac8b60b308cc732",
            "280518b2229f4cddb31621477992c121"
          ]
        },
        "id": "A0tR5rmUnTLO",
        "outputId": "b5b62991-3663-4835-d14e-f02436c51518"
      },
      "execution_count": 4,
      "outputs": [
        {
          "output_type": "stream",
          "name": "stderr",
          "text": [
            "WARNING:datasets.arrow_dataset:Loading cached processed dataset at /root/.cache/huggingface/datasets/imdb/plain_text/1.0.0/2fdd8b9bcadd6e7055e742a706876ba43f19faee861df134affd7a3f60fc38a1/cache-f1d46901c5c5795a.arrow\n"
          ]
        },
        {
          "output_type": "display_data",
          "data": {
            "text/plain": [
              "  0%|          | 0/25 [00:00<?, ?ba/s]"
            ],
            "application/vnd.jupyter.widget-view+json": {
              "version_major": 2,
              "version_minor": 0,
              "model_id": "1db0358a524448ef974d1af9f63605d5"
            }
          },
          "metadata": {}
        },
        {
          "output_type": "stream",
          "name": "stderr",
          "text": [
            "WARNING:datasets.arrow_dataset:Loading cached processed dataset at /root/.cache/huggingface/datasets/imdb/plain_text/1.0.0/2fdd8b9bcadd6e7055e742a706876ba43f19faee861df134affd7a3f60fc38a1/cache-a1ee34934719e71c.arrow\n"
          ]
        }
      ]
    },
    {
      "cell_type": "code",
      "source": [
        "small_train_dataset = tokenized_datasets[\"train\"].shuffle(seed=42).select(range(1000))\n",
        "small_eval_dataset = tokenized_datasets[\"test\"].shuffle(seed=42).select(range(1000))"
      ],
      "metadata": {
        "id": "Z_aDki0gnWkq",
        "colab": {
          "base_uri": "https://localhost:8080/"
        },
        "outputId": "675dcb35-322a-406d-cc15-cd8bf713c005"
      },
      "execution_count": 5,
      "outputs": [
        {
          "output_type": "stream",
          "name": "stderr",
          "text": [
            "WARNING:datasets.arrow_dataset:Loading cached shuffled indices for dataset at /root/.cache/huggingface/datasets/imdb/plain_text/1.0.0/2fdd8b9bcadd6e7055e742a706876ba43f19faee861df134affd7a3f60fc38a1/cache-491e2a08e2bafbe7.arrow\n"
          ]
        }
      ]
    },
    {
      "cell_type": "code",
      "source": [
        "special = tokenizer.all_special_tokens\n",
        "dict(zip(special, tokenizer.convert_tokens_to_ids(special)))"
      ],
      "metadata": {
        "colab": {
          "base_uri": "https://localhost:8080/"
        },
        "id": "snhEn-e8y15R",
        "outputId": "545fcd85-09d3-49db-cb06-6555780d5b96"
      },
      "execution_count": 6,
      "outputs": [
        {
          "output_type": "execute_result",
          "data": {
            "text/plain": [
              "{'[UNK]': 100, '[SEP]': 102, '[PAD]': 0, '[CLS]': 101, '[MASK]': 103}"
            ]
          },
          "metadata": {},
          "execution_count": 6
        }
      ]
    },
    {
      "cell_type": "code",
      "source": [
        "small_train_dataset[0].keys()"
      ],
      "metadata": {
        "colab": {
          "base_uri": "https://localhost:8080/"
        },
        "id": "dEG_f_epzXHc",
        "outputId": "c5124474-0030-44ba-9d48-e25b64cb15cc"
      },
      "execution_count": 7,
      "outputs": [
        {
          "output_type": "execute_result",
          "data": {
            "text/plain": [
              "dict_keys(['text', 'label', 'input_ids', 'token_type_ids', 'attention_mask'])"
            ]
          },
          "metadata": {},
          "execution_count": 7
        }
      ]
    },
    {
      "cell_type": "code",
      "source": [
        "print(small_train_dataset[0][\"text\"][:100])\n",
        "print(small_train_dataset[0][\"input_ids\"][0])  # [CLS]\n",
        "i = small_train_dataset[0][\"input_ids\"][8]\n",
        "print(i, tokenizer.convert_ids_to_tokens(i))  # token with id `i`\n",
        "print(small_train_dataset[0][\"input_ids\"][-10:])  # [PAD]"
      ],
      "metadata": {
        "colab": {
          "base_uri": "https://localhost:8080/"
        },
        "id": "F3_vlel9zhDG",
        "outputId": "102357c8-c620-487b-bc66-48b39ad27ffa"
      },
      "execution_count": 8,
      "outputs": [
        {
          "output_type": "stream",
          "name": "stdout",
          "text": [
            "There is no relation at all between Fortier and Profiler but the fact that both are police series ab\n",
            "101\n",
            "3144 Fort\n",
            "[0, 0, 0, 0, 0, 0, 0, 0, 0, 0]\n"
          ]
        }
      ]
    },
    {
      "cell_type": "markdown",
      "source": [
        "## Bert Fine-tuning"
      ],
      "metadata": {
        "id": "mIZ39MCgqzAs"
      }
    },
    {
      "cell_type": "markdown",
      "source": [
        "The architecture of BERT is the same as the encoder of a transformer network. It mainly consists of a series of self-attention layers (12 in case of the base model and 24 in the large model) combined with layer normalization and residual layers."
      ],
      "metadata": {
        "id": "yxvUE-f9xnhX"
      }
    },
    {
      "cell_type": "markdown",
      "source": [
        "![image.png](data:image/png;base64,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)\n"
      ],
      "metadata": {
        "id": "cjFffbsiwRFV"
      }
    },
    {
      "cell_type": "markdown",
      "source": [
        "This network is pre-trained on large corpora on two main tasks:\n",
        "\n",
        "1. Masked Language Model: Given an input sentence, some words are randomly (in the paper they choose 15% of the total words) replaced with a MASK token and the network is trained to predict these masked words."
      ],
      "metadata": {
        "id": "CBAUSMBnxgNX"
      }
    },
    {
      "cell_type": "markdown",
      "source": [
        "![image.png](data:image/png;base64,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)\n"
      ],
      "metadata": {
        "id": "ykfd02PHxd9J"
      }
    },
    {
      "cell_type": "markdown",
      "source": [
        "2. Next Sentence Prediction: BERT can also handle a pair of sequences as inputs. For these cases, the 2 sequences are separated by a [SEP] token. In addition to the masked LM Task, we also train BERT on the next sentence prediction problem, where given 2 sentences it needs to predict if the first sentence comes before second in the actual corpus."
      ],
      "metadata": {
        "id": "zMOMOKXwxNis"
      }
    },
    {
      "cell_type": "markdown",
      "source": [
        "![image.png](data:image/png;base64,iVBORw0KGgoAAAANSUhEUgAAA7YAAAKECAIAAAC8XTHdAAAgAElEQVR4nOzdZXxcx9k47DmwzCTGFbNkli3JlhmjGOI4icNtmnL7L7dP86aUp5D2aZqkadPEITMzW2aSWWRZzLwMZ3cPvR/W2awlmWQ5dur7+vlDdnbOzJwjO7p3duYejOd5BAAAAAAAAPgc/qAHAAAAAAAAwMMFQmQAAAAAAABuACEyAAAAAAAAN4AQGQAAAAAAgBtAiAwAAAAAAMANIEQGAAAAAADgBhAiAwAAAAAAcAMIkQEAAAAAALgBhMgAAAAAAADcgHzQAwDgvxDDsizH4hj2oAdyczziERKQJPYwDxIAAAB4QCBEBmDktXe0d/V0iYTiBz2Qm+IRz3FcckKSSql80GMBAAAAHjoQIgMw8gSkIDw0PCoi8kEP5KZYlr1ae81H+x70QAAAAICHEYTIAIw8DMMIgiDJh/ffF4ZhOA5bEQAAAIChwe9IAAAAAAAAbgAhMgAAAAAAADeAEBkAAAAAAIAbQIgMAAAAAADADSBEBgAAAAAA4AYQIgMAAAAAAHADCJEBAAAAAAC4wTDztrIs6/F4WI4LLsQQRpIEQZIkQXxpKVc9Xi/HcmKxyN+jj6a9Hq9UKiWI+zIAjuPcbkogFAgFAgzDeJ73eLwcx8pkMn8FivIwDKNQyEekO7eb4nlOKpX6Twmmadrj9UrEYn/CXYZhPB6vWCx6qPLvsixLUZ6HbVQAAAAAAHdumEGMyWRet2FrX19/cCFBElqtRqfVGOPjsrLSZVLpSIzwNo4eO9nb01fy2FylUoEQqqyo3rV7/zdeeTEkRH8/unO53B9+tHLM6NxJE8cjhDxe785d+7p7er/77a/7K+zZe6Cy+uprv/rpiHS3YfM2p8P56isvEgSBELpaU7tr94FFj89LSUlCCDW3tG3ZunPxwgVGY9yIdDciurp6Nm7aNnfOjOTkxAc9FgAAAACA4RhmiOz1+hobmxVKeW52Jk4QCCGe5ymPx2qxXrh45fCRE5mZaa+8/JxEIhnR0Q6ht6evta2Dpmn/S6vNVlNb5/F677YdyuPZvn3P2LF5xvhbhZsMw9Q3NMXHx/I8wjDEsVxHZ3dzS2ugQmdnd01N3d32fjOtre1Wq43nr7+025y1dQ0Op8v/0uVy1dU3Ot3ukepuRFAUVd/QFBgkAAAAAMBXzj19FZ5gjJs7ZyYpIBFCiOc5nmcZ1u12b9y848jRE1EREYsXLRiZYd6xsWNHJRjjw0JD7vZCr9e7/+Dh8IiwW4fIA4gl4meeWuzz0nfb3fDk5mX+JvpneoPuy+kOAAAAAODRdE8LdnEMJwiC9P8hSaFAIJGIdTrt0iUlSqWi9PAxmmFGaqB3SCGXx8ZGC4WCYVzLsiwfmLC9MwSOGwz6yKjwYXQ3DHKZLCY2Siq973PzAAAAAACPsvuyoUqjUet12r5+k9VqM+h1LrfbbLYY9DoMw8wWq81mN+h1Op3WX5mm6f5+k83uoCiPTCbVaNRajdq/9DYYz/MOh9NssdjtToLAVSqlVqMZHCy63G6L2RoeHhrcAs/zLrfbZDLb7Q6WYSVSiUGvU6tV/h1+NM30m0xms4XjOJPJ3NraLpVK9Po7mqnlOd5stTIMExpiuEU1N0VZzBaCIMLCQgOFHMfZbHazxep0OEkBqVQqdDqt9JZLUyjKY7ZYdFqNWCwe8HBMZovZZKYoj0QqUatVep128I5Jj8fb399vdzh9Pp9cJlOpVRq1avCmOoZhrTabzWpzOJxCoVChlOt1OolEjAbx0bTZbLHZ7B6PVyaTqlXKwI8VAAAAAOCr676EyBzHMQxD4LhIKEQI1dbWb9y0ffGix1pa2y5dKu/t639y6cLiyQUIIa/Pt3Pn3svllW43hWEYy3I6naZ4SuG4MXkCgSC4wcamlr17Dza1tNI+WiKVCEgyNib6iSUlA7quq2vYsnXXT378XfnnKSYQQh2dXTt27m1qbmUYBscwhmFDw0KmFE3KnzAWIWSz29dv2NrR2en1+kpLj507fyk7M/2pZYvv5E4Zljl8+Fhfv+mb33jpZnXcFLV378Gq6ppZM6cGh8gXL5UfKj3W39/PI8SxrFAkykxPnTN7+i2izLa29g2bti19YmFSovGLUp4/dbrs+PHTLoqiKIpjOb1eO3fOzKzMtODPCWaLZdu2PbV19V6vD8dxjuO0WvXE/HGFBfnBj5pl2VNnyo6fOG3qN+MEznG8UChISjCWPDZXr79hYA6H8+ixU+cuXDKbLQKBQCAgFXL5xPxxERFhd/LoAAAAAAAeWvclRO7u6TVbrHGxMf7cZ06nq6m59WzZhcrK6tGjcmbNmJqZmYoQ8nq8b/7fu23tHdOnFo0dM0okEjqcrtLSY599ttbpcM6aOTXQYGNT87v//JAgiUUl82Njo3Ec6+7p27p155/++g+99oa4zel0Nbe0cewX2eiaW9reevtfQoFgYcm8mOhIHCe6e3o2bd7xwYrP5HJZVma6Sql4YkmJ2Wz+85tvFxcXjhmVe+crGXie7+s3d3b23KLO1q27jh4/tWD+7KzM9EDh3gOHtmzeFRcX/cLzz2i1aoZhamrqdu3Z39rW8cuf//BmTVGUp7Wtg6I8wYU7du7t7TctfGxuclIihmFOl2vrtl0ffvTZD773aoIx3l+ns6vnnXfeN5nNCxfOT0tNFgqFLpf72PFT69Zv6es3PfnEwkBr27bv2bPvYE5W5sKSeRqNmqGZhsbmzVt2VF2t+f53X42NifJXc7vdm7fuPHz4eFHRxGeffkIqk/p8vgsXr6xaszE9LZlh2Tt8gAAAAAAAD6F7CpE5nmNZ1p+yFyGe5xHPczabfdXqjW43NX1q0edvIZqmy8urnl62eNLE8TiB+2sfLD12pbzyW6++NGVygb9aGEJxsdHvf8Cu37i1sCDfH6pyHLd2/RaO5159+YWU5CR/zYiI8KQk4+u/+dOZs+dzc7JuNkKWZT/9bC3lpr7/02/ExcX4C8PDQzEM++e/Vqz4aOVf//J7gUAQER4mlUpwHNfrdbGx0ffyTAJ4nmcYZtXqjYcOH1v0+LxZM4oDk7VdXT2bNu1INMb/8AffCiybjo6K1GrV//7PJ6fPnM+fMObOO6quvvbG738dPOwnly786//98/z5S/4QmWXZ3XsPNLW0/uJnP8jOyghUi4mOxDF82/bdkyaOj4qMQAh1dnWv37h1Uv74l158Wvp5zr7o6Mjo6Mhf/c/v1m/c+v++/03/zHR7e9fhw8dnzihesvgxoVDorxkXGxMXG/OXv77NQogMAAAAgK+ye9quV1vbsHnLjo2btm3ctG3dhi2ffrbmH+/8+7d/eLOnp+fVV14YP/6GOC8hIW7MmDz88xM9TGbLiZOnMzPSCgvyg6sJBIJZM4sRQnv3H/KX1NU3VFfXjM7LSUpMCK6pkMu//rVnhYJb7cy7fKWysal5xoziQHzsl5WZUVSQL5fL+/pMw737W+F53mazr1qz4fjJ04sWzp8/d1YgPuY47vDREwzDPrv8yQHbCjMz05MSjStXb2DuZptjUeHEAWG9SqWMjYlqa+/0v6xvaKqurpmYPy44PkYICYXC4uICuUK+fuNWnud5nt+6dZdIJJw9e5r0xpzWCca4adOm1NU11Fy7ns9u34HS8PDQ/AljA/GxX1Zmen7+2DsfPAAAAADAQ+ieZpHNZmttfQOO4QghHMclErFCoZg1szg1OSk+Pja4JkEQSUnG4C1fnZ1dFqvtsQVzBu/Mi4uNkctltdfq/S/Ly6vEInFOTtbg/WcpyUmRkbfKJlFX3+j1+oqKJg4oJwi85LG5FotVoRyZY/AGsNkdO3btPXz4RFZ2xoJ5s4K3xLndVFtbuzE+dvCaXZFQGB8fW3buotVqH7Dw9xZSU5MGlAhIgUQiMVss/pedXd1Wq21acdHga6OjIsNCQxrqm3w+H8+jhqbm0NAQ440/O79pxUXHjp9sa+/MSE9FCFVdrcnLyRp8CwIBOTov59SpsjscPAAAAADAQ+ieQuTc3MySBXMIkkQI4RhGkqRQKBCJRINjWf8ahuASi8Xm8XiOHj1Zdu7i4JYddkcgdO7q6iFJIjR0iJQRGIZFRkU4HUOfUsFynNlslkolA9Yr+ykU8pE6JnoAnkdr1mysrrkmlogbG5stVpsh6N4dTqfT6bTaHG+9/e/B13Z19yCETCbznYfIKpVyQAmGYwSBBxLY2W12n88XFRUx+Focx8NCQ7q6eiwWG0K8z+tLTk4Y/KEFIRQVHcGyrM1mQwh5vV67zaFWqUQi0cCuMUytUslkX8bBigAAAAAA98k9hchSiUSn0wkEt28Ew5BcKgsucbvdNM3gJMFyQ6xbzcxKVyjkNE0LBAKb3YEThEIuG1wNISSXSm8WIvu8Pg/lkctlgSXRXw6GYc5fvPzMU0siI8J/98abn65c98PvvRr42ODxeCmPlyTJIW88JEQfEqIniLtYAIMPFdEG8Dzv9XoJnCDJoavJ5DKO4yjKgxDPsqxcNvTHBqFAQBCkx+Pled7ucGIYJrnJpkZSQA5YfQEAAAAA8NVyXzJaDAVD+A1xqkIhFwqFixfOD2RduBmDQd/a1m6x2mSyIaLkWywmFotFcrnMbLayLDt4ZpRmGJfTJRaLBuQYvncYhr3w3FMFkyZgGLZo4YLdew4cP3mmYOJ4/xikUolUKg0LNXzr1ZdHtt+bDUalUvGIdzrdA1YY+/X29AlIUqfXIB4JRcLunqGzc1itNo5jNRo1hmFajRpDyOlw8jw/4OMHz/MU5XHB6dMAAAAA+Cq7p+1690KtVknEooqKq4Pfoijq+Ikzly6X+19GhofSPrq1tX2omp6WtiHK/TAM0+l1DMM0NDYPfrempvbDj1YO+dY9IknCHx8jhObPmZmSnHjw4JHunl7/yge5TKaQyxoaW4bck1dVXXOo9BhFUSM4Ho1WLZNJK6uqB79ltzs6OrrUapVCLpfLZSqlsq29wzlUgHv+4mWhUKjXaRFCBEHodNp+k8nlcg+oxnF8R0enx+sdwfEDAAAAAHzJHliIHBcbExoWumffQYfDOeCty+WVq1avb++4npBh/IQxHMefPXve5RoYuh08dLS//1YpKbKzMqQSyc5d+1iOCy5nGLa09NiV8kq97o5O0btbgblVoUi4aOECt9t95MgJr9eHEJJIxKkpSX29fRcuXhlwlc1m37xl574DpYNPvLsXCfFx4WFh23bu9Q8g2IWLV0xm87SpRRiG4Tg+MX+sxWIrK7swoJqH8mzdtkuv16WmXN8aODF/3NWaurr6hgFHdnt93qPHT43g4MED0drWfqj0GE3Tt65mtdp27tp/+XLF4Lfq6xu3bNt1f0YHAAAA3HcPLESWyaSTiyaazZaPPllts9sD5e0dndt37OV5fkrh9WTJBr2+oGD85fLKQ4eP+XxfBHmnz55bs25TZMQQu9ACEoxxmVlpFy+V79q1L3CeBcdxJ0+duVxeOX3a5JAQvb9QQAg4jmeZkU/oGxsTPblw0sHSY03NLQghHMcLJk2QyWWfrlxbXV0TqObxevcfPFxzrW5RyXzBLTPZ3S2tVjNtamFfb/+HK1YG5qd5nq+5Vr99x57wsNDiKdeTXUwtnhwVGbFj176amrpA7Ot2Ux9+vLKnp2/2zKkajdpfODF/HMdxm7bs6O3rD3Tk9fjefe9Di9kiv8nCcXCHGhoa3n33XY/nizNiKIpauXLl66+/fvLkycCPpq+vb+XKla2trSM+gPaOriPHTtw2+aDNZt934NB7739kMpkHvNXQ2Lxj1757HEZjU0tzy8jfHQAAAHBbX9pa5IEwDCucNKG/z7T/4OHf/v4v2VkZEWGhHV3dFy5ewXH8hz/4diAdG4ZhTyx5nPJ4Nm/ZeaW8Ki0lSSAU1tbVt7a0lyyY7fPRrW0dN+sFx/GXX1jOMuyOXfuuXKnKyEgVS8TXrtXV1NSmpSY/vWxJYLpXJpdKpZKTp87QtE8qlQ7I1nwvSJIoKJhQUXX1gw8/e/21nykUco1G/f3vfuM/H37697f/nZGRmpSQ4PF6yq9UdXR2Lpg/a8LdnBtyJzAMy58wrr2z68iRk7/9/V+yMtPValV9Q2NtbYNWp335xeWBnXwCAfn9737j3//55J33PkhKMqYkJfabTJVVNTarbdnSRcVTCgOPKzw89KknF23Ztut/XvvDuLGjwsJCzCZrRWU1juNPLHl8x869I3sLjwie530+n91uf++99/r7+59//nl/udlsfu211xwOR1JS0htvvPHUU08tW7YMx/EzZ850dnbq9fr7MRKW5W5fDfEsy0WGh23asuO55cvE4i8ynPAcf+8nyJw7d5EUkHGxMbevCgAAAIwo4vXXXx/GZRzH8TwyGuMiIsIGp3gbgGVYkUiYmZ42IMkajuPp6SlRURE4hpvMlsamZo7jMjNSn1y6MD4uJngfmEQsTk9N0ek0DMN0dHT39vYZ9LrZs6bNmF7s89E6nSY+Ps5/DAfDMiKRKCszLbBWQSQS5eVmKZQKhmXb2zu6urrlcvnkoomLHl8Q/BsdIaRWq8xmS0trh1gkTE9PHfJe/GfmJSUaQ0L0GIbxPGIY2mDQJyUZ/RW8Pp9er83Jzgy+SiKR6PVaxPMajVqr1SCE9Hpdbk6WSCSk3J6m5mabzR4aFjJ71rQpkwuCV1l4PN7IiLDUlCT/02A5liTI1JQk/5NkWZYkibTU5IHZ63ieYRiDQR/YColhWGZ6mjEuxkfTvb197e0dUpl0VG72osfnR4SHBT9qhUKek50hEomcTldDY7PX64uNiX5swZwpkwuCq+E4HhMdFR8fK5FIbDZbW1sHzTA52ZlPLVscHhaC4VhKcqJKOTAb3aPD4XTyPH+3T6C9vX3btm2rV6/etGmT0WicO3euPzfI6dOna2tr//SnP82YMSMqKqq0tHTs2LEcx61evXr+/PmxsUPksb4tnuf7+vsVcrlsqE2cbe0ddXUNkwsnBr7QMJktHR1d/nVNYrHI/5fBarOdPFX27PInKyqvCgWC4P8b1Nc3VVZfXVgyL9Cmh/J0dnf39fczLCuVSvwteDxeq9UWnCmSpmmbzUGQhMViq6y6yrJsRHiYWDxEKkkAAADg/sEGrCV9IDiOc7spykNJxBKJRDxkXl4/mqadThfP83K5TCAQ3FU2N/+1HM/LpFKRSDj4Wp7nXW63z+uTyaSDM/7eDzzPe30+l9NFEIRUKrnbOxoGlmVdLjdN0zKZbMiHEDwwp8MpFAllUuktfiI8z1MURVEeoUgok8pw/EvNr/fQ6uzqYjk2OjLqrq4ymUx1dXU+n6+srKyysvKdd96Ry+UIoQMHDuzbt+/Xv/61Uqk8c+bM2rVrf/WrX+3evdtisXznO98Z3rIclmWraq6Gh4UZdENMQp88XbZr9/5f//JHEomE5/mzZRf27DskFAgIkvB4PEUFE6cWFyKEmlta//zm2z//6fc7OrpOnjr79LLFERHXj/LZu/fQmg2bP/nw3esPpLN7/YYtDMOSAoHD4cjLzZo5vVgoEjocrn+9v6KoMH/8uDEIIY7jzl+4XF5RtbBk3roNW+vqGzAMi46KfOmFZwbn/wYAAADunwe20CIYjuNyuexOFrAKBILActi7ddtrMQyTy2RoqNRy9wmGYWKRSPylhON+BEEolYrbVrvzgWEYJpVKh0wnB+6WTqfT6XQIIbfbXVlZGSjPycn56KOP/vCHP+Tl5a1du3b27Nk8z//rX//at2/fyC5bH1JHZ9e27bvnzp4xZkwuQuj8hcsff7rGGB8bONQdw7Dc3KyKyqsHDh19/tllg1swmS2/+8Nfpk0rmjNrBkHgZrPlnfc+xHF87pwZcrm0qGDijl37YmKiw8NCXS7X1u27iicXaDTqF59/etOW7SQpKFkw+8v5yAoAAAAEwHeXADzsQkJC3nzzTblcfvDgwWXLli1fvvzvf//7T3/6U7lcbrfbrVbrff0uyGZz8DzKyEiVSCQSiSR/wri83KwBu+gkYvHMGVNq6xoqKqsHDIbn+f37DycY45csKpHJpGKxOCIi/IXnlpVXVJlMZgzDRo3KTkyIP3LkhM1m/8+KzxKNxqLCif4D7QWkQCAgJRIJrLIAAADwJXsoZpEBALcWERHx2muv+f+7rKzM4XDMnz//4MGD586d8/l848aNmz179sjmCgwIMegVCtm27bvHjMkLDQ3RatTf+dbXB1eLi42ZVly04qNVv/j5D0MMXyze8Hg8DY2No0flBtI4IoRYhuU4zmQy63RakiSnTy1au37ruvVbzCbzc888CXPGAAAAHjgIkQH4KrHb7fv371+2bFllZeVHH31UUlIiEon++te/ikSiGTNm3I8edTrNE0seP3L0xK5d+1mOCwnRjx83OjsrY3DNSRPHX625tm3b7meffTJQ6HC6KMpzra7+hhCZZUUiEYbjCCEMw8LDw2Jjo7Zu2/3tV1/S6+9LqnIAAADgrkCIDMBXBs/zFRUVBEFkZ2f/4x//GDt27NKlS3Ect1gsu3fvvk8hMo7jSYnGmOhIj9dntzvOX7j0r/c/fuapxZMmThhQUyQSvvj803/881sXL14JLLYgCZIgiMmFk4zxN2TewHBMIpb4/7u3t6++oSk3J3P33oOjRuWM+JnwAAAAwN2CFX4AfGXY7fajR49OmDBBqVTq9fre3l6Kotxud2Njo+7+nBOJEKqrbyw9fJwkSbVKGRMduejx+aPzcg4fHfoMRalUOm/uzOMnTvf29vlLFAqZUqloaWlVKhUqldL/h2XZU6fK7HY7Qsjn85UePh4VEf7tb74skUq2bNsVdKofjx58xh0AAACPIgiRAfjKOHfunMPhGD9+PEJo4cKFfX19v//97994440rV64sWzZEKokRwXHc0WMnq6pr/MmeHQ4nRVHKAam4g6Snp2i1mvKKKv9LgUAwKX986eHjlVU1Xq+XYZjunt416zY1NDQJhUKe50+dLmtpbZ9aXCSVSl9+cXlTU8vZsgv+Y0cEAiHDMBx3+0NMAAAAgJEFCy0AeOhkZWXJ5fLBu9acTufy5cv9KfYMBsOvf/3r8vJyjuNefvllo9F4nwYTFxszMX/cuvVbVCqlSq1yOV0Myzz15OKb1ZfLZNOKi6qvXguU5OVlW+329Ru36nQaAif6+01qtWpRyXy5XFZeUbVl664XX3g6IiIMIRRi0BdMyj958mxcbExUVERMTNTmrTtsDsdj8+eEhRru0w0CAAAAgz0UR4cA8F9meEeH3JbX6xUIBCOSAe3WR4d4PF6KolQqpb8vmqatVlt7RxdFUaGhBoNBr5DLMQxjGMZms6tUygHJNDiOs9nsDMsaPt97x7KsxWrr7elzOJ2hIXqDQS+VSjEMc1OU2+XWaNSB42n8R/z4zwby+eim5han05WeniKBBcoAAAC+RCMZIjMMy3EsSZKQxPSrhWEY//faQTAMQ/jnHsywvsruU4g8gm4dIgMAAACPuJFcaHH6TNmlyxVLl5SEhYWOYLPgfjtx8syx4zfsvsIwXCaXajWayIjwtNTksLCQ+5RzFwAAAADgITTMuIem6SvlVV6vd/y4MSR5/RvSnt6+a9fqKMo7UoOzWKznL1xKTEyI//yo24dKZdXVnp6+cWNHKW6+dekroaent7GpJTcnKzTUgBDieZ6mGa/H293dc/rMOa1GvfSJhXm5WQ96mAAAAAAAX5LhhsgMc/HSFavNNmZ0XiBEHnFWq+3AoaMkKXhYQ+Saioqq9LSUr3qIjBCSy2SFBfnZWen+lxzHcxzr89Gtbe2r1mz45LM1GRmpQoHgwQ4SAAAAAODLMfxlphzHsSyL7mfaUh7xLMs+tBsKOY5lWfa/I3ErhmEkSQg+JxIJJRKJSqXMykyfXDipr6+/ob7pQY8RAAAAAOBLMpxZZIfD2dXd43S6KMrT1t4pEYu0Wq1E8sV+c6/PZzaZLRYbwzIymSw01CCXyQY0wvO81Wrr6e3zer0cx4tEQoNep9frMAzzV+jp7evu7qV9tMlsaW1tF4lFep02sO19MLvd0d3dQ1EehJBILAoJ0WvU6kBrAR6Pt6+/3253sAwrk0nVGpVWowmuZrFaHQ5ndFSkz+frN5ktFivHcgqFPCTEIJVK/DWdTpfVarXbnT4f3dXVzdBMSKhBHJSiy2Kx+dshSUIhl+v1OqlUEniX47iu7h6xSKTVapxOZ7/JbLPZhUKhSqUMMegFgyZr/fkBLBarw+nEMEwmlYaFh8qk0sEPwe2mTGazw+FkGEYqlWo0ap1Wc7MndoeUSoVIJOrs6kpLS77HpgAAAAAAvhKGEyJfrandtmN3b28fw7Aff7JaqVQ8XjIvOSnB/67D6Tx48EhFRbXT7abcFEmSKSmJJQvm6HTaQAsMw1RWXT167FRLaxuBExzHsRwbHhZaWJA/YfwYfwqFXbv3X62pNVssx0+crqioiouLWbrkcbl8YKjtd622/uChow0NTRiOezwehFByonHKlMLMjNTgqLq/37z3wKHaa/VuN8XxPIFjUVGRM6ZPSUlODFQ7c+b8ydNnf/qj7x0+crz6aq3L6XK53WKxKDMzbd7cmWqVCiFUW1e/Z9+htrYOl8u1YeM2oVD40ovL42Kj/S1UX7124MDh7p5eH83wPCcRi7OzM6ZPnaLVXg/ZfT561eoNsXExE8aOPnDoSGdXt9PhYjlWqVAUFeZPmVwQHLIzDFt9tebI0RNt7Z0cy3I8T5JkclLC1CmFCQnxwQ+ht7fvwMGjNddq3RSFeITjeFhYyOzZ09JSkoedlYLneZfLTdN08I8PAAAAAOC/23BC5KRE45JFJXv3H3I6nU8seVwiEUeEX09h4XS5t23fLRIJZ0yfotVpeY5raGzetmNPS2v7j374LaVC4a9W39D08Sero6OjXnpxuUwqxRCyOxzbduxes3aTQqHIykxDCE0rLoqNidqydde4saNG5WXLpEM2X2wAACAASURBVFKxeOBJCn7dPb1r123q7TU9u3xpaKiBYdiOjs7DR06sWr3+5ZeeTUlO9Fdrb+/88OOVrW0dTyx6LCEhHsdxu92+b3/p+//55NVXXkxNTfJX6+3rr6tr/PjTNV6fb8b0KXq9jmWYhsbm3XsPdHR0/eRH38UwzBgft2ThY/sOljY0NM2bO1On04YYrud/PX7i9Np1mw0h+oULF+h1WpZlm5pb9uw52NHR/crXnvOH+BzHNja19Pb21dTUxcfHPLG4RCqROF2uM2fPb9i03eelZ82aGri7S1cqPlu5Njo6atnSRRqNmuO42tr6DZu2NTY2f+dbX4+MDL/+ELp7Plu1vqm55YnFJVGREQRB2Oz2zVt3fbhi5fKnnxiVlzOMHzRCyGy2XLh4RaVSpaQkDa8FAAAAAICvnOGEyBqNWiQWnS07jxCfmpIYfAaY2+32er0vv7Q8IjzMX2I0xvGI/+jj1RcvXpkyucBfePzEaaVK+ewzS0NCvjgxKzkx8Vvf/Un11Wv+EDk2NprlWJFYFBEelp6Wcovx1Nc3Nre0/+zH3wuEuUmJxtSU5D/88W8VldUJxjiSJFmW3bf/UF1d45//+HpgbAih+LjY9z/4ZPe+A4Fr/do7On/58x/654wRQgkJ8XaHc9Pm7bW1DSkpiWq1Sq1WXbh0ubOjKyEhPtBgX79p+869CqXiVz//kUBw/dkmJsTrtJp//+eTKxWVk/LHB7ro6Oyek5X5zLIlgQlsY3xsa2v7mg2bp00r8idZ43n+k0/XxERFfu3FZzUaVaBBH+1bs3bzocPHnlv+JEKIZbmyc5dq6xp++dMfxhtjA13k5Wb/7o03j584Y4yPU6tVt3iGHM95PB6X240QQjzyeDwmk6WltXXr9j0ej+fVV16EgxsAAAAA8OgY4WS3YrFo7Ji84BgUITRmdO6HK1a2d3QFSjxe75jRuRqN+oZrJaLQUIPFYvH5aKHwLpIn+Hw+lmV9jC+4UKlSTC0uxDCMZVmSJBubmiuqri5Z/NiAsalUyvHjx3y2cl1HR1dgRhYhNHf29EB87JeakigWixoaG1NSEoccBsdxZecuWizW3/x/Pw/ExwghDMMy0tNSkhM3bdqRP35sYM2DWq2aM3t68DoQiUSSnJRQffVab5/JPzG/d98ht9s9uWhSID72mzd3VmXlVa/X63S55DKZ2+0+WHp0anFhZFQ4utH8OTP/s+Kz5pbWHFXm4JXZAX19pnff+zCQ/JjneZblWIYRCIVzZk2LjBjYLAAAAADAf7ERDpGlEkncoARtKpUKwzCf74sQ9vnly4RCYWBfGsMwdrujtbW9r98UGRnGsixCdxEix0RHqVTK1Ws2eh73pKWlyGUyDMOkEsnCknn+CjzP9/T0OZ2uCePGDLgWw7DoyAipVFJ1tSY4RM7ISBtQUy6XEzhBeW6a9dnj8ba2tsXGRA0OKMViUXxc7MVL5XaHIxB5h4YaDJ8vzwhQqZQIIZ/3ei8nT51Vq1Tp6QMn0QUk+a1vvuz1+kRCIUKovb3TQ1HJiQlCoXBATb1BJxaLenv6eJ6/RYisVCqmTimM+Xw5Nc9xNM14PJ629o6Tp86WV1a/+NxTiYnGm10OAAAAAPDfZIRDZIIkByevIHAcx2446VqpVLhc7ivllddq67u6eqxWm8vtttsdTqdzGJ3GxEQtLJn78adr3//g0/Cw0Ni4mKyMtKzMNOnnOR84jjNbLF6v77NV6wYHkRRF2Wz2rq7u4EK1Sjn4LhCGePamKd4oj8disfb09r/19r8Hv9vV1cMyTG9PXyBEHjBLfb0XgkAI+Z8V7WO6untiY6KH3KSo1XyRqqK5tZXyeHfvPXji1NkB1Twej9VqM1usHMffYs+eRCzOyEjNyc4ceFOUp6r66oqPV3+wYuXvfvOLwdk2AAAAAAD++4xwiIwhdCfJE+rrGz/6dHVzc5tUKo2OitAbdKOis0flZL+/4tNhdCoUCicXTcrMSD95+uy5souHDx8/fPiYQqFYWDKveEqBUChkWc7pcOE4zrAMogfOpBIkkZGRqlHfsOoDv3l2uZuhfbTLReE45qPpwe/q9BqtTo2COseJ2zwoN+WmaVoml91i9tfPZDJjGMbx3OCucQJPTU3WaDXoNm0MTSIRj8rLKT18/Nz5S21tncaghc4AAAAAAP+tRjhERgih28ViDofz7X/+R6lQ/PwnP8jKumE9w21jwZshCCIkRL+wZN7Cknl2h6Ompm7f/tK16zdbrLZFj88jCEKlUspk0m98/UXtjQugR5BQJFQoZOHhId/51tdHpEGFQi4SiawWG8fxOD7wydA07fPRYrGIIIjQEINKqVi6pCQt9Vb7GocHx/GoyIhz5y/1m0wQIgMAAADgUTD80/WG7eSps243tWD+7MzM1OBynudNJvPdtsaybG1dw7nzlwIlSoVi3NhR3//eN7KzMs5fuOSmKBzH1WqV2+W2WCyDWzCbLefOX+q8caHFMIhFIrVK1drWwXLc4Hfr65tOnS7zem+6lHkwHMejIsKtNlt/v2nwu2XnLm7bsdtssSKEoqIiXW63yWQZfBKhw+E8W3ahs6v7Xg4pdDhdCKEBWwYBAAAAAP5bPYAQ2WqziUUitVo1YM645lpdb2//3baGYVhFZfWHH610u9zB5TKpNCY6ymKxsgyLYVhERLjeoNu3v3TA5RzHnbtwacXHKzmGHca9BBOLRQkJ8SaT+dKl8gFv2Wz2Ldt27ti1726P8Jg2dbLVart46Qp3Y4Dro+ntO/a0tXX4c0VHRUbodNryymq3mxrQwpWKytVrNg7jwQb095taWlqFQmF0VOSwGwEAAAAA+AoZZoiMIQzDcNo3xKLb20pKMNps9qbmVi5otrWhoen/3nqP53maYVj2erSKYRiGYb5bzrxiGBYXG8Nx3HvvfxzcoM3uqKy6Gh4e5t9hFhMdmZ2ZfuLk2TXrNgWq8Tzf1Ny6e/eBBKMxMiribm+EFJAcxwVGi+P4mNG5Br3u3fc+qL56LVCNpunSI8evlFfNnF58t9vd8vPHRoSH7dy9v/rqtcA0MMuyq9Zs6O7unTB+rH9zpEwmnVZcdOrU2QOHjgRf3t3T+9ln6+LiYmJiooa3iKWhsfmjT1Y3NDa/+PzTwQmwAQAAAAD+iw1zLbJQKNBpNadPn9u5a79OpzXGx8bERN3htXl52Tk5mZu37GhubklMMNrt9sbmlrbWjscfm9va3l5eXr1q7YZlTyxSqZRyuVytUh0sPUaQpEwuy8pMU8jlA1rDMCw3J3NK0aSDpUd/9ovfjBs7SqVSWW3WsnMXOZZ76slF/nQQBEGUPDbX7nDsP3C4qvpaVma6XC5ra2s/f+FydFTkU8sWDSOCjImK2ru3dN/+0pjoqOTkxLjYaI1G/dKLy9//4JO//f2fGempSQlGlmPLK6pbWtrmzZ2ZP2FgyrnbIgjiG688v+Lj1e+885+U5MTExHiGYS5eKu/p7Z1aXFRYMME/bBzH8yeM7ezq3rZ995UrlcnJCSqlsqW17fTpc0ZjXMljc2+7ArvfZP5gxUqpVOJ/ybKs1+vzeb1uyqNUyksWzJk+bfLdDh4AAAAA4CuKeP3114dxGY7jUpmEYZjauvp+kykuLsZg0LvcbrFIlJ6eKpNJB9Tv6zOlpiTFxkYjhDAMS0oy8hzf2dldV9fgdLq0Ws38ebMm5o9TKZUmk8Xj8ebmZEkkYolILBAKrDbbtdp6juOSkxOGPOMNx/HU1CSdTuN0uto7OltaWu12Z3x8bMmCuenpqSR5PTeFWCzKy82WSqU0Tbd3dLa1dfA8n5uTvXjRgvDw0ECI7HK5xGLR2NF5A4JmlmVdbndycmIg7bFOp3U4HB0dXe2dnUmJ8QaD3l84alQOy7JOp6uxuaW3t1+lUs6aWTxtapFEcj0A5XjeZrUZjXEJxrgB90JRFI5jebnZgWeoVquSkxJwHLc7HE3NrX39Jp1OM2/uzAHHjojFopTkJKVCQXmorq6e1rZ2juNG5WUvXfJ4dPRtFki4XG6SJPR6rUql9P/RqFUGgz7BGDd6dO6CebMKJk242yUijziH08nzvEo5MHXgw4Pn+b7+foVcLpMO/NcKAAAAAOxednHRNG02WwRCoVIhDxzMdodYlnU6nS43pVDIZVKpPwLjed7j8SKExGLRFzGr2+2wO+RyuUwmvfVcr9fnc9idLMuIxWK5XEYMlbiN53mWZe0OB0MzUplUKpHcS/DHMIzNZkcYplYpg7vjed7r9dkddhwn5HKZSCgcdrKOAMrjcdgdBEEoFHKBQHCzBlmWtdsdNE1LpdLbPjFwn3R2dbEcGx15p1+tfPlYlq2quRoeFmbQ6R/0WAAAAICHzj2FyACAIUGIDAAAAHylwbfnAAAAAAAA3OB+HB0CwKOO5ViPx+tyuR70QG6K5TiapuFLJAAAAGBIECIDMPIol7uru8s+1FE1Dwme521uZ3hY2IMeCAAAAPAwghAZgJEn5fAolyCSGSIBy0OCRfw1KS+4y122AAAAwCMCfkECMPJwhAkRLkZD5FR5SLCIJ3EcQcITAAAAYCiwXQ8AAAAAAIAbQIgMAAAAAADADSBEBgAAAAAA4AbDXIvMcTzDMASB4zg+gue30TSDEE+S5CNyJhzHcTRN0wyDY5hEInlE7hoAAAAA4CE3zBDZZDZv2rxj/LhROdmZIxjYbd+5h2O5eXNnSqWSkWrzocXzfEtr22cr17e1d8jlsjd++z+SR+CuAQAAAAAefsMMkb1eb119Q3JSwsiOprWtnWM5hmFGttmHE8MwV8qrTGbzwpJ5Wp1WIBAghNraO8rLq/InjNVqNQ96gAAAAAAAjyhI+vbAeL2+utqGnOzMqcVFYrHIX9jY1LxqzcYEYxyEyAAAAAAADwps13tgGIbp6etTyOVk0PENHMfTNM3BscAAAAAAAA/OCMwiuynKbrM7nS4Mx2QymVKhkEjEgxcocxzncLocdofL7RaQpEwm1Wg0QqHgtu3TNG212lxuivb5hCKhTCZTq5TBYaXP57PZ7AqlQigQOJ0uq81GuT1isUipUigVSoIY+DGAYRi73eF0uiiKIklSpVJqNGqCIPr6TRKxWC6XBWp6PN6+fpPH4+FYTiAUqJQKrVZzJ2uvOY5zulwWi83r9fI8LxIK1Rq1UiHHcRwhxPN8f7/JYrUxDONyu3p6e0mSVKtUDofDZrMjhMwWS3d3j0KpkAbt4XO7KZvN7na7eZ6XSCQqlTJ4qDzPOxxOn8+n02m9Xp/Nbne7qfi4mNsOFQAAAAAADHCvIXJ3d++uPfva2jopyuPxelUqRWKCceaM4vCw0OBQkuO4yqqrpUeOd3Z2swyLEC+VSvNys2bPmn7rnXk2m+3Q4eMVFVV2uwMhDGFIo1GNHpVXOGlCIEBsb+/ctGXHvLkzGYY5cvSk2WxxOJw4joWGhc6YNjkzI40gvjjkjGGYY8dPnzl73mQycxyH4ZhWo54wYWzx5IJPP1ubl5s9tbjQX7Onp/dg6bGLl8oxDPl8NMMwkRHh+eNHFxZO9K8bvoVLlytOnDzT0dHF8xzL84jnI8LDpkwuGDM6FyHE8fynq9aZ+s39/aaysosNDc1isejJJxbu3nugvqEJIbR1226pRDJv7syxY/IwDON5vq2tY+/+Q83NbV6fF/GIIAljXOysWVPjYmMCz/nY8VMNjc0vPLdsx8591+rqbXbHP/72v3f9EwUAAAAAeOTdU4jc0Nh04OARiURU8tgcjUZN+5ia2rr9+0tbWtq+8+2v64JW05adu7hqzcbYmKinnlykUat9NF1TU7vvwOGamrof/7/vCEXCIds3mS3r1m85e/b8/Pmz0tNSJBKJx+OpqLy6acuO/n5TyYI5SqUCIeSmqMamlr17D/X29U2cOH7u7OkkSdps9j37D3340arvf/eVBGN8oM11G7ceOXIiKdG4/JmlarWSppm6+obdew7YbfbGpuaYmCh/NTdF7dl/qKzs4hOLS2JjohBCvX39J0+dXbV2E0GSk4sm3eKx1FyrW/HxquioiKeXLVarVQhDJpNlx869H674TK/TxsXF4Bj22Pw5Fov105XrMtJTCgvyBSQZFhY6b87MM2UXtm7bNa24KDY2OiwsxB/+1jc0frZqvcViW/bkwtCQEAwhk9mycdO2FR+vfuG5pxKMcf5+e/v6m1taN27ecf7C5YkTxiYmGe/lhwsAAAAA8Mi6pxD5UOmx1JSkH/3w21Kp1B/MGRPiDAb9x5+sPnz42JLFJf5qHsq74uNVcbExX3vpWZVK6Z8WTTDGaTWat97599lzFwoL8gc3zvN8dXXN2bILL7zwTOGk8QRB+C9MTDDKZNLNW3bmZGVkZ2cE6p89d+Fb33x50sTxBI77awpFgg9WrDx85HggRG5r69ixY29uTtY3XnlBqVAERhIZEfanP/8juHeHw1leXjW1uLCgYIKAJBFCcXExeblZr73+x3MXLo8elRu8yGGAteu2SCWSF557OjTU4H8ssTHRMpn0L399+/z5y3FxMRiGJSUarVabWCwyGPRpqcn+eW65PL61vQMhFBsbnZ6Wcv3peTwnTpy1Wu2v/erHOp3Wv1TDaIyLjYl682/vXrhwOSoyXCS6vtuvr9909uz57333GynJSYNXmAAAAAAAgDtxT1GUUCh8+aVnZTJZ4Lt+AUnm5WZlZqTt3nPA6XL5C3ft2ed2ux9bMFutVvlrYhhGEMTEieOSEo2HDh93ud2DG3e53MdOnEpNTRo7JjdwmAiGYUKhYHRedmRE2L4DpcH1k5MTJxdOJAkiUDM2NiYiPKy2tiFQZ/O2nSRJPrZgtkqpDB5Jbk72hAljGZYN1GQZ1u2iCILAP781HMdFItGc2dPkcpnD4bjZM/H6fDa7PS83KzAH7O/FGB8rFAiaWlrv9iF39/SePXdhwfxZgfjY36BerysuLjh5usxksnzRu8c7Z/aMzIw0gYAMVAYAAAAAAHflnqKo3NzM0BD9gEKJWJyZkUYzzNWaWoQQy7KXLleEGAyBadEv+sbxCePHWK3Wnu7ewY17vd7Gxpbc7EyJZOBiZYNBHx8XW1NTxwdlfhg7OnfwSCRiscfj9b+kabq2tl6rUaemJg/ubmHJ3OCXMpk0Pj7m2PFTZ85esFhtgY6mTC549esvhIeHDfU8EEKIJIhf/+rHCx+fFyhhWNZssV65Uun1+iiKutmFN9PY2CIWixLi4waEvARBREaEUxRlsVoDhTiOT5lScLddAAAAAACAYPe00CI6KnLIqUqDQUeSZFdXN0LIZnM4nC6apj9Y8dngmt3dPT6vz2YfYlLW4XQyDKPRqIlBXZAkqVarvD6fw+H0L0dGCOn1ugHVMAzDCTwQ3dpsdppmYhNj8KFSUkRGRgQviZbLZTNnTF25ev2Kj1dGRUVGR0akpCZlZaapVaqbPQ0/giC0GjVFeSqrahqbmrq7ey1Wm8vpMpktQ06W31Z7R6fL5d6+c+/gfY1Wq83j8fb3m74YtkyqUd9mhAAAAAAA4NbuKUSWBy2xCCaTSnEct1rtCCGHw8EwDIbQkHGwRCrJyEwVD7Vdz+FwkgRxs9wRIrEIx3G7wxEIkYPTVgzJ4/FyHCcgh26QIAhZ0HQ1QRA52RlxcT86f/5S2flLx06cLj1yTEAKCosmPr1ssXTQxHawurrGf3/wSXd3t0wmi4yI0Ou1mempOTlZ//vHv916hEOyWCw8z7vcbnrQoYMYjmVmpopF4kCJXKEYRhcAAAAAACDYPYXIJpOZ4/jBoanD6eRYTq/XIoRUaqVAQIaEGH7y/75zV42HGPQMw1IUxfP8gECc53mH3cFzXGhoSKDwtumK1WoVSZJmi2Vwgwghj9c7IIjHcVyjVs+YXjxjerHH42lobDpUeuzkyTM2q+2F55/W3eT0u+aW1td/96f4+Jif/+T7qanJgfzNHMcPb3GwTqcNDTW8+NxTERHht62M47fP2QwAAAAAAG7tntYiN7e0skFb3Px4nu/u6aUZOjwsFCGkkMtlUmlXZ7fH4xncQlNza1V1jcs1xAoEoVCoUMh7+/oHd0FRnr5+k0arFpB3EeLLZFK1Stnb2+twOAe/W1l1leO4wEuT2XLxUnmgplgszkhP++63X5k9a1pDY1Nz80133R07ftrn8z29bElmZnrw+SZ2u52m6TsfbUB4WKjVanM4XfyNR+7xPG+2WC9drrDZ7cNoFgAAAAAA3Mw9hcg11+pq6+oHFNps9oqKapVKlZhgRAgRBDF2TJ4/4hxQ0+f1vf/BJ9t37GXZgUsIEEJisTg9PaWs7ILT6Qou53m+vb2jtq5+3JjRdzVaDMOKCifa7c4zZ88PCDc9Hs+GDVuDS/r7Te9/8HFtbUNwTQzDRuXlOJ3uW2S08EfVkTfO+PI8f6W8iqKG+JBwW8b4OMRjVdU1wRE8Qohh2BMnzqxZt8lmu+lgAAAAAADAMNxTiKzVaP/1/sd19Y2BEoqiDhw8cqW8cu7s6QqF3F84c0axTCbdsnVXXd0XESfDMBs2b2toaBqVl60YagWtWCwqmJTvdLk//mSN1+sLlDvsztVrN4nF4kmTxt/tgKdPm6zX63bu3ldeWR0Yicvt/nTV+s6u7kB2YYSQVqtRq9W79uwL7hohdPT4SaVSodGob9ZFeHgoQqi8oipQwvP81ZraHbv2Uh6Pd6ip9GD+vYnB883h4aGjRmXv3Lnv3LmLwTXr6ht27N6XkZai12lve+MAAAAAAODO3dNa5PlzZ1ZUX/3r397Jzc1KSDDabbbLlyubWlonTRpf/PkxzgghqVT6s59875/vffi3t97LzkpPTU12u6hzFy61tLROnzp55oziIZcRYxiWnpo8Z9b07Tt2/+J/fjM6L9dg0Le1dVy8dEUgFDy9bElMdOTdDlgoFP7iZz946x//+ud7H2Skp6alpTjsjouXyp1O9x9++z+/+8ObOHb9M4NOp50/d+bKVet//NNfTy6aZDDoKYo6U3ahrbV9zpzpgxPYBUyfWnT85JlPV667VlufnJjgdLnq6hvrG5rmz5lx8tTZlrb2rdt3jR83xr8KZTCDQU8QxL4Dh202R3h4aIIxTiwWz509o6+v/x/v/ufEybMpKYlisbjmWl1Z2YX0jNRZs6bd+gRvAAAAAABwt4jXX399GJcxLENRnuTkxLlzpstlso6OrmvX6ixmq96gm1pcOH/uTJlMGlxfo1FnZqQhxJstlpqa2p6ePo1WPX/ezJIFc4I3sdntDoNebzTGCQQkQggn8KREY1KS0eWienp6G5tbGIZJSkp48onHM9JTAxf6aJqh6dSUpMGTu/6scMGH8MnlsoyMNAzDrVZbbW29y+WOi415cunjEeFh23buzc3JTEo0IoQwDIuMCI+Li3G5qY7Orrq6ht6+Pp1WO3/+rClFk4TCoU/MRgiJRKLRo7I5lmvv7Kqra7BYrVqNZv68mePHjzEYdE6ny+v1JRjjVSolx3EOpys+LjYiIizwIUGjUXMcZzKZ6xuaQgx6f1o9hUKelZkhFotdLldzS1trazuOY5MmTVi8cIHB8EVeapfLJZfLszLTh/EDBSPL0W/hrW4VKb591QeER6hPSCu0aplUevvaAAAAwCMGG7Aqdxh4nqc8HofdIRAIlUoFSd40+RrP8x6Px2Z3CEhSLpcLhYLbpqHw4zjO5XJTHkoqlcplNz35+bbcborjWJlMhhCiKI/d7pDLZTKZFMOwK1cq3nrn/ZdeeKZg0oTgSxiacbicXo9XJBLJ5bKbJaEbgGVZh9Pp9Xhlsuvt+8spiuIRkojFt75xm83u8/lUKqVAcMMjomnGbnf4b0EiuU0j4AHqrGlgm/qiRQ9vjmoW8VVyd3hCnEE38PQfmqZraupcbveYMXnkjQlrHA5HRcXV3Nysu/3uor2js7a2ISsz3WAYmL/8SnklKSAz0lKHcRcAAADAfXJPCy38MAyTSiS3ThUcqCmRSAaflndb/pnUwOLmYdu2ffflKxWvfuPF+LhYqVQS+DXPMMzOPQfUapUxPm7AJaSA1KhvuvL4ZgiCUKtUaFCAdIf3rlIphywXCEidbuhkc+ArimaZw5fLTlZdwhAqyBiVn54byM/tpNw7zhyuaKzTKtXTR+VnxSUGkn+b7datJ0sxHJ+aOz429Pre0Kutjdfam+eNK7xZ8u87HRJNny27cLbsvFqlSk1NCn7LarXtPXAoMTH+tiGyz+c7f+HyqNxssUSMEGpobF65ev3MmVMXlswT3fglzMlTZ2Uy2b2EyG431dLSFhsbDYuOAAAAjJR72q73lZOZkdbe0blt+x6LxUrTNMMwPh/tdLk++XRteXlVTnZmRMRNT5YGYMS5PZ4/rf3g96veC1FpQtS6P69f8ZcNK7y0j+f59r7u5//yyzWle4wR0R6f95X/e21P2Qn/dz5N3R0LX//B0Yrzhy+fffWt12vaGhFCXtq3/XSpQiwhiHv93MvzyOvziUSi9/794YAj0zme93g83B189eRwOv/vrffMVpv/JcMwXq+3sqK6qqpmYD4Zr9fn8w3Vxp0ymc2btuwwmcz30ggAAAAQbARmkb9CsrLSX3px+b59pX/8y1sJxji5XNbT09fS0ubz+ebOmbFk0WMPeoDg0XKtvelk1aW3v/2rnIRUhNDssQXffOs3JyouTskZu+PMEYlA9J8f/karUCGExqdmfeft349JyQjT6jcdPzBvfOFPn3zZ6/P9bfMnR66cT402Vrc0+Ggmy5gy5PnqwzBp0oS2tvY16zY/89QToqHOv/RjGMZud1Aej0QsVioV/lzgPh/tz9XodDpdLoVEIkYI6XS6sWPyjp04FR8Xc4ucMBzHUZTHZrfjGK5UKgITwxTl4Xk+eH2Rx+OlaVomkzqdLoZhHE6n3f7FcZsAAADAvXi0QmSEUPHkggRj3LXa+v4+k8VilUmloM7Q7QAAIABJREFUkyaONxrj8nKzhnf6HQDD1tzVoVeqowzXv7uID4vMik9asW/zuLSsmtamgsxRCsn1vXSTs8eKhKJNxw98u+QpyktF6kMRQgKSVEnlbq8HIXTgwqlRiWkG1YitwxGQ5LPLn/zXvz+6dLl8/LjRQy58N5stB0uPdnZ2C4UCluVCQw1z58yQy2QtLa2Hj55ACO3ZcyAtLcW/vp8kiPHjRnd0dR8qPbZk8dAfRzmOu1Jede7cRYZleJ4Xi0RTJhfEx8fiON7W3nHxUvmM6VP8B1tSlOfAwcNymWzMmLy9+w519/Tu21+q02qfe/bJkXoCAAAAHmWPXIiM43hcbExsTDRNMzTtwzBcKBQQBAFb38CXj+M5tVQhEV5PyI1hGIbh569VIR5hGBahDyE/XzVBEgSBExfqqhBCk3PG/nblewKS9NH03nMnf7r0pfLG2ubuju88/szI/jUOMejnzZl5+OjxuLiYsKDD3v2sVtvGTdspD7V44QKBUOB2u3fu2v/Xv737q1/+KDIyvLAg/8DBI5MnF0RHRQQmoVUq5bw5M/7293+mpCQOmXqlrq5x0+bt06ZNTktJ5nn+8pWKLdt2LX9maVhoiEGv6+3rO3Pm3OxZ0zAMq6iovnip/GsvPSuVSooKJ5rNlqLC/IhwWCgFAABgZDyi86YYhgmFAplMJpVKSJKE+Bg8EDGh4Ra3o8dqQv6T2839NW2NXaY+sVAUGxpxub7GSbkRQhzHnb1W0Wvu89csyhrzu+e/t+vssdLLZd9buHxsaub3//m/r8xfKhYIfTRND3VW5bBlZqZqNOrTp88NOAee5/lrtXXdPb1PLVsSHR0ZFhpijI/72kvLGxqazp49L5VKQ0L0CKGQEINOpw3sMsQQFhsTPW/uzI8+WW0fdHA6x3Gfrlw7btzo4skFYWEh4eGhUyYXqJTKquprLMdpNOoZ06acPFXW093X09O798Ch6dOmRESEkSQZEqIXiUQhBkM4hMgAAABGyCM3iwzAwyMpMjYpMvbtbaum501kWfZ8bZUxPOb8tSoCx2ePLfjz+g/f3rZ6VGKa3e08UXVp3sTiHnO//8L89Jz89ByEEM/zq0t3jUvJMoZFbTl5qLq1QSIUzx47KSM2cUQ++Eml0uIphavXbMzISElOSgyUMwzT1NwWGxOlClr7K5VKJ00af6WiatLEW518OX3q5Jqaup279i9etCD4SMuu7p6W1rannlrc09MbKNRoVI2NTYWTJhBCPCU5sbAw//0Vn4aFGWKiokblZcPiKAAAAPcJ/IIB4IFRy5WvzHsiMzbpZOXFyua63ISUCWnZMaHhOI6nRsf/aMkLEoHweMWF1t6upUWz9Ap1TEj4gBY6+ntOVl360ZIX9pw7vqfseKQuhGboN1a/397fM1KDjI+LGZWXvWbtZpvti3lflmXtdrtarRqQKTw8LNRqsd26QRzHSxbMbWltu1ZbH5zdore3j2W5c+cu7d1/KPCnrb0DwxBCvP/CooJ8i9lSVVlTWJj//7N339FxXHee6O+t1DkgZxIAAQIEQTCIFCVRFC0qUlmWZcu2PB6HeWN55s3srt853n37zqx39s3MmXnpzKw9O7YnrJNsyQqWLFuRokSJkpjBAIIIBJFjoxuNRndXvu+PApqNRgOESJBdJL8f8QjVt9Kvuzr86tate9HFGwAAXDmoRQbIGcZYcTD/a/c9rmgqx3GSIP7Vsz/aULPWmtW0es361XVJRZFEkee47/3kB0/d9UD66rphvHHkwx3rNxfn5e8/deSJnffct+12wzD+ww//9nDH6aqilWl1IAjC7t13nDjV9usXX71r9+zA8pRykiRpmmYyln6eLSuK0+nIup10FRVlW7Zs3PfeB7W1F3oiF3hBEPjbb9vucM4bldDhkKyOMgghp9vaOY4rKSlqb++oqV6FWmQAALhC8AMDkDNHu8589r/+u+7hfqfkkARxYGJk/8nD//6zXzVN8x9f/dWf/+PfxJIJt9Mp8Py+E4cmpiNf2f1w+uqdg73946M71m8mhFBCGWMcpaIgKIrGr2ju6HG7//SZbx493nr0WKtVIopCUVHh6Oi4LMvpS548eaa0NPPGvoUEgb/1lm2yrBw4cDBVWFpWwhjhOH5VVYX1r6qyPJFIDAwOWZXNw8Mjr776+298/ekvPvXEwUNHOjq7V/A5AgAApEMtsi289c57R44ca2lpvvuuXU7HxSvh4Pqwqqi0LL/wx79/4dHbdscS8d8f2n9zY0tdRRXHcTeva/n94Q/+5fUXblm3sX985KUP3/lPX/xm+rh0uqEfaDu+uqS8qriMELLn5p3P7vvd4MRY7/hQQknubL5pZUMNBgNf+sITL7z0aiKRJIRwHNewtu5466m2trObNm6QJDGZlI+fODkyOvrtb32dEGL1EqPr2mIb9Pt8D+6591/+7ecOp8Pn9RJCigoLbrn5pjfe2vuFzz+enxc0DKPnfN+vnnvprt13UErj8cSbb+9b37yusaGeMbbjtlveeff9srKSYCBgnQ+YprmyTxkAAG5k/Pe+971cx/ApHDna2n62s7Zmda4DWUnxROK/f/9HodDk6Oh4S8t6jH1wHYiFImwqERCcSy/mdrqaVq0Znhw/ePbkSGhiU13jV+55xOfyEEJK8wtryyrP9J47eb5zOh5/7Pa792y7nef41Lqqrp/t77n3ph0Bj5cQUlVcVhTIG5gYKckr/PYjXyzJK1h614yQCUnz5Qc9bnfGLE3TWk+c9no86xrXprdkKC4q7B8Y6ujs3nP/3V6vx+f3OR3SvvcP9Jzv7enpPXjoaEdH12cffaipqYEQIorioUNHw+GIqmoFBXmDQ8NdXefu2n2HIF44LS8sLFBk5YMPP66trb5py0ZCSFVVZduZs8eOnRgaHjl+/OTBw8dqalbt2rnD6XS+t//D3r6Bxx55wOfz8jxfUFhw8lTb6Oh4U1MDx3On29oHh4aHR8ZqVq9KdaABAABwyShbxliy9vF//7/f7+3t//4//F2uA1lJ+z/4+Ic//p8PPnDvhwc++eIXPrvz9ltzHRFcruGz54zzE1WOwHIWNgwjriRFXnRKUkY3FJquJ1XZKTqk+XfFEUJMxuJywut0X1rPFQZhbd5E2ZrqooLChfGMjo5LklhYWJC+ccZYODI1NjpeV1cjSRIhRDeMsdHx4dHRcDiSn5dXXl5aXlaaWmVgYKiz61xBQf66xrWJRGIyHKmtXs3x81qAJJPy+fO9wbyg1aUxY2wqGh0aGh0dHWOMVFaUVlVVeDweSung0DDP8yXFRVbWzhgLhSZjM/Ga6lWEkKHhkbMdXU6n89abt/ICUmQAALhc11hDC13XNW3RS7fXItM03//gQGFB/u47bx8cHPrk0BGkyDcanuf9bm/WWaIgiEL2WRylVn3zlYinoiKz6wxCCKW0ID/PGtzOIvB8RUVZeXmpaZpW5pqeUldVVZSXl1FKKKUORzDroNMul7OpqTF9F3nBYDAQWNdYTwjlOJraYGVFeUYwRUWFRUWz+X1FeVlZaQmlFH2cAwDAirj0FJkxFk8kZmbimqYRQiVJDPh9TmeWK8uKoszEE4osM0Ykh+T1uF0uV/p2kklZ13Wfz6vrRmxmJplIEkKcTofP57UqqxhjqqbFZ+KappmmGQ5HKKU+nzd1nztjbGYmLsuyoqg8zzmcDr/Pl5pLCNF1I56IOyTJ4XDIsjwzE5cVRRQEp8vp83oXXpk1TTORTCYSSVlWeI5zOCS/3yeKYsYPMGNMVdV4PJGUZWYyh9Ph9Xpc2V6ExXR39wwNjTz84L3FRUUNDfUv/+a1SCSal7es2kcAO6CULta2gecv5a7BJTa4gqsAAAAs4RJTZNM0u8/1vLP3/Z6efpMZiqI6HNL6psZdd+yoW1OTWowxNjIy+v7+j852dMXjcZMxp9NZvbrq3nvuXL2qyko3NU078PHBgYGhxx59cP/+jzo6uyKRKU3T3R731i2b7vzM7Vbb3O7unhdf+m1vX38yKX//H//Z5XZ98QuftSqWdF0/c6bj3X37xyZCiqJQQv0B37atW26/bXuqXe/k5OTLr/xu88aWktKivfv2Dw+PTkWiPM8VFOTftXvXxpb1Gd27nm5r3//BR4PDI4qsUELdbteGDU2777yjqLAg/dlNTITefe/Ds+0dsXiCMdPldNbV1d57z50V5Vkq4RYyDOPEqTbTNG/fcSvHcY0N9V6v9/U33/7SU5+7tOMCAAAAAJfvElPkiYnQL375gmmaTzz+UDAvoCjqwMDQG2/t7esf+ObXv7KqqtJarK9/4OfP/np8PPTIQ/eXlBRRSkOhyVdefX1wcPjLX/pcw9p6QojJ2NjYROuJU6Nj4wLP79x5W34wqBt6V3fPO+++n0gmPvvYQ5IklZWWPLDnnhdefHVsbPyBPfcIAh8MBAghuq4f+OjgCy++WlFR9ugjD/i9Xk3Tus71/OaV34VCoUce3mMtJitKz/neaDQ2NTXV1NTwyEP3OxyORCJx4KNDP/vFczz/pc2bNqSe3d5397/62utlpSUPP3BfQUG+qqqnT7e/++7+vt6BP/tf/zjV7WtkKvqjf/5JdDp29527yivKOI4bHRt78813z3Z0/fEffbW2pjrzVVsgHJk6e7ZrY8v6QMBPCKlevaqqonzvu/sfeWiP13tFrqEDAAAAwEVdYoo8ODgy0D/0nf/wJ03rGiiljLENzU2bN2/4T//7Xx46fMxKkRVFff/9A5OT4X/3Z9+qXl3FzXbMxLZt2/K9v/zbAx8dWr1qVSrdHB0dzwvm/fvv/rnT4bBql9fWr9E07e23991z952FBY78/Lz8/Lx39r4XiUS23rQpFcn4ROj1N95Z39T49a99OdUQorl53epVVf/8Lz9rWFt/87YtqdYRx461fuXpL9x/311Wj1SMsfLysh/+6N/efW9/KkUeGRn7+bPP19ev+fa3vuHzzTYDbWxYm0zKb+997/0PDtx3z26r8MWXX50ITf4v3/xq6sb/dY31G1ua/7fv/sVvX3vzT7/9zaWv/DLGhodHzp/vffzRP7FKHA5p27bNR461Hj3WuuuOHZd2aAAAAADgMl3i+AKxWIzjuVSHUJRSnucqK8pvuWWryZiu64SQUGjyo08O33fP7lVVFaklOY563O6HH7y/tfXU6NiFMXI5jn79D7/kcjpT6awkSWtqawzTDE+Gl4jkxInT8Xjivvt2S2m9AfA837C2rr6+5pODR5LJC0MbVK2qfPCBewVBsJaklBYU5NfUVPf29lsLGKb51jv7VFV76snP+v0+OkeSxPvvv6t6dVVnV4/VB8jA4NC7736wfdtN6R1jcRxXWJD/B1/6fGfXubb2jqVfQ0VRjh8/VVZWWlpakirctnWzy+n85OCR6+yuRAAAAIBryCWmyBUV5YSRfe992NV9TlHVVPmfPPPNzz/xqHWfXGfXOafDUVuzOv22OUtlRZmmadPTsVRJUWFhcXFRxmIOh+RwOJKyskQkJ0621dXXFhZm9gLr9rirq1f3Dwyq2oXwmtc3ZtxvJ/C8x+3S1Nl8NDYdO3++b/WqypqaVZlPubzsmW99/cE9d1sPj7ee4nlu602bFg6Be/PNNyUSiaGh4SXCJoREp2PHW082rWvw+S90WeDz+Xbctn1waKSvb2Dp1QEAAADgCrnEhhZl5SX33nvnG2/u7ezqrq1ZvWpV1dr6uvq6mvSb3gYGBpNJee++/YcOH8tYfToWkxUlEp5KlVhVthmLcRzHcdzSg2aNjo45nY6XXn4tY8RdRkhPT+90NGYYF1YvKMjPWJ1SyvF8qmvoyFQ0kUg0NtZn7Tpq9aqq1PTQ8IhhGPs//HjhsyOE6Joem55ZImxCSOuJU+FwRFHUo0daSdre8vKD4XC4/WxnbW31wvwbAAAAAK60S0yRPW73ow/vadmw/sjR1mPHTx4+fFwURX/Q//nPPXbr9q1WfhmaDOuGEZoMT8cWJots7do1jrSRljmeI5fUn+nUVDQQ9I+OjS+c5XBKdfU1QlqD4It2C5VIJBRVDQazdOCaIRKOMEYmQ2HCZYm7aX1jXn6QMbZEL61vvrlXUdV39+1/b/+B+XOYqmrtZztvv/2WvGVEAgAAAAAr6xJTZEqpw+FobKhvbKj/8hc/F5mKHjt24vW39v7TD/91ZGT08Ucf5DiuoCC/tKTo61/9UsX8Pv8X3eYlRRIIBrZs3vClpz4nLhh+LNsuLrITj9vtcDhCE9lbP2uaZhimJIkcx+XlBSVR/KNv/kF+2kgKy3fq9JnRsYn777tr184st+WdOHnq9Tf3jo+HgoEAhkIAAAAAuMou8Tp+V3dPR2e3qmqEEEppfl7w7rt2/fV//T/KykpOn24PhyOEkIrysuj0dDQ6vXCM61hsprX1VDQ6fZnRE0JKiosmJiYTiWRGuWEY/f2DbWfOfqr73gIBv9vt7u7pse44TMcYe/PtfS+8+IqiqISQsrISwzQHszU4npmJt544NTY+sdheDMN48613fV7P7t13rFlTvfDfTTdtcjmdra2nDcNYfvAAAAAAsCIuMUU+cvT4s798wUqFUxxOqbFh7Uw8PhOPE0Ia1tYxRs60d6pp9/NZDh468otfvTA5f/VLs2VzS3d3z/DwaEZ5LDbz3K9f3vfeB58qRfb7ffV1NQMDQ6fb2jNmTYQmX3/j7cGhYckhEUJu2ryJcvTgoaMLt7933/u/ePbXIyOZIaUMDA51dnY3NNRVLVK/XliQ39BQ99HHB2VlqVsVAQAAAOBKuMQUub6utn9g8PCRY3paNWcyIZ861eb3+fw+HyGkuLhwy+aWt/e+d/hIa/q6/f1DL//md6tXVRYVZXZDcVE8z2u6nn4D3/r1jf6A71e/fikSmUpfcu++/Z1d55rWNTocn2I4aJ7nP7PrdkkSf/ncS+d7+y48taT8+9ffjkanH37wfuu+wIqKsh233nzo8LGPPj6UXuV86vSZ3/zm90VFhfV1tYvtpbX11Ew88ZldOxdrG+12u+vr1kxFp0+fOrP84AEAAABgRVxiW+R1jQ233bLt2V+9ePLkmVtu2erxeMbGxl5/Yy/lyOfv3mU1z3U4HA/uuWdkZPQH/+OfDx480tzc6Ha7T585u3//gVVVlY88vMfn9V50RxmKigqPt5569bU3SkuKGhvWBoOBivKyxx976Kc/e+473/2LnbdtX7OmRlHU994/0Nfff+89u2+9dRvPf7rTgIrysj//0z/+/j/9y//1/3x/600bm9Y1Tk1FDx480tXd8+STj65f32gtxnHcHzz9hchU9F/+7eeHjxxv2dDk9XhPnm47eOio5HR842tPezzZh8ebmpo+c6YjLxhIH88vA6W0oaEuLy/w+zfeuXn7Vg7NkQEAAACuIv573/veJawmSeLa+nqvzzM+Pn62o7u9vWMiNNmwds3nn3x886aW1GI+n3djy3qn0xkKTXZ19XR0ndNUbdvWLV/9yhfLy0qtZRhj09PTDoejef26jFpVWVGmp2eamhry8mY7digqLIxEpjo7z53rOd+0riEYDFBKqyor6utqlaQ8Nj5xpr2jv3/Q43E//tiD99272+mcrUJWVS0ana6pqU7tNyUanSaEbdu6OVVSVlbasmF9PB4fGRk7captaGgkEPA/+eSju3buSO+FTZKklg3rXU7nxMRkZ9e5sx2dqqpu33bTn3zrG6mAF5qcnBweGb31lpvX1C41QrXP452ZicuyvHFjsyRJSywJNhQLRdhUIiB8iisYVxkjZELSfPlBj9ud61gAAABshy68l275GGPJpDw9HTMMw+Nx+/2+xfrx1XU9HJkydMPn93oXqV5dJl03QqFJQeSDgUDGoCSJRCIajQkCH/D7rRbDl4MxFo8npqaiTqfD7/elRrdeSFO1SDSqa5rf73e7XejMGIbPnjPOT1Q5ArkOZFEGYW3eRNma6qKCwlzHAgAAYDuX2NDCQil1u11ut+viuxGE4qKV+SUWBL60tDjrLLfb7V65KjFKqdfr8XovntCLkrhSzw4AAAAAcg71nQAAAAAA8yBFBgAAAACYBykyAAAAAMA8SJEBAAAAAOZBigwAAAAAMM9l9WgBAFmZhGgcU6h58UVzxCDMMO0bHgAAQG4hRQZYecwpTPk502HfHNRkzKS8JGJUGgAAgCwua+gQAMhKURVVVTlq34ZM1sfe5XRmDGkJAAAABCkyAAAAAEAG+9ZyAQAAAADkBFJkAAAAAIB5kCID2J1pmoZhoE0UAADAVYMUGcDupmOxzu4uTddzHQgAAMCNAikygK2Zpjk6PnrqTFs0Gs11LAAAADcKpMgAtqYoSl9/v6ZrZzrOmhjsAwAA4KpAigxga0PDw5ORMCFkeGR4bHw81+EAAADcEJAiA9iXrusn209bN+qZzDx1ps0wjFwHBQAAcP1DigxgU4yxju6uZDKZKpmanuobGEDXFgAAAFcaUmQAm5qZmenuOZdeomlab3+vrCi5CgkAAOAGgRQZwI5M0zx3vieRTGSUT0bCY+NjqEgGAAC4opAiA9jRdCw2Mja6sAsLVVUHh4dUVc1JVAAAADcIpMgAtmOa5sjoyNQiHSEPDg9FY9NXOSQAAIAbClJkANtJJBN9gwMmy94LsmEY7R0d6CMZAADgykGKDGA7E6HQTHxGFEVRFAVBSJWLc0KToclwOIcRAgAAXN8o7vsBsJukLCtz3VYk5eS7+9+zph+8d09qGZfL5ZCkHAQHAABwAxAuvggAXF0up9PldFrT6bXIwUAgRxEBAADcWNDQAgAAAABgHqTIAAAAAADzIEUGAAAAAJgHKTIAAAAAwDxIkQEAAAAA5kGKDAAAAAAwD1JkAAAAAIB5kCIDAAAAAMyDFBkAAAAAYB6kyAAAAAAA81DGWK5jAIBF6bo+MjZqTVdVVOY2GAAAgBuEkOsA4LpiGObJk6cPHTne29sXiUY1VTV0kxGchoFtUZ6joiR5PZ7KyvINzU1bb9ocDPpzHRUAAOQYapFhZciycup0+6+ef7G/fzDXsQBcury84GOPPnDHztu8Hk+uYwEAgJxBigwrIJlM7nvvw+df+E08nsh1LACXi+e4e+6587OPP5QXDOY6FgAAyA00tIDLZRjGkaOtL7/yOys/djictXX1VauqfT6fKIkc5XMdIMBSTGYauhZPJMZGRs51d05FwoZpvvX2PlEQnvzcoy6XK9cBAgBADiBFhssVm4m/8tvXp6aihBC32/3U01+rr2+UHBLH8ZRSQoj1fwAbsi6jMcZM09R1LTQx/tvfvHC2vc00zQ8OfNLU1Lj1pk25jhEAAHIAnb7B5Wpra+/rGyCECILw1a9/a+Omm9wejyCIHMdRSpEfg51Zb1GO4wRBcDpdlVWrH/vcUyUlZYSQqanoiZOn0XYIAODGhBQZLteRo8etiZZNWxqbmnMbDMBlKiur2LJtuzXdc743Gp3ObTwAAJATSJHhcp3v7bcmmltwSRquB03rW6yJiYnJZDKZ22AAACAnkCLD5ZqKzFazFRYW5TYSgBWRX5BvTSTiSU3XcxsMAADkBFJkuFyKKlsTLrc7t5EArAjnXC8Wmq6ZppnbYAAAICeQIsPlMnTDmuA4dJAC14NUT4WmaaLneACAGxNSZLhcqQwCnVfA9YHj8MUIAHCjwy8BAAAAAMA8uDIONzpr2IiM6+k8xxFKs5TzHCGz5RzHpVc3mqZpmibPc5RyqW3yHEezLMNfWo07Y4wxZpoGMxmllOP55fQ8bZpmNBoZ6O8VRbGyarXX60d9PwAAwNKQIsONTpHlI4c/ngyF0gtvuW1nIBg8fvTQ+NjYvPIdO/Py8k+dOD440F9WUbF1262pLHl8bOTo4YPbtt9WXFKqqeqhgwcmQ6Gm5g31a9elVu/uPNvXd37zlm2FRcWXEKosJ7u7Ojo72mOxaZ/XV7Wqem1DUzAvb4lVTNPs6mx//pc/SyQSLpdr85atDzz0eDKZcLncvICPPwAAQHb4jYQbnawkjx4+eL7nXH1DQ6owKW91Kq7WY0c6O8/W1a9NlSvyVk3TzrSdPHLoE6fLVVRUUlNbZ80KTUy8/947a+rXFpeUapp27Mihc92dZ06feObPvhMMznYidr6n6+AnH9XUrMmaIpumKctJURRFUcoa6t63Xj/w4Xt+fzC/oGB0ZOhM2ymO47befOsSz05VlDOnT05Hpx574qnS0jJ/MBgOh/a+/fqdd99vjSEHAAAACyFFBiCEEEmUvvT011MPPV5fMpkghEiSI73c6/OpqkoI8fr9M9PT77z1+pe+8nWPx5N1m26PZ3x87I3fvfr5L/7Bcu4Ai8Wiv3v15abmDZs2b1s4V1Xl9/e9U1Rc8sTnv1hYWJyUk7qm5eUXpBbQNHVyMkQpV1hYyPOzH21VUycnQ4FgXnXtGr/f7/F6P3x/X+uxI80bNjmdLofD6XA4EokZSji3xxOPz0Qik8VFpZLDQQhRVWViYsznC/h8PkovxJ9IzExFIhzH5eUXOBxOQoimaYlE3OFwOJ2z3aXF4zO6rrvd7sXSfQAAADtDigxACCGU0vR0kxBipcgLy60UeVXVal4QujraT7YevXXHHVm32bJpy7nOztZjR5pbNjdv2HjRGHRdHxsdXrV6dfbZjJqm4fV6y8urXG53gMxrX9F2+sSvf/nzSGSSEJKXn//Ul7/W0NgUj8f+6fv/39BgPyHk7/7qv3h9vtt2fub9vW8pivLjf/rvhJD7H3jknvsf+uEP/p4xs7ll8963fq8oitfne/KpL8dn4i+/8JymqQ6H48FHn9h5x50cx8di02+89puPP/rAMAxCSEFh0Ve++s2aNfXDQwM//bcfSpLju//5LwkhvefP/ex//liW5f/8X/5PpMgAAHAtQo8WAIQQwgiLTUdT/y6Us/Ty6VS5qqpPfemrHq/34McfDg32Z+09l+O4x59z/qy3AAAgAElEQVR8ijHzwP53w+HQwgVSotGpqUh4OhrVdT2RSE5FwlORsKqq6ZuVHI4t27b39vb87rcv9fedVxQlNWt4ePCn//ojn9//6BNfeOyJp9wuzwvP/fx8TzfPCzdvv62yalVefv7jn3vq8Seeali7btXqGkrp3fc98MWnv7ahZbNVvT040N926sT9Dz76md33aJr2i5/86769b22/9fZ77n/I7fa8/cbvZFkmhDidzrz8gnvuf/APv/nMvXseMnT9xV8/SwiprFq14/Y7w+HJ37z4q+np6IEP3ksmEt/4o2+73d5LPyQAAAC5g1pkAEII0TT1+V/9zJqmlH79j/5ktlxVUuU8z//hN56xpnVd8/r8d9/7wKsvv3Do4EcPP/o5sqCXCEPX19Q13L5r94H9+44dPrhr971k4UKEEEJe/vUvZTmpaupkaOLI4U96ujsJIffueaimtj59sd13328a5tEjB8+0nVy/YdOWm7atrl7Dcdxbv/8tx3N33HnX1m23UkorKir/9cc/6OxoX11du2Xb9u7uDkLJTdtu8fn8hJDS40fOdXeu37CxNm3jTqdr52d2W6uHJibaz5zaffd9t9x2h67rhq69+86b09Go2+0RRemue/cQQnVdKyuvGB4caD/TZhg6zwvbbrltcKDvg/ffVRSl/czpO+68q7ZuLQEAALg2IUUGsFBurrkt5dISWXqhnEtrj2vV7zY1bzx9svXwJx9t2rx1trVxWm2ytcxtO3Z1nm0/+MmB5pZNVgdwCyuca+vWapqaSMTDk6GSktLqmjWEEK/Pn7FYaWn5I48/2dyy6eihTz54b+9gf9+Dj3y2rr7hfM85j8dbUlJm9eaWX1joDwTHRoaXP3iyy+XKzy+0Vi8oLHS53IWFxRzHiaLoDwQJIbKcJIQoinK2/XTbqROx6WlVU8bHRg1DN3Sd5wWfz3/3fQ+2t58++PGHa+obtt182zJ3DQAAYENIkQEIIUQSpaf/8JtZyiVHWnlmHXAgENx+287hocFfPfuTxz77+SzJLyF5+QU7d+1+8fln3337jbKKimwZMrn9jjsJYZOToa6Os2sbGnfsvJNYyfn8DowppYFAcNPmrc3NG999983fv/pye9upmto1HM8JgpC6VY4SyvGcYRpZ95UVx/OiKFrTPC/wPM/xvLVHbjatZ6ZpHD38yasvPV9cWnrLjjt8fv/HH7zfFj2Z2ogoiYosG4bBmDnvNAMAAOBag7bIALNEUUr9W6RczFiFUrq+uaV54+axkeEP39+XdbMcxzU2NW/YuOnw4U/6e3sXW4bj+Nn/UetP5vAimqbJcpIxRikVJWlDyyZKqSwndd2oX9uYTCbD4ZBVbz0zE5uemiosLE6v9k6PmRCiqWrW8tSDhSuqitrVddY0zS//wTdu27GrrLTcumnPEo/PvPryrzmOu/X2nYP9/YcPfsTYcuuwAQAA7Aa1yACXRRDEXXfe3dHe1nb6hCQ5si7j9wdu3XHHue7O1uNH8vLzF9uUy+XedvNtFZVVWecODw0c/PjDisoqt8eryPLJE8dcLndF5SpJkrbfuqOro/3A/n2yLHMcd+jjA4Iorm1YZ9UEZ/D5A4IgHPrkgK7reXn5JaXly3ymlFJRFAlHz3V3RSKRzrNtIyND1ixNVT8+sL+7s2PnZ+6+6577CKP739tbXVPb0Ni8zI0DAADYCmqRAS5XUVHJQ48+sfSoztU1ddtvvX3pxsFut2fHzs9YDZEX4ji+q/Psyy889/wvf/rCc78YHOi/5/4HWjZtoZTWrln70KNPTE1FXv71L5979qejo8MPPPR4TW1d1pCaWzatWl17/Ojh55796YnWY+k1wUsTJWnT5q1+f+C1V1789a9+NhWJbNi42epBub+/9+MD+ysqq+69/0GPx7dj52c8Hu9zz/50fHx0mRsHAACwFZq1syqA5Xvyqa9ZE3/x3/6uoKAwt8FcAsZMVVFNZrpc7vnlTFUV08xSrmmqaTKn05kqNE1TkWVCiSQ5eJ5njKmKQjkqilIqT9V1XVVVjlJRkvhs9btLM01TVRU5mZyJxdwet9vjFcUL2zFNU9PUmdg0RzmXxytJIsfxc89CZYw5HA4rEsaYpqrRqYhu6vl5hZLDoSgKIUySHFazY01VdcOQ5oLUNU3VNIfDwfO8Nf5fJDzp8/tdTjflqKZpTqfLNA1VVXmet+rRGWOKopim6XQ6rDCuOX/+7dnxYr73F99d39SY22AAAODqQ0MLuNFRyjnSkt20cmoNHbewfGGDCo7jXG53+jILtykIgiBc+ieO4zin0+V0uoJ5WZpqcBzncDgXBkwpdTgcGSWSw1FUUpoqcc4PVZSk9DbXgigKc42wOY5zuz1u94XRBAVBJITwvOByXXhqlFJntpcUAADgWoGGFgAAAAAA8yBFhsuVau6KRjtwfVh+f9IAAHC9QooMl4u70BxWz20kACvCZLO3MHJcZtfUAABwg0CKDJfL4ZjtRTiZTOY2EoAVISdla0IQhNlBEwEA4AaDb3+4XHnBoDURmhjPbSQAK2IyNGFNeDxu8TLusAQAgGsXUmS4XDU1q62JUydacxsJwIo4e+a0NVFUVOhyu3IbDAAA5ARSZLhcmze1WBNtp1o7O87kNhiAyzQ+NnL82GFrevWqKr/Pl9t4AAAgJ5Aiw+Vq2dBUWVlBCFFV9d/++X+cbT+tqappGmxOrgMEWFTqXWqapq5r42OjL7/4q9GRYUKI3+9r2bDe6/VcdCMAAHD9weh6cLkMw9j/wcc//8Xz07EYIcTpdK1tWLe6do3f75ckiaMcQZ8AYFuMmMzUdS0Rjw8NDXS0n4mEJwkhHMfde/dnvvjUE263+6LbAACA6w9SZFgB8Xji7b3vvfzyawl0agHXPo7jdt2x4wtPPlZQkGUgQwAAuBEgRYaVIcvKqVNnfvncSwODg7mOBeDS5efnPfbwAzvvuNXrQRMLAIAbF1JkWEmGYZ44cfrw0eO9vX2RaFRVVNMwGcF7bCUZhmGapiiKuQ7k+kB5joqS5PV4KivLN2xo2nbT5kDAn+uoAAAgx5AiA1xLNE07dqK1b6B/z933+tDZAgAAwJWBHi0ArhmMscjU1MjYqKZrJ9pOmaaZ64gAAACuT0iRAa4ZuqEPDA3EE3FCyPDIyEQolOuIAAAArk9IkQGuGYlEsvt8jzWt6Vp3zzlUJAMAAFwJSJEBrg2Msbb2M7qup0omwqHh0VHcTgAAALDikCIDXBtCk5P9gwPpJYl4YnB4UNO0XIUEAABwvUKKDHANME3zTEe7YRrphYyw4dGR6dh0rqICAAC4XiFFBrgGjI6PjYcmFpYnk8mevr6rHw8AAMD1DSkygN1pmtbb16eqata553vPz8TjVzkkAACA6xtSZABbY4xNhiezViFbdEM/fqIVXVsAAACsIKTIALZmmMbYxIRu6JIkSZIkCEJqljRnYjIUmYrkMEgAAIDrDAagBrA1xphhGObc53R4ZPjAwY8JIaIoPvbgI6nFBJ7nOJzxAgAArAzh4osAQO5QStNrjnmeT01LopiLiAAAAK5/qHYCAAAAAJgHKTIAAAAAwDxIkQEAAAAA5kGKDAAAAAAwD1JkAAAAAIB5kCIDAAAAAMyDFBkAAAAAYB6kyAAAAAAA8yBFBgAAAACYB6PrAcAVYQ1uTynNdSBLYXMje18TcSLIFYGDvrKulThhIcaYaZocx+HwZYVaZAC4ImRFUVU111FcBCNEVhTDNHMdyEXoui4rSq6juAhN0+wfJLmGDrphXBOvp3ItfNIhq9hM7HxfLw7fYpAiA8DKM01zJj6TSCZSNXb2ZBrGTHxG01Q7x8kYU1RlJj5j2jirY4wllaTNg7RcKwddtf1BJ4SYphlPxO3/SYeFGGNjExPHT56IxqZzHYtNIUUGgBXGGJMVhTBiGKai2jcRYYwlkknCiKLYOkjdMFRVI4zEEzZNRBhjqqbpmkEYScqyPYO0pB9022afjDHDtPtBJ3Mnb6bJDMNUFMW2cUJWiqL09fepmtrR1YVjlxVSZABYYaZpKopM5mrCbPvlq+u6oiiEEE3TVE3LdTiLUlXVMAxCiKzIumHkOpwsrANtZZyKItu5DcO1c9A1XdeJjQ86mf2kKySVK9v1kw5ZjY6PjYcmCCGDw4PWBGRAigwAK4kxpqhq6kfd+qW3YZbMGIsn46mHiUTchkESq0peTs49IEnZjnWKhmEoc80ZDcNUFJtWJGcedLs2D2CMJW1/0GcvHei69VDTdE3TbBgnZGUYxqkzbdbxMk3zxKlThl3PxHIIKTIArCTTNFVVJXM/lLONLuxHVVVdu/CTYBimPeNMyrJpXkg7NFVPJSX2ISsKSwtSVTV7ViTPtgaZYxpmUpZzGM9ikrJsGhdeQHsedMaYqqos7ZOOthbXkHO956fTmiCHI5NDI8M5jMeekCIDwErSdE2bf/1aURXdsNcPvGma8oKazkQyYbd6FMMwEslEeolpmorN2q7ohiEr8xJNXddteDOc1f7n2j3odmvGoOlaRk8Iqqra7ZMOWSWTyY7OjvQSwzR7es8r6NpiPqTIALBiGGPJ5IJqOZvdcsQY0zRNW1AtZxpZ8uYcSt1YlkFNa8eSc4yxeHxmYZCyzW7aY4zpuq5pmQedmeyaOeh2arA0G+cCCTt90iErxljvQH98/mkYIWQyHB4fH8fhS4ehQwBgxSiqmvWKsKZqmqZJknT1Q1rIai2d3jAgRVU1h8MUeP7qR7WQbhiqlqVSxzBMVVVFwRbf3pquq2qWm9503VBU1eV0Xv2QsrIOetYuLHDQL4GqqvqC8w1CiKbpqqY57PFJJ4Soqrp///59+/Y5HI49e/Zs3bp1iTEyzp079/zzz8fj8V27du3evZtf/C0xPj7+6quvdnV1rV69+stf/nIgELgy4V8R8UR8aGR44cUTWZEHR4ZKiott8kVtB3b5vAHAtY4xNhOPLTY3kUyIomiHMZwMw1DU7M2OdV1XVZV3OnMeJ2NMUeY1SE2XTCbcLpcdgkwuqItKiSdmnA5HzoO0GIahKNmbHV8rB12Wky6Xk6e5T+UZYzOJmcXmxhMzkpiX8xeTEGIYxnPPPfed73wnHA5TSn/605/+4Ac/uO+++7Iu/NFHHz399NMDAwOMsX/4h3/427/922eeeSbrkslk8plnnnnttdcMw+B5fu/evT/+8Y/z8/Ov5FNZMYyxiYlQaDKUde7A4ODaNfUF18hzuQrQ0AIAVgBjTJZltvg9WrpuqDboI5kxlpTlhReyU9RF6hqvJqtVwBJdkjFG4rnugmOuQ4NFm3wwkySSyZwfcTJ30JcIxCYH3TCMpQ96IpH719P6pJvGomGYBrNJb+iTk5N///d/PzExYRiGruvnzp37yU9+Eg6HFy4py/Lf/M3f9Pb26rpuGEYsFvuP//E/Dg9nv33ttddee+mll6yuGFVV3bt37yuvvGKH57scqqqe7+9drP29pmtnuzqvledyFSBFBoAVYN1RtMQCjDDVBrdwGYahLhmnrmt26D1A0zRzyQbHsiLn9j4zxpimqmyJsyJCFEXOeepJrqODruT6oJNlftLtcUepqqr9/f3pJUNDQ4lElusekUhkZGQkPebp6emenp6smz158mT6w3g8PjY2thLxXg2T4fBkJCwIgiAI6S1JhDkjYyORqUgOI7QVNLQAgBVAKXW7PWTuN2YmHrd+yyVJSjVIpZTm/PIrpdTv86ceRqdnuz3yeb0cN1tlkJrIIUmShLmGp5qmpW6NCvgvBJ/bOCmlDocj1WxRVhRrFAmO43xeb/piuYkvzWIH3evxpLIEOxx0URRTceq6Hp9L5tIPes5fz4xPejyRsM4uRFF0u1ypZXIeJyFEkqTKysqJiQuDYlRUVLjd7oVLBoPBsrIySmkqSw4EAtXV1Vk329LSwnFc6tzP4/EUFxevdOxXis/n3bH9VmtaluWPDx+0pnfeuiO1jENy5CAyW0KKDGAvhmkwk3EcZ4ff7IWsO9nj8bjf73NIF1qachwnpQXMJZNWisxzXE5u/tA0bTo2zXG81+tNv8mJ5/msd+GIorjE3TlXmtU8mud4URQ5jqOUCmkxp1du2edOGkqpKIqph6keQiil9gnSssRBF2xzA1zGQSdpKaatXs+MT3qqY2kuR5/0JeTn5z/zzDPf+c53YrEYIaSqqurpp5/Oy8tbuKTT6fzud7979OjRkZERQojD4firv/qrioqKrJvds2fPww8//Morr1gPd+7c+cgjj1yJUwLDNBZeNOA4TuAz37S6rpvM5Hme5zLf54ZhTEWjgsB7PV6e531en8/rs2bNxC8Mo1NeWrbS4V8P7PLtAHCDY4yZjIXD4bNdHRzHrV1TX1RYmOug5pEVuXegv73jrHWlkuO4qvKKTRs2etOqDHNO1/XB4aHT7Wei01GrRBTFtWvqmxobJdFev98phmF8dOiT/sGB0uKSW7Zt92Sr5br6FrtQbofawSUwxhhjVpD2CdXqZzB7Ww5KJFGySaZutYdWVEVWFMKIy+mUJInnefu8kp+KIAhf+9rXKisrX331VY/H8+STT27fvj3rkpTS22+//aOPPvrRj340PT390EMP3XPPPYs9a6/X++Mf//juu+8+ceLE2rVrn3nmmSv0HdjX33/4+NGMt03zuvUbmzdY04wx0zQHhgaPth7XdG3H9lurKiqtWYZhTIbDZzrODI+MMsKssDdtaKkqr7Rn5Ys92eJjCQCqqo6MjQ6NDhumYc+vsK5z59raz/h8vsLKAo5y4alw3+CArht37LjdPgHPxGfauzpM01xVWSWKoqIoE6FQ29kzjJkbN7Rw1C5xppimea73/NAiNwblUGwmNjMzk54mU0oC/oDH7clZTIszTXMmHpcVWVEUXdedTmdJUbF9EjvTNAeGBweGBhfOopRrrF9bUpT7K/WMsdjMTP/gwGR40jq9YIQV5hdWV63yeOx40JdDEIQ9e/bs2bNnOQtXV1f/9V//9XKWLCoq+tM//dPLC+3idMMwDMPn8Xp9vlSh33thWlGUzp7urnPdsiJnXCeJTkcPHj2sqEpZaanD4UgkE5Ph8EeffLLjlttWVVZe6civG0iRAXJP1/WunnNT0am8YF7YrrdKVJZXcBxXVlLi9/kppf2DAydOnxwaHZ6Jz6Q39Mwtn9e3pWUTR7m8YJDneU3TTrad7ujuHBsfVxTF5XTlOsBM4Ui4s7urqKhodGw017HMMx4KDQ4PkbS+Pyil9TV1NkyRNV0bHx8fHhtJygozTY7jXU5nUWGRfc6HKKVBf5CSeSm7ydjg8KAoCqIgLrbi1aTp+uDwYCgcKsgrsC5hjY6NTkxO8DxXX1uXw2ZINyarWxvGWPWq1fV19anyVLOxeCJxtPXY6PhYcWHRZHgyYywkj8fTUL9WEsWS4hKHJCXl5KGjR4ZHR7p7upAiLx9SZIDc43neNIziouLVVVVHjh3LdTjZBQMBv9/Pzd2IU5Bf4PP64omEaqcxS3meLy4sInMX2SVJKiwo6OgmhJKMBMUOFEXp7O5WNXXLxo12S5ENXSeElRWX5gXn2m7SeTVYNsEYGxsf6+nrFQVxbW2d3+/jOJ4QwtvmygYhhFKaFwzmBYPpheOhCcKI1+31em1x1qGqijWwX11trdPhJISIkjjVFk0kEoqqpm7Fg6vDZEzTNUKIz+vLOgSPQ5LiiXjNqtVr6+r3f/RhRoosiVJdTW3qvkm3y11YUDgyNqooi/YqCAshRQbIPUrp+qYmSiil1CQmZ8veGCml/NyVa8aYoiiyInMcFwwEl17xKqOUmqZpGIbVcW//4ADP86XFJU7bjPRmYYwNDg8NDA9u3rBRFOzVTto0TcM0CCHBYLC4qCjX4SxF1/XhkVGH5Gha2+jz2S6Dtyzs4cEwjKGREY7nCvILbNJKXhIlSRQJJZqmOR1OxpgiK4QQSZIcDltEeENhpqmpGiGEctS6r47nuPQbTAVBuGvXnYIgyHKWPvgy3nLWQPGMsfz8LHcrwmKQIgPYgnUnsrlkL7P2YRhG/+DA9HSsrnaNTe40SjcyNjo8Mqxq2lQ0SgjbvGFjTXVNroPKNBWdOtl2uqKsvKqiMv3WcjswTNMwTUKIQ5Ss+/bs0643w0QolJCTleUVbrfbNE2TmTx3DdxeNhkJJ5Jxp8Npn5HMRFHMC+ZPTU93dndVlFeYpjk4PORyukqKShb2kwBXmslM60a9Q8eO6LrOUep2uyvKK+pr6/xzp4Kpk6ulO6FmjI1NjI9NTDgkR11N7RUO/Lpiu982ALC/3v6+8/29wUCgfk1drmPJYjoWGxwZ1nVd07SgP5CQk7IsS6ItWnxaZEU+dqKVUFJfu8bpdNotRTZNwzQNQsj4xEQoPMlxnMPhKMjLt1tNPCEkOh0VeN4hSROToenYtGGabqerqLDIZYMBpRejadpkeNIwjKKCQqfDLn3QUkpLiot1Xesb7O/uOUco4Xm+Yc3ajPYhcHXwHF9aUsIIk0SRclwikRifGD/b2ZFIJLfftPVT9a8XT8TPdnYk5WTL+uaC/IIrF/P1BykyAHw6Pb29x0+ecDqdLes3+G15abt2dXVFWRljLJFMnDnb3t5xdioa3b5la9ZRA64+0zTPdnWOTYxvadlUVFhkw0zONJlpMkLIyPgoY4xQwnP88MhwXW2d3RImq1/e8YmJpJKkhGqaRjk6MRlqaWq2Wze9KbFYLDo9zXNCRVl5rmOZR9e06VjMmmaM6Lo+Hprweb22fSWvYzzPV1VUlpeWcRxHKDV0fXh05PDxo6Pjo5ORcFlJ6TK3o+v64WNHxiYm1q6pt2eNhp0hRQaA5TKZOTA4eKT1qMDzN23abNve5h0Oh8PhIIQE/AGfz/fK714LR8LjoYnqVatzHRohhEyEQgODA4yx8VBoPBQihFgj+kaiUwePHq5ZVV2zOsdxupzO+jVrkgnZ5XIRQqLT0YGhoXgi0T/Q73G7bZUwJWVZN3TD0JsbmoLB4FR0qqf3/PRMrH9woK52Ta6jy8IwjMmpiKzIVeVVtnolVVU9d/58JBopLymrWV0dj8c7e7rHJsZM02yoq7dhe6rrXvqQNwLPV1VUtp4+qShKbGamrOTiq1u9ce//+MOJiVBtTU3zuiab9J1yDcGbHgCWxeqjvvXUCZfTuXXzTcuvxsgtgRMIIYSx1ICxduB2uQkh0ekp66FuGIQQXddjsZiiyLmMbI7X7fW6ZwdE8Ho8Xrfn+KkTsqokkklbJXY8zxsmV1ZaHggECCEBf6CwoDAWn4lEp3IdWnZJWQ6HJ0VBLCtdRppzFcUTiZnEjNvlrl9TRykNBoMtTc1HWo/NxGOxWCzroHRwNWm6xhjjOG45jXMYYzMzM62nT4ZCodqamo3NLbb62F4rkCIDwLIMDg22nj5pmqypocHtdEWjs8PXcTzvs8cAe4yx6VhsOjZdmF9gtZqVZbnzXBchRJKkgN8unTfnBYObWzZZjX0tkWj00NHDAX9gw7r1dmvJYPF4PYQQ0zRtdaZBCPF5vZGoJgh8akQ9axBvQ88cudcmQpOhpCyXl5Y5JLu0QraomqpqWnEgmGr543A4RFHSdU2xU8eONwhFVcfGxvx+nzVwdCKR6D7fo6qqy+nKW0YnQvF4/PjpE0PDw5Vl5bWraxRZVmSZEEIpdbqcNulExf6QIgPAxTHGDh0/qigKz/NtZ9vP0PbULJ/Pt3vnZ3IYW7qp6NTh40cdksTzAs/zqqokEklCSF3NGvt0TidJUv78Gh3rhnRJFPPy8mwyAHWGmZkZQogg8KKd7nokhPh9vonJiZl43DAMnudN00wmk4Zh+L12OSNKp+v64MiwJEn5eXn2GZPSIgqCKAjhSDgyFfH7/YSR0GRIVpJOhwMVkFefqqptHWcUVRV4gec5TdOSsmyaZsv65uWMd90/NDg0NGQyNj4ZCh/6OFUuCOLG5g2V5RVXMvbrB1JkAHsRBMHqIDnXgWQyTdNKj1RtXpWSQ7NRX/QBv7+4sHg8NG4YSUIIR7mC/PwNTc0lxbkf4HcJVt2nIAg2OexT0ej4xHhhfoHH46GURqejPX19hBKvx2e3DL60uGRkdHR0bNTldJQUlczEZ0KTk5QQGzYEYowNDQ/pulZUUOjz+e32Gff7A/l5+eMTYydOnxI4gXBE13WO54oLiux5ZeP65pCk8tKy83298cRsp8iFBQWbWzblBzNbvFBCRFEUdZFLe0eZpskLAk+IYRiGYaSVM9Ow14UgO0OKDGAjHOVu3bo911FkQSn9/GNP5DqKi6CUBgPBO27boRu6pmq6YbicTp6/BnrJLSwosNXLSwmJTkeHx0ZSJYIgBP3B1VVVdqv7FAShtrrmXO/57vM9586fZ4SJglhWUlZYYLvOrRhjM4lEXjCvML/QYb96WYHn11TXeN3uUHjSME1KiCCIxUVFxbbsdOW6J0nSxuaW5qb1qqrphuZyugQ+e8Lmcrn23H1vRmHzuqbmdU1XPszrHFJkALjeCLwguPDlduncHnfN6upYfMYavEAURJfTmZ+fb8M74imleXl5DYIwFZ1SVVUURY/bk5+XZ8OsjuO49Y3rch3FUkRRrKyorCiv0HWdUnpNnF5e33iOdzl5QmzXH/kNAr8iAAAwjyiIhQWFBfkF1s15HMfZOVXiOS4YCAT8ftM0bR7qNcFq9pPrKAByDykyAABkYdUj5jqK5bq2ogUA+7NXqzIAAAAAgJxDigwAAAAAMA9SZAAAAACAeZAiAwAAAADMgxQZAAAAAGAe9GgBcPWYpqmoqqapuq7ruq7pujX0kclMZrJZhBBi/WGEza4495dMRaOzmzLMs50djBA6Nzdj4qIPyYKJrFvL2MLSq6cWluWkbpiUEFEUJMmxnDCyRpsK4AqZicetiYnJEGfXzsJ0Q5dlxZqeDE/mNpjFqJqqqhohhOO48YnxXIezlGt4eKEAACAASURBVNRBHw9N8DYbCSXFMI1kUrambXvQCSGyIuu6QQgRBMHpcOQ6HPgUFPXCOKlnOzuWuxolhFBKCKFz/83iOEq5WTzPcwIvCIIgiqJDkq7RPrbp7C8yAFwZsixHpiKR6NR0dFpWZHUuLTZ03TBN0zRMxkzTJIwwwhhj1sSF9dMfzn4vpeYQwgglhNG5CXIhu8zIMjNcSEkpYWnLpx4uhRLKGKGUEUIYs9ahhDDrG3Cu5EJ5ajeUzn7jpE3MllunBReiyZz4tF+vjKVl2pRSduHVInOvGSGUZWTmlGQ8f+vnYP5zmptlTS9xjkIu5PvWLql1ApT1DGBevGT2tU17ycnsOdNS50Rz0aa/I2a3nrbPzLfMXIiUWD8Jix+mzDeHdYgpnXvBZ9dIlaQ2kHlAZ5/h7N95h2F+ZBciznKQF5x3Lefdm7YmJYSlXrS55579HZj2Zk69pWeXz/gdXfBmTn85lxccwLXBekvPZsjWBMfRuUSZT0uUnQ6nx+vJ8weCgaDX67XbIJ2LQS0ywMpjjMVisf7Bwf7B/lh8hplmWh3xhRR3WT+ZdDY9yjZndmPzJi78uUjla2ounb/8sn7HU8m6tXR67p5WkrU89XBeeargQjQLJgCuPxeuFF04h5p3/jN72pY6fUidUs0m74ueMs2tuGTaPz+YuXMllhbYvBPK+ed7LG1vC6OgjDDrW46lnl1qodTeMyNIPam0XaU/2bSnPv85zasiSDtdt05QMs/Wsp2Es/nne3MBzZVkP0W8cLqVceTmvRqLSJ+f/kJ+iqoKq24i7Swuo/Ji/ot0oarCWjHzHHjBigvP99JDmL3cubwT07mqZs7ldJWVlFZVVBYVFtq8L3PUIgOsDMaYaZqyogyPjnR2d01NTc3OyJbgUTr7bzb/nf1/Klu8sNX0ApZenPblmvEle7FAL1pwsbWy7eYS9nuRRS7pmynLSpfxDYdvRwCAlNmMesFPVHpOPVtyIbmk8xYkJHUJyel01qyqrq2u8bjdgiDY8DILUmSAFWCa5mQ4PDw63NvXN9vSMe3DTikRRepwUYeTOCQqClQUqCBxokgEgfA85QTCc4TjKOUIl5Y9W5VKF6qd5/4YBqGUmMZc+dynmHLUNOam52pPrBVTlQWz7Tbm/n9hywsSbmvXppn5FUEpnSuc+wJh81ece8hRYpqL7CJtq+lfQhdmLVxgfs2K1SglfU2rzinrV9r8Xcy9LOlLWnFyhJgXNjFv86mmCmze88141gt3tzQ2dyhSx5llzs+2QbZwyUV2mu2wZg+VXggl+17YIttg83/YstUNZo+ELZy5IIasm0mv0cvyBlzkdy3r2yxjkaXP/TL3uIwtXPT1n7cEzSxcbCNZN7tIWGzpVx4pAFx5LPUlnpYiW0WiIFRVVFZVVBYVFjkkyVaJMlJkgMs1HYt1dHeOjo1Ox2Lp5TxPfQGuoJALBDingzqd1OEkkkQF3k7fAZA7cxkXI4RYzVoX5FeZ2U2W5D17eUZuTefPzJKw0XnFs/nysrJwcvGUKyO8xZ4FWSJ5nR9GRopM5qWVmVepl9hd1rOCRZdlSz3MXn6RnDvjmCw8HU4rSDtHy9hc1tz3InGy7C/L0mcoqZecpk1nXTM9L6dpz2f+4co8U029azPeBgtWJ6kzVZIRycK3YmZgi3wOGM0Ijix4N154yNLeZam12OJrzdWkpooz1k0dx0XO8Nm8J54xscgzTX8474VPP6dlZOGXzLxIFryZ2dwTZObsYowxxigziWGwVJ3IRTCWSpGt+xkcDkdJUXFtdU1FWfnyNnE1IEUGuHSmaZ7v7ztztj02E0v/KLlcXM1asaKMc0hUEAjP2erEGADgUix18jIvxU+VffoEY+mTiiu3+sWWW3T+suO75C1cfA+XHMMlH5+MpD0tRzcJ0Uyi6aaiEFUmyYSZSJiJGTYdNTU12wYZo3M300iiWFVZtWXjJkmUPnVkVwBSZIBLwRhTVfVMx9n2zrPMnL1Zg+eJz8/XNYqrKvlr435dAACAqyKhsVDImJwwJkZMRTV1nRj6hbmMzNYoFxUUbtm4OT8vL+cdXyBFBvjUGGMToYkTp0+PTYynqofzC7mqKrFqFe+QUGUMAACQnUnIdMwIh8zJSSMSMWNTc8065jJSv8+3vrGpZnV1brNkpMgAn45pmqNjY62nT4YjESsXFkVaXSesqhKCAQ7JMQAAwHJoBotOmeMT5tCgHo2YZK4umRDidDqb1jaurasXhJx1T4wUGeBTYIwNj40ePno4nkhYJYEgt269VFrCCTzSYwAAgE/HNNlMkvX16T2dmqbNFjJCREGoXV2zccOGXDVNRooMsFyMschU5O333tX12fZTBYX81pslnwcNjwEAAC5LLGkcPahOhszZ3kQZ43m+qaFxfWNTTuqSkSIDLAtjbCIU2v/xh7IsU0o5jpSUC5s2ix4n8mMAAIAVoJuss1Pv7dES8dnO7iRR2ti8YW1d/dXvGQopMsCyhMKTh44cDkenKCGUkto6cX2zKAloXAEAALBidIONh4zTJ7TpqEkIIYw5HM5tW25aXbXqKkeCCjCAi5NluaOrayoatTLiytVC4zrkxwAAACtM4GlZMb/9Noc/wBFCCKWyohw+djQyNXWVI0GKDHARjLGB4cG+gT6rG/z8Qq55g+RyID8GAABYeZTSgJfbtdtZWMIRQigliqIcaT2qqNlGH7likCIDXMRMfOZkW5tpmoQQp4tr3uDwOJEfAwAAXEGSQDdvduQVWHXJZDIc7u45ZxjGVQsAKTLAUkzTPH7yRFJOUko5jja3SMWF+NQAAABcWZQQv5dr3iB5fRwhxDCM833nw1ORq3YTHX7sAZbS198/ODRoVRpXrxFXVfE5DggAAODGQCkpKuQa18/2ixydnu7s7rIu6l4FSJEBFqXr+okzp63TVbebr18jYPQ8AACAq4ajtLqKr6p2WQ97+/ti8ZmrtOursxuAaw5j7HxfryInCSEcR2rqeLcn1zEBAADceG7axgXzRGv6w48PXJ0WyUiRAbJTVXV4dEQ3DEKIL8CVlQk86pABAACuOoGQ+kZREDlCSHR6un9w4CrsFCkyQHaR6FQ4EiGMUEqKigS/D/kxAABAbhQVcIVFsxXJXT3dmq5f6T0iRQbIgjEWm4klkglCCceRqlVohQwAAJAzTieprJIcTp4QMh2LjY6NXuk9IkUGyELX9fHxCcIIIcTvl/LzkCADAADkDEdZYSEfCIiEEEVRUi0hr+Aer+jWAa5Rmq6NTowRSgghFasw0jQAAECOOZxmSZmT4wghJByJxK9w1xZIkQGyUBRFlmVrumoVMmQAAIAc4zmzsFCURIEQMj0djc3MXNFhRJAiA2QxPDpCGCOE+P2i25nraAAAAG54lDCHgxUUOgkhumGEI2GkyABX29DoCKGUEJJXxKMOGQAAIOcoIYKo5xfPDrY3GQ5f0ZH2kCIDZBGNRq2JwmJkyAAAALbAC0Yw4OB5SgiZjIQN8wresYcUGSCTYRqqqhJCKKX5AaTIAAAAtsBTJgic1ycRQhRFicWu4B17SJH/f/buO8qx474X/K9uROpuoHOePMOZITlMomhRoihSJCUGBYrKokXLpmyvLPnZz+v10/rsHlvnHYfn59VbR1qUtbRsWTmQokSKohVpihTJYZg8nXM3GkA38k1V+8ftRgNodG6E7vl+NBoCFxf3FoAB6ld1f1UFUCyZWhgBoGmSKle7NAAAAEBERIwEk3h9/UKuRXg2XL5zIUQGKBaNxhhjROTxSRK+IgAAALWBEcmyE6hfWGYvEouV71yo/wGKxRMJ94auM4TIAAAAtUOSuderMEZENDc/V8YTle/QADtUOpNyb2g6c7uTAQAAoBZIslBkSVVlIkqlyjg1MkJkgGJZw3BvaBoiZAAAgBoiSZxJTFUlIrIdxzCNMp1IKdNxAXYuy7LdG6pKCJEBiEgQCS64EDYXNheKzBRief+jhb+J0KxcP7f3y/2/e1MIsklksk7WcLJp2zK5orD6oFbvVxVZYnh7AYiYJCTGFHWhkzedyXj0sizxhRAZoJjjLITIikYMF1rgkudwkUxa4Wg2OmsYGce9qCnLTFUlTZdUTdJ0SVVlTZNUSZJlJstMkpksMcm9LTGJ5ULoS5Qg4XByHM4d4Sz+sR1h2dwwHNN0TJObhmMY3LGXXTUeSeseqa3d19bq8eqoteFSx5hgEinKwk+KkUUvMkClOM7CVOS5byDAJcuy+eR0enIiY2QLpuh3HOE4TjZbPG+/LDNZYYrCZFlSFCYrkiIzWWKqKqmqpKhMVSXFvS1L0m7sFBVENueWyU2LW6ZjW8KyuGVxyxG2zW2b25ZwbG7bwnHWm0NpZPnIUHJ+3ty/r67Or5a1/AA1jjFijGRp4cfDtMwynQghMkCxXO6/zJBoAZc0zsVUODM6nFp/MOf2j5oGERVEz0wiibHFv5kkEWNMlZnmkXVd0nRZ12XNI+uapCmStEO6nAUJiwvDcLJZx8g62axjZBzDcLggzoX7R3DifHsGFM3HzAERv+yyoI4J2+ESJpFgjEnywkVey0SIDFApggsiYpjNAi55WcsZG06uPz5eheDkkCCH3OTbJXFr+c6aJnm9su6VPT7Z45U9HsXjUbSqTlMuiCzOM4aTSVuZtJ1JO5m0k0nbnFe0GIm4NTOV6ekJVPSsALVFEJG02E60nHKtQY0QGaCYIDdEJgkxMlzaxifSllWuCZVWYZrcNDnNF0TPjJGm5bKfZU2TdV3SVFlhTJKYJJMksYU/MpPWN7LNHSPHBTkO55w4F9wRDhc2F4blGFnHMBwz62YJO2WriDeAc5qLmy2m49HQkQyXKOZW0IuJFo5tl+lECJEBirkRAWPEmKAdcsEXYNtxEuGpTLVLsUQIMgxuGMXdtpJEiiLJClNUSVGYqkiKKskSU+WF1GfdK/u8ipu8YXFuWdwyuW1x2+KWLSyb246wLMe2hWVx2+SWxSvcN7wh6bRtGgiR4dLFFruxXDZ6kQEqRxAtDggAuGRlDMdePrtC7eGcTJOTScXZz4wkibnDB30+xR9QjYydzjiOI9zeYs6F45Rv2YFysUxuV6NrH6B2MLZ0mcgpW4sWITLAMgu1DyJkuKRZVg13pa6DEAtjB8mkTNqJzJZrZqgKE4IQIMOljJEgYrlMSHf4UDlg0leAZdjCX4iR4VKm41J+TdI0CfNRAuSyIDkvV6IFQmSAFaAOgkubR5N1D+qImuP1KbqO1gtc0ljeWkTlu6yCnz+AlaEbGS5hjKi13VvtUkABSaKGek3TUHcDLCjfeAJ8zQAKCCGWxush5Q8ubZ2tPq8PHZY1xONV2ju9mI8SINeHJUS5Rk0gRAYokLtkwxb/AFyyNE3as69O01FT1ABGHq982dGgrqDRApc0t16uQDsRM1oAFELHMcAixlhTSBf76yYn0vH5EsvgQWV4PHKwUevq8vs9qLUBCpRv3kZ82QBWgHmRAYhkxlqbPXV+dT5pRiNGKmkbWWfHzSW8syyuIyhruqTrst+v+r2yz6fIMn6SACoHITJAAVHQIkWFBECMmM+reD1ya5NXCEGCTMENg2czdjbrZDOOaTjZjGOaHKHzRjFGukf2eGWPV/b6FK9X8XplXZLch9zVEfJXSQCAikGIDFAIdTxAKYwxmZHbblRI8qlEAS1/B05kOo5hOEbWMbJONiusrGoYtmXbnHOxTHVeRgVJEmNMYoskSdJ13aPrHq+ie02Pl3s8sqbISPQGqE0IkQEKiMWlq9BpA7AhEpFHlj0+mXxEJDNqkihERI7glm1ZlmWZpmlZlmm5d23bdrjjOI5tO/mq/To2jDGmKIosy4qy+F9ZVlVVUzVNUzVd11RV1TRNUSW2EA9zSgmaITKrW3IAWAVCZAAA2F6MKMSowb0jM0lWdY+qk29pD0GCc+GGyG6MnIuTLceyFiJqyzRN27ZN06yR0FmSJE3TVFXVdU3TNFXVNFVVZVVRZDdElheDZGnVVjYjH1GroAminb3KN0DVlS8LCSEyAABsL79EDatfiWHEZInJkkSKSvrSdjcDYzEXYyk9g3OetYxs1jCM7ML/DDObzXJetilRJcnj8Xg8ukfXvT6fx+PxeDyqpC5mT0hLKRQbr6IZMSIfUYug6XIUHmDXq0CqFkJkgAL5S1lihAzAximMQmyzlctCvLnw3SuYANjn9VF98f6WsLPZrGEYhmFkMxnDMA3DMIyMI2x3FSDGSFFYXb2ayTjptM0dEkK4A+AYY4zJjDFZlj26R/foHo/u87rRsK4revHJthUjRlQnKE2UKOuJAHYnvriIQdmqaoTIAIV2/yAigDJiVM+ocstWq0xRvYE6byB/I6e4yScty3a4UBRJVySJMUeIZNpKJWzb4pLMVE3S1UZdbdI0VVHU1fMiykZiFBSUJcKc0wCbhhAZoMLQhQywYSqjEKv2l4dRQJXqVL2gd1ZmrMGvNfhzs3DoErUxKm9X8eoYMSKPID/RXBWLAbCzla0XGbPNAADA9mDUuOkUi20thsSoea1k6HoitWJFWrkYkkR1qIsBNq18LXJ8LQEKIM8CYLM0tjxZuEok0ogCKz+uMfKx2qgBGfmogqkpALuAqMiwoeo39wFqjECcDLApge3t0LEc28hmbdvmnDPGZFnRdU1TtXWOzmHUICi5wtfZQ6SV2l4djIKCUtUuBcCOVL5eZITIAIUQHgNshszy5z3eGsuxZ2dno3OxdDrtTorMGFNV1efzNtQ1tLS0+Dxrd7sy0gTpRNnlj2yuC9kR3DAN27IZI1XV9HUH6+soqk+QhpVEAGoKQmSAArkIGaP1ADZCZ6Ruy0C9VCY9MDQwNzdv23b+dtu2M5lMLDY3NTO1p3dPa0vrWtNQyIw8okSILG10zg3DNicnJyPRqGWZnAtanDW5raWlpaVFkbZakzKSiPwIkQFqCkJkgCLoRgbYMEZa0TTGm2MYxvmL5+fn4yvtwDlPpzN9/f3EWFtzyypBOSNJlJ6wQmUbybKYnYucO3fesornZctkMrFYbHxy4vDBw/WBuvUfsCRGAUGxLR4E4BKyWFczVq5BBTUxWAGghuRFyOhIBlgfRqSyLYfItuNcHOxbJT7OsSxrcHAwHl9zT2V5TxAjz3rLY9tDo0OnTp1eHh/nJBLJU2dOT0fCYmuta0Y6amSAmoIvJEABDNYD2DhpW65Jjk+Nh8Oz69w5m80OjgxzWm0BakZKqWpuXSGy4ziTM1OjY+NCrPGTYBhGX19fbG6LfcCsFiahA4AchMgAK6n6AggAOwXb+nTIWdMYGRnd0FPm5uaisdUDU7lUNbeuLItEJjk2Pl6UD70S0zQv9PVlTWM9O68MITLAeuWu25SvqkaIDFCALeZXMEZItQBYH2nrtUkkOrvOeDRHCDExMbHqLiUKts5ofmpqKptdPtRvRdlsdmp6av37L8O2JZkbALYLQmSAAoLWuqoKACVstT2ZSCQ38ax4IuFwZ+XHWamCrV3xOdxZf8qHSwgRm5sz7RWzltcBNTLAxpWtLwtfSIBCCJABNqxkJLoxhrGZKc8456tGpSVLtXbFF08lNtqlTUSmaWazmY0+KwepXQDrV4EZWhEiAwDAFm3LMNdyNE9LHnO1EX6uVGoza93Ztm2Zm+9F3uKcGACXkkp8XRAiAxRALQWwKVv94qjqJgerqeoqucUlY/e1Q2THWSV5Y+WTCcG3lKi1dsEAgIjy+463a5HL5RAiAxTCrG8AG8a3Ht4FAoHNPMvvV9gqIXKJgglaO4Nic/G6JEmyvOlaVRBtJi4HgDJBiAxQAOExwMaJ9cSdq2tqbJKkDVdJHR3tqz7ulIrd1056bqhv2GhJiEhVVV0vuZ7fOm1lqB8AbDOEyABFcotaUtmu3gDsMnzrPaA+r3eteLdYIOBvaWpZZQdBdqle5LVnL/Z5vH6/b0OFISKf1+fRvRt91iKBEBlgM5BoAVAh6EYG2DBBZIitRcmM2IG9+/1+/zr3lyRp//79irxiloVYCDqXd2+n11OYjo7OdZYkV57W1hZ54x3hLkFZ5CIDbAJmtAAAgNolyNp6R7IsyUeOHPZ41l4gWpKk3t6eYN3q6RBihZwKW6wj16IpGAoGN5BuEQqFmhub1r9/EUGbmUMDAMoHITJAgQpMtQiwGxmCrK1PCFPvqzt86FAwGFzl2qnH49m7Z093R5csrb4cnSOo5CzFfIXtBbxe757ePT7futItgsHg4UOHNj2xsSBOCJEBNmDpp6Z8M1qsax1OAACAVTmC0ow2nL9bhDHWGAx5dU9kLhoOhxOJJOdL6Qder7e5uakp1FRfV79mSoMgc4VeZCEoLaiOrdpJxIgF6xsOHjwwMDCYTK648h9jrLm5eW/vHo+6+YF6glLrGUQIAC5RkRlaESIDAMC2SBI1bf0CDCPm8/o8Hm97c5tpW+lsxrJMWZa9Hq+u6ooir9V5vEDQ/MpjC7JEJtEaGR0SkxrrQ3XHA2NT4+PjE8vX29N1vbe3p7W5VV05JXrdRQWAdcubnhW9yAAVg4mRATbHFBRnFNyWY0mMSaqqqqrfu5meaU4mUWKpp8n9m+X+NgWlifQ1UyMYY5qm7e/d193RFY1F5xNx07AYI4/HEwwFm4KNW181mlOK1pH4AQAVhhAZoEDB2ljIRwbYCEFRQQFW5ZpFCG4Ja4KsLHFOnJPNiRMxIolIlkiSSJaEEmWah9h6429N1dpb29tbNzYt3dplJS4ogbksAGoQQmQAANgulqAYUfPW+1Y3R5gpkY6RESdznpkWOaWvCAlFIjUltKzQQ8wXJM1XlQILEoIyGKgHsBlLaxiUC0JkgEICWRYAmycoTuTf+ri9DZ/XTIrYOKXnyDZJ8NVrTWZzsjllIsRiQtHJH6SmHiZvetWPTeOC5kvN3AwA64ZcZIBKq1Y/GMDOZguKCVKJlAp8h4QQ5JgiPkHRceIbn5hZcLIyNJcR89OisZuFuokp5Rv9U3BmEoISRIkKnAtgF0MvMkClIC4G2KoUp7hEjeU+jeC2yMQoMkLZFSdlW/+xKDIiUlHW2CN8jUwqb+UoFiaeC5f1LAC72NIVX/QiA1SGqMBciwC7nCCKCZIYhcp4Disj5sZofnoznccrySbFdB81tFHTHsbKVT8uxsczGKUHUMsQIgMAwLZzBM1yEuXpSxbCzIjZfkrGtn+KRsei2LjIJqj9MqasvRT2RrlD9ATNYq0QgG1Rvku/WIAaoMhCjcuIIesCYAu4oFlO0W2/MCO4I6bOUTJarinMhaD0vJg8I6z09h+bTEHTRNltPzLApapcNTVCZIACmNACYPsIQRFOUbFtkzYIbqbE2CuULf8ot0xCTF8QZlJs04+CIM4pJWgc/ccAOwJCZICVYJk9gK3jRBFOM4LSW+9OFkaSpi9sw+C8dUrPi/AAcWOLhxEkBFmCIoImiKxtKRoAuMo3Aw1CZIAiCIsBtpcgSnCaEhQRWwgQhZUVkWHKxLexZGtLxcTUhS32ggtKcpoUFMP4PIAdBCEyQKH8eWQqMj0qwKXBEhThNMppfhNPFsIR8XFKRra9WGtLxcRM/+Yaz4IyDo0ImiDKoPkNsI1yGVCYFxmgChAgA2w3S9CUQ1GiekY+RgqRzNbqrBEkRCZC0YnKFLGE+Kzw1FNdKzFp9fVQBAkih8gRlBUUR2QMUH6YFxmgIgShRgMoN5NoVpAiSGekC9KIFEYSkUwLM8m4IwE4kSPIITtLMwMkqpelwG0RHyOvINVHpBDJKxaVLEEmURZj8gAqpGy9WQiRAQCgKmwiW1CKiBHJgqTF3D+22E7lbuhJszFmbnXM3FZl0iI+QaE6IeXHx27l7EbJzmKBAWA3QIgMUKTs6U0AUEjQKuPh4hlKVjs+JiJBFE1RQCNdJ9q+9fwAYBPyL/aWbdQQhusBFEKWBUDtsG1KZBivia8lE8SmE5g7HaDq8udkxep6AABwiRGCkgbL1NJEwlmbEplqFwIA8qEXGaAi0EEEUCtsToks1UYX8pJoiuztWiwQALYMS4cAAMClxTBrqwvZZTmUqIHcaAAgIiRaAFQQ1p0GqAFCsFiq2oUogQmitEEORuwB7HIIkQEK5A/FweJ6AFVjmpSp1XyGrE1ZC21pgJqAGS0AKg0BMkAVhZPVLsGKmMMpY2IGZIBqWmyiItECoGLQMwRQbZZF2VrtQnYlDeKIkQGqZqmqRi8yQMUhVgaokqRZcxNZFGKmg3ktAGoBepEBKqWm62WASwDnlDZ3QJ7THCZIBtjNECIDFMjNZ7EDamiAXclyyN4B80WwlIEmNUC1VGCZS4TIAABQSwybrB0QIpMjKGtWuxAAlzqGXGQAANj9hCDbYbWdiLwkhRAZYNdCiAxQQOQu3jCGZAuASuOCjNpbUW8lyLUAqD70IgMAwK7HORk7Z6YIm++ItGmA3WihdYoZLQCqAJ3IAJXGBdsRicguLsjcOQE9AGwEQmSAIrhsClA93NlJX0FBZOycgB5gVypbbxZCZIBCBdUz+pEBKqvGF9UrxISbOb2DgnqA3aZ89bRStiMD7Eio6wCqaeVEZM657Sys+cwYU2Rp+WRPnAvbKdGtq6lK0REkxuRlRzCtFc9ecn8iIoeTQGsaoKJE3tD68i1AjRAZAABqxsqJyKcvTn7jyZcsyyEixkjTlIaA99ihzuuv3NtQ53X3GRiZ+cI3nl3+3P/rk3fpmnp+cPrrT7yUzVruEfxevTHof+N1By/b3y7LEhH9j396Mp0tPZ/Gicu677n1hNejFj8giIQoXyUNANWCEBlgGfQkA1QJW3mCiHgqe35w2iwcHvfTX1786fMXfuf+W9qa64golTHPDUwtfy7ngogSKePi4HQqUzCZ8Y+eO//he66/8+YrZFm6MDSTTBslz97cGOCcl3hACOKcJGQtAuw2CJEBSkOnEEDFCbJLhaF59nY3ffq31UdwWQAAIABJREFU3865SKbN186PffXxFy4OzTx7sv+dbz2Ry4K4/HDngx94k5tc4dK1pdsNdd7/9ltv93m12HzqJ89d+OkvL37vp6evu2JPR2vwz//wXi4EEU1Oz//ZP35/X0/zR975+pamOiLyeVSvRytRIC7IEahLASpKMFpawwCJFgAVgj5kgGoRa37/FElqCgaIqKWR9nU3Pf/q0Nm+yVTa4FzI8kJNqalKS6guPyzOJ0usKeRvbPB3tQX3dTf3jYTHJmPzyWxHK3W0NLj7uOkcmqq0NtZ1tgZXKxAXtFPWAgSAjcC1IYACIq+yQ0cyQGVtLNZMpo3JmXm/T29pqpOkzXxfZVny6KqiSIq82dpQiIJfDQDYLdCLDLAigRgZoJLWSLIgIppPZr7/k1NCUCptvHRmeD6RufHaA1cf68m/2Do9G//uj15VZNm929HScP2JvSWP9ur5if7hmX09LQ11vs0XGxEyQPUg0QKgYsRCjYf4GKDCSo6HKzQbS/3bd54jIkcIy7KP7Gt/560n6gOe/H0mw/PffPKl3Hf4usv35IfIibTx9//2E0Y0G0uOTES72oJ33Xx5qN67uSKzgtmnAGD3QIgMUAB1HUAtaw4F7r39KkFkWs7UzPwzL/X/+UNP3P+uG2689mAu16KrLfjWNxxVlIXcidam+vwjcIfPzMaJ2HQkrirye+645o3XHdpcngYR4TcDoBqWxi1g6RAAANjt1nHBtCHguf1Nx93bpmWHgv5/f+z5k2dGrz7WE/Av9CW3NNbd9sZjKw3X8/v0X3/vjQG/52vfe+HFUyMXh2ZuuHr/SjuvSTCGK04AlbfUNi1bogWG6wGsCBUfQEVt8Cunqcqhfa1ENBmeS6wwn/Fyiiz1dDYe6G35wD3XE6PnXxs80zex0ZIWwk8FwC6EEBmgENIKAaplHQtwCEGW5ViWY5h2IpV99qV+ImoI+Dx53cBcCMtyzLw/JdOF93Y13ff2a6Nz6aeeOTsXT2+yzOhFBtilkGgBAAA1Yu1gMxZPff2JlwQJ07RHJmOvnh1tqPNefbynzr80Ym8yPP+NJ0/KefO4vf/Oa1S1RH13182Xv3xm9MVTw88d6b7jpuObLPLm85gBYJNyrV7MaAFQIWLttQsAoEwYyYyc1b6C0fn01594kYgUWaoPeK68rPuWXzly1bFeRZFz+0yH448+/XL+s95zx1WqWuJoPo9+181XPPyVn33jyZeOHuzo7WzceJEZVp8G2JUYZqsByDc9M/PTZ39ummZDg3bd6/RQaB0ztQLANmHDYTKckg9lDSuRyoqlVWdJliRVlf1eTVoMUk3Tnktklj+3uTEgMWaYdjyZYYyFGnzy4lMsy4knMw4XwTqvtpitYdtOdD6tKnJdwLP6qiLCq1JnkGR5lX0AYHtNTjdcOD8Xnk4T0ZtuuLG3p6ccZ0EvMgAA1AqhyGyFENmjqx69VFdwHk1TWpvqVnpU15SWxuJHVVVuCgWKNiqKvMpxCkgMiRYA1VD2Wd9weQigCK6rAFSPvtM6biRWvjmnAKCKECIDFCgIkFHxAVTYzgqRGZEq45cCoArK352FEBlgBYyh5gOotFLzTtQswRitlfsBANsvLz4u37SLCJEBCmEAK0AVSRLJO6dpyhipGKgHUA3oRQYAgEuIxMRm14KuAontsMwQgF2nfGMBECIDFEAfMkA1SYw8Oyd1QVeIoRoFqC4kWgBUxtKKPYIxBMwAlbWzUhcCerVLAHApEvn9WehFBgCA3Y8xUhVSdkjdhBAZYPfaIT9DAJWEvmOAKtJlsRM6koVHIWkHlBNgdyvf8F6EyABFFgLknTOoHmB3UeSdMQauwVvtEgAAIRcZoELyJ1ss32yLALAyRn5d1PiXT2LkRZYFQA1ALjJAhSDLAqDq/DpJNR0jC59GMipQgOrD0iEAAHDpYBTyV7sMK2NEgVoP4gFgixAiAwBA7Wnw1uwye0JTSFfLuGIBAKxF5JbCRaIFQGWIwvkWAaA6ZFnU1+p4OK9KO2gJQIBdaSlCRqIFAABcUuprsSNZyIzqPOhCBtj1ECIDAEBNUmVRV3sdyX4Nc1kA1BAkWgAAwKVFkiigC62WlueQGTXVVbsQALAEiRYAAHDp8Wjkr6EuW9HoIxVZyACXBITIAABQqyRGjT6h1ERHsvBpVOerdikAwLXQeczKNjAAITLAijC3BUD1yQq1BqpdCBIyo0Y/Kag0AapMkDv5FCZ9A6gmDFoHqAEBrwhWc9yeYET1XvKo+E0AqBWY9A2gwhixvFoQncgAtaHRL3xa1c7uUSjoIwk1JkDtWKigyzcBI77wAIXQSQRQg2SZGv1CrUZSMiNqb6CqnBoASslPg0QuMkCFsMWLNoIE+pABagVj5NOp0S+kirZihcRET4hUpFgA1Aq3al5afxohMkBlLH3ZBBMClSJALWnwUshHlYqShcyoOUB69RI8AKCEgl8AVrYfBITIAAVyIbJAJzJAzWHUFBAtgQosTC1kiRoDVO/FWtMANUfk9yKXK5TFFOgABSRpqT5EkAxQexjV+4TE2EySHF7G87TVkc9TsR5rAFgnQUyQyHVjSQiRASqDMcm9iCMEcYTIADWIMarzCUmi6Tiztz9KFqpEPSFS1G0/MgBsF7H41ZdkhMgAFSFJ0sJwPYFUC4Aa5vdQlyQiSZa2tqs5KyRGfp2a/YiPAWoWJ0ZiKRlSkco12wxCZIACsiyxpV5kxMgANUzXqD0o4hmKZ1jW3uLBhK5QyEc+nWpjvWsAKEkQE7TULpZlhMgAFSFLspuMLLjgnEhgrieAGiZJ1OAjvy6SWRZJbbI7WZVEk5+8HlIlfOEBapwQRILE4pcdITJAhSiK4g5gF4K4U+3SAMCaGCNVoVBAhAI0l2SxNFnrTVBemNat3ktlG/EDANtLCCaE4FwQESOGEBmgQlRVded9c7hwHHQiw66VydgTk+lql6IMhIcYJ87JEQujbgUtrjbAiBFJjCSJGCOZEZMo4lAkWd0iby9JYvv21lW7FADlIjgTRG6IrKplHDaAEBmggCRJMpOIiDvCcYiI5a1zCbB7eL3Kgf311S5FOQlBgpPNiS9OTyMxkhgpEklIqADYqQSXhCDHEUSkaWVc2QchMkABxpiqqZQi7gjbQi4ywI7FGDGZNIy9A9hVHEfifCHRQtf18p0I2VcAxbweDxFxIUwDq4cAAADUEG5LtrUwVMitr8sEITJAsbrAwtXnTIZj9RAAAIAaIYgcLhvGQojs8/rKdy6EyADFGoMh90Y2wx2ONAsAAICaIIgJLuVCZL/fX75zIUQGKBZqXAiRM2nbdBAiAwAA1ARHSIIok1lYKqi+LlC+cyFEBihWH6hjEiOidMo2DYz1AQAAqAm2LZOgdHIhRG5oCJbvXAiRAYpJkuTmWtgOn4swZCMDAABUnSByLMVxRCplEZHH4/FomNECoLK6O7rcG+EZg+NrAgAAUG2CmONIyaTpDqUP1je4S32VCep+gBI6OjrcG5FZwzDLuHgPAAAArIfjSFxIsYjh3g0Fg5JUxjgWITJACV6P1x0nm83a4ZlqlwYAAOCSZ9uK40jRSNa9GwqG0IsMUGmaqna0tbu3hwczFsegPQAAgKrhgtmOks04biKyz+cL+AMIkQEqTZbltpYWWZaJKDKbjUUxaA8AAKBqHC5ZlhKLLiQi1wfqvF5vWc+IEBmgBMZYY6gpFAwKIRxbjA6bto0vCwAAQHWYtmqZLBrNCkGMsWBDsKyrTxNCZICV1AUCLU3N7lCA6WkrEhHoSAYAAKg8Tiyb9sTnzWTcJCJN09paW90rveWDEBmgNMbYoQOHvB4vEaVT9uiYY1lYaQ8AAKCiBFEq47Vtisxm3HX1Av5AW0truc+LEBlgRXWBwJ6eHvf21LgZjlS3OAAAAJccy1GMjJ5KWpHFuSwO7NuvqmWfjxUhMsBqjh895q5vaRjO2VNmKoOpLQAAACrE4VIm4yFik5OpTNomomBDcE93TwVOjRAZYDW6pr/h+te7GclzMfOVk6aNbw0AAED5caKsqVumOjeXnZ5MExFj7Oorr9I0rQJnR2UPsIZgfcOJK650J1+cnMieec1xOGHoHgAAQPkIQZalZjK6YTinX4m4c73t7elta2mpTAEQIgOsQZKkPV09He0dRCQEDQ5k+weEY1e7WAAAALuX5aiplM8yxUDfvGVzIgrWNxw6eKisi07nQ4gMsDa/33/50WMBf4CILJNfPG+MjKIfGQAAoCxMS02mfJbFJidSs7MZItI17cihw41lXnQ6H0JkgHVpbmy64brXuY3XTNo5cyrb14d0CwAAgO0kiAxLTaW9ji1FZjNjIwnHFkTU2dHZ291T7rmQ8yFEBlgXxlhba9utb77ZvZvN8pdPps6eEby6xQIAANgtBJFpKcmUz3GUeNw4f3bONDkRBQKB6666pjKj9HKYwJJhAOsmhBidGHvx5ZPpdJqIJJn17NUOHZAb6it25QcAAGAX4pxlbS2T9toWzc6kz5+bc4foNQYb3/zGN/m83gqXByEywMZwziemJ0++8nI8kSAixigYUvbvVzu7Jb3sE5kDAADsNoLIspWsoRtZzbb45ERyZDhh24KImkKN1151TUtzc+VLhRAZYMOEELH52LPPPz83N0eMiEhVWWOTfPCI1tbKkL0EAACwTo6QMlndNDTOJcNw+i/OR2YzjiOIqDEUuu7qa5tCjRWbxSIfQmSAzXvx5Mlzfedzdxmjji7txHWqH93JAAAAq+JEhqWnEj4iRkSxWObUKxE3OCaiUDD0ljfe5K14fkUOQmSAzXO4MzQycuHihdj8XO6rxBi1tmndvSxYL+keputMRscyAABc8oT7h0sOlyxHNbIadyTHEcmEOT6emp3JuMnHuqZ3d3Vde+JqVa1mhxNCZICtmpufGxgaHJuYSCQT+du9PikYkoONLOCRPD7m9TKPl1QF4/oAAOBSIYgEMS4YdyTHkRwhO7ZsWQoJybZ5MmFFI5nwTCaTWViRq76u/sjBQ/v27K1ufEwIkQG2Bec8GouNT070Dw1k0hkqjIIVhWk60zTSdKYqTFMlzcNUlakKKSopKpNVJktClhljQlKYxIgxwSTGGDEiRsQk9zIUMWIyI4kR4mwAAKik5fGiIJb3NxExIUgIJgQTnHHOuCNxLgkhcWKCM+64F1VZOm3NxYxYJJtIWNnsQnDMGNu3Z++hAwdDDcFKzn+8EoTIANtDCCGEsGx7dHT09IWzyUSSiFaKZN2e5IX+5Px4l63wJFby5mZIMpOZlDsKy7uVOztj7n8FLd1ePHVud7Z0a3GzYIu/oQvRfdHj+eVnxPLOuPheFLw6xpgQYuHRwneA5e1TcFxG5M73nv8OF75WRgUPLR5B5N8pKC7LK/LSAyJvH7ZwbLbsZbrvY95BWeErZbkj5BdTEgtP5EyS8x4oOOEKr7GgyERETMp7txZfKSvaRkVvT/4OIu+fat67kX+Koo+PEbGFbcs+14Ly4pIKwM638DVeiiZLxJWMiByHx+NGNGJEw9msYXNeEIE2NzVfdfkVzU3NkiTVyCyqmwmRU6l0JpNZc7dgsEFRlDV3i0RjXo/H56tcOjbnPJlMccGDDQ0VO6nLsqxEIhmoC2jVvnwAZSWESKZSI2OjU9NT6UzGsizLthzHEdz9vrkxSk38BADUrIVY3/2q5Ldk3Efzmi5Lz5HyGieMrfJdWx6q55p5S+cvbMdQXmNNLD1voZD5xc4vZOkH8jYU7LF4xsXxC6K4rItFXd5EEUKwgvOVaNoWvZNL+0olGk0Fx2ELT2BU0KwufFl5zS1J5D2XFe9Q2Owt+R4VtMGLN4uiZxU2bZe34kRe67HEJ5y/d14zL/8FFrXSSzQUV1PcUlx8L9f1rHVuXvMgyxrTiyVZT1lWJwQRCfdgQpAgIQTZlmPb3DB5NuNk01Ym46RSVnHpGNM1vS5Qd/jgwe7OrvUEjZW0mRD5iSef/unP/nPN3T75iY93dLStudtn/uyvbrzh+lvectNGi7FpyWTq2995PJlK/9bHH6jYSV3Dw6Nf/uo377v3HQcO7KvwqaFaDMOYi8/Px+PpdNqyTMM0TdOybNOybNu2Hcfh3OFuFzQXgkTBV3IhoF74PRUFbfOl323h/v4v/tblalUhFv7O3c274T5Gi5WHWDomidxeedEAW7Zn/g03GBFuv29+aZduoEkAAJeSFa7Q5DaW2pUof9+Sv5rLYvniZ5U8DaPia3Eu93ebihszK5QzT642Em6t5dZenLgQjsNXDy0ZY36fvy4QCAWDbS1trS0ttRYcuzZTpv379+ZduaNEIvmDp37U2dH++uuvlfKG7gcCvvUcbaB/6OjhQ5soxqY5jjMxOR2Pxyt5UlcmmxkcGkmvow8edg1d19taWttaWomIc267HNu2HYc7nHPOOS2Ex0vN8JV+XoQQg8NDUzPTr7/2dbWQqrWSmfBM1jB7u7u3chDHcThfXOF78a1Z/L9Y2iyWgveFO0K49/Pe08VDsKWnCkHTM9Nej7e+rm5xD8p791c45eJNkb8D5T8zdwJijHF3kXJRsH3p6PmvpaCgubOQZZrJdKouUC8vzAyaK9/iKZeKkffaVtle+OLyTrW8bMUvMm8DzyvGws1MJsMkSde0/Pet4GmF24UoPEBu01rbCzbkvx0Fr2OF7YIc7khMclNnhCj+Z5L/9hS2SytLCLEj2pZu93W1S1GDVvi2ld63/MUpdVaxeDmkIp+f3+8P1jcEGxoaQ40+r8/r9Xo9nqpMeLxOmwmRDx7Yt3//3tzdmZnwM//5fE9351ve8qb8doBcqy87EPA/8KsfcBy+9q4A20qSJE3TtrLKfDKZvNB30Q2z9/bu2caybSPO+dDIcDQau+G6LcXxRS2FouBtvQcpfHY+x3Eu9F2oC9QdOXR4lSqiqJrbKLHCf9f9dDExOfniKyevPXFNKBTc6BHESvdWPcjaD5baw+H8qR8/7fN433jDG1iJ3/9Sz1nhTGXdNZlM/uQ/f37F0eM93d1s4VrKOo+wIuG2dfPenYLGy2KTZ3n4nR88LW0RggsxPDo8MjZ+4/U3SLLkNvp4fhtMkGCL7RQmFhtiizvkbhW2JBYfWKko+S2L5a8g1/Ra2s1xnLMXzmuqdmDfvtxFpIWnL74TuWcUnEEUNXpyRVsq7LKWVH7zJ38/kX9wkb+l6IHCZy68a0svNvdwfsO7sL1W9JaVKmXRjbymYcE2sa5nF/7uLL5BSw3OZe9s8ZZVmnnbPRRNkiRZkmVFVhVFUVVd0zyax+vx+Hy+gD9QVxdQVU2WJFmWZVneEa2qzYTIUmHML8syY8QkSZFlpYa7tXJkWW5tbal2KQA2jHMejsyGI7NE9NqZ0z3dPfoWou0yEUJMz8zMRiLpTPriQP+Rg4c2/VNY9MTlGYFbIYQ4d+F8OpOZmZ2Zj8cbQ6Ha/Mm2bXtkdDSbzQ4MD93Q8rraLCTRwvWNTCbj2HZ0LtbV0VmbRRVCnD57xrKsqfDMnt5en3ddVzsrTAiRTCUTiaRtW+Fo5KrLr6jZN3NweMjhjsPt+vqGXrfJATXPDaNno5Gnf/Ijx3EURbn79rd7PJ5ljY3iplTO4gCBBbUzwG57lTf5wzTNcHg2GpuLJ5J+nzcYbOhob9N1fc0nTk5OpzOZ5qbGhob63MZ0JjMzE47G5oysWVfnb25qam9vzX9WKpWejUTaWlsURZmYnJqdjViWHQj4O9rbGhtDud0czmfDs5zzjo52IjIta2pq2jTNkiXx+3zubi7OeTgcmY1E4vGErmuhYLC9vc3r9Sx/YjqdmQmHo9GYaVqhULClpanyowNhlzEMo2+g3+2symazA4ODlx1erfuzKmzbHpsYS2fSRDQwONDT1eX3+atdqBKSyWTf4AARzcfjE1OTwYaG2kxciUQj41MTRDQ8Onz4wMGmxsZql6i0TDYzNDLMOc8axujYWGtzy1aulpTP3Pz8wPAQEU1NT82Ew7V5KWahnRmNENGFixcO7NlbX1+/5rMqL2sYuQ99eHSkvbV1PfU7VB1jjHN+5txZx3GIyLbtU2fPvO6aa2vzN7CKyhgiZ7LZ7z/xwxdeOJlMpjwej2VbiqIcO3rk3nff3bDyt10Icer02W9+67vBYMOHP3hfbmM0Gnv8+z84deqsZduKrJimWV9fd9ttb3njG16f69QeGh759ncef/e77n755dfOnrsghDBM0zSMzs7O++69Z//+vW4wYRrmU0//OJM1HvzY/UQUn49//RuPTk5OLysJdzg/fvSy3/j1+3PF+NnPn336P36aSCRVVTUtU5GVq6++4u677ih6ReFw5PHv/eD02XOpVKYu4BeCNzQ03H3XHbqOiSxg88YnJ9wuZCLigo+Oj3Z2dKzybaqK+Xh8bHLCvZ1IJkfHxlZPY6gKznnf4IAbx7s9Yfv37PX7ay6Udxzn5ddedRtFjuO89MrLt7755hpM3RNCTExORmJR9+7kzFR0LtbW0lqDn/ups6fdsIBzfvb8uZ6u7hoMCyzLOt93we3Ssx37fP/Fa09cXWufuxBiemY696GHZ8PhyGzNXj2AItMzM+OLP9RENDI2emDf/uampioWqQaVMUT+p8898tprZ257681vfOMNfp/PtKxXXj311a99+9VXT//x//lfS/aFCCHOnD3/hUe+xIh+68EHGpsW9kkmU//08L+Mjo1/4P33Hj96RJKkRCL5nUe/9/Dn/yU+F7/77jvc3TKZbF//4Oce/peGhvr7P/L+luYmIpoJzz70T//fv/zrV37j1+/v6e4iIiF4JBLLjZkLhYK/9tEP2badXxLLtp/8wX88+YP/uPNtt+U2fvVr337iB//xuuuu/o2P3V9XH3Bs55XXTn/zW9+dnJr5g9/7RG43x3H+3799aHJq5h33vO2G669TNSWVTD/+/R/8/T88fOONr9/OtxguJbZtv3bmdH56bnQuNj45UV9XV1N10tDocDqddm/bjj02OdHd2RUIBKpbqiLz8fjk1GRuLGAimRgYHrri2PHqlmq5sYlxtyvRNTM7Mz450dO1pUGQ5ZDJZkYnxnPX4jKZzPDoSEtTc61FnzPh8PTMTO5udC42ODx0cP+BKhappP6hwbn5+dzdyamp6J5Yc2NthS+GaY6Oj+U+9KyRHRkbbWtprfqKaLAmx3GKahPTMvsG+htDoVpriVVXud6LF158+bnnX7zjjlvvvfeers6OYLChtaX5tltv/s0HH5icmnr88accXjxaTgjR1z/4hUf+LeD3/9Ef/l5be6u0ONfjT376n4NDw7/20Q+96cYbmpoaQ6Fgb2/3J/6337jmmhM//ukz09Ph3EGSyZTX5/3f/+vvHD50IBQKhkLBI4cP/ubHHxgaGhkcHC45T4Asy6FQsKWlOfenublpanL6mWd+cestN9385hsXytY38IMf/uj6113zmw9+tLe3OxQMNjc33XLzmz7wvnefPn325MnXcq/ie088NT4++d73vOOut9/W2tocCga7uzsf/PVfvelNNz723SfL9IbD7iaEON930e31zHEcZ2xiPJlKVatUy2Uymf6Bgfwtbt9STS1RxDmfmJqci8/nbzx7/lw2m61WkUqyLOvchfNFGy/291lW8dyiVReNxqanCy7EDQ0Pp9I19C+TiGzbHhweMkwjf+NrZ04bK2TZVUvWyJ46czp/SzKVHB8fdzu/a8fc/Nz4xET+lpGx0XgiUa3ywDoJIcYmJubic0XbZ2bDs9FITf1WV11ZQmTLsr7z2PebGkM33/QGtXCuu2uvOXH58aOvvPra9PRM/nYuxIWL/Z97+F/q6+t//WMfaW5e6mNOpzOPf+/J40ePXH78aH5vmSRJH/nge+Px+GunzuQ+VEmSbr3lJq+3YCGSttaWUCgYicbWOYvF8PDoI//65b17e+++6w63Qew4zs+e+YUkSe+77135/SKMsWuuPtHZ0f6lL3/dLUM6nXn00Sf27u39lRsKxvJLkvSud97Z2tK8ngIAFElnMv2DA8u3R6KR8Gx4+faqEEK8cuo12ym4IMM5HxgaLLpKU13pTHp0fKyoJrBs6+yF87VTPQghxicn4snigCM2Pzc1M1075SQizvnFgT6HFwRwtmO/duYMX9YVUi1CiGgsFo4Uf1myRnZoeKh23k8hxIW+Psu2ijaOT03Ozc/XTjk55+cvXiz60B3HOXP+XO186FCSaVmjY6PLW9rJVHJyanJ59+WlrCwhciQSm5qaPnz4YMuyiJAxdustb44nkhMTk7mNnIuTJ1/9+3/850g0+rbbb+3tKRgVOzg4nEqnj19+dPmouObmpmAoODMTzn0n6wKB9rbWoisFkiQF/H7LtNbz+zI2NvHQ5x5hxO57zzvb2xaGA8YTybHxicuPH21qChXt7/f79u3bMzQ8kk5niGh0bHxufv74scvq6+uW7/krv3L9mgUAKCKEGBpZyl7Ixzk/33exRrqXItHo0Mjw8u0z4fDk9FTly7OSicnJ6GICZb6hkeHYXKzy5Skpk8nkX8XOyWazY+PjKw0vroqp6emp6eKxHEQ0MjYSnp2tfHlKsm17bGI8mSzu2Oacj4yNpkp9uaoinkgMj44s3z43Pzc+OVE7IfJ0eGZiamL59rGJsdr50InIsqxf/OIXf/M3f/PQQw+dPn169TdwdHT085///N/+7d8+++yzq/+oRqPRb37zm5/97Ge/8pWvJJPJ7S51GQkhZiOzM6U6VoQQI6OjqVq6LFl1ZclFjkSjtm339HSVfLS3t9swzHh8oXdECPHKq6eeefa5YLAhFpvr6x+46sTl+UOhR8bGTNN6+j9++sILJ5cfbXY2Ek8kTdN0e451XS+RCMVIkqWF5V9WL3kk+uWvfmt4ZPQP/+BThw8dyEXqyUQymUjOzMz++V9+dvmzJian3Fft9/tmwmEiamsrPancvn29P3/mF6sDEdq+AAAgAElEQVSXAaBIIpkcn5wo6rDJicaitZBPuRCslyokF/zl117t6uishcxU27bPnD9XsqbMZDN9AwPXXR2sejaeECIcmS0ZdxLR+OTEgX37W1tqYuZKx3FefOUkFyV6njjnr5053dzUVAufezKZHBoZLjlBbHQuNjU97U7rW/mC5XPj9WSqRMglhOgf7D984KDHU2ICpQpzHOeVxVGkRWrqQ3cc57HHHvv0pz89NjYmSdLRo0f/6q/+6k1velPJnV966aVPfOITZ86ccRynpaXlM5/5zEc+8pGSe2az2T/6oz/61re+lU6nPR7Pfffd9xd/8RfBYLCcL2Xb2LY9OjaWyZZevyyeTAyPjlx5/PIKl6pmlaUmyGazQoiSU6ERUcDn445jmgud/JZt9/UP9nR1ffr/+L073/7Wn/38Fxf7BvIrsPlYXJKkukCgrq7En2uvObFvb+/SUowS2/TPXCaTffSxJ06+/OpvffyBq05cnl9NGoZhGGbA7ytZhiOHD9785hslJhFRKpUmIn+g9NB4v68W5+CEWiaEmAmHo9ESvZ45L7/2anXzU4UQUzPTq6R8JJKJ/qHBqveBuSndK+XICiGmw9ORWLTq5bQsa2hk2LRKdxUbptE/OFD1QpJ7fWN0JJ5YcaXS6Fx0Ymqy6kUVQlwY6F8pLLBte2RstOqZ6EIItzG8UqJCOpOphVwg90OPzRdnsubUyIdORNFo9C//8i/Pnz+fSqUSicTzzz//8MMPx2IlrhRZlvWZz3zmueeei8fjqVRqaGjok5/85OwK3eFPPfXU5z73udnZ2XQ6HY1Gv/a1rz366KO18HrXI5VODY+VuEyRc+7i+Zq6SFVdZelFbmlpVhQlfxRdvrHxSd2j5yY8liTp6quueOCjH9R1/bZbbz53/uJ3H3+ys6N9YR0porb2Fk1Tb7nlTTdcf105SusSQvz4Jz9/9rlf3n3X7W9Ylg7h8/l8Pu/hIwcfuP+Dqx+nqTFERNFo6cu1y6eWA1idwzmR2LtnYfbWVCo1NTNNRJIk7duztMhlPJGo4oy5tm2PT0wYpuF2HXHOcxVGrjNpcHiot6u7un1gmWymb6A/V6TctVR36nsiSmcyU9PTjcFQdfvAYnNzM+GwWwYhRC5mypVqbHI8kUhUfa5c0zSHR4ZXeT8556PjY22trZpazTmSk8nk6Njo8nLm1juYjc5GY7GuwkEslReeDcfj8VU+9/7BgUMHDgaqOjuh+6EzxtxS1eyHTkSGYQwUjh4eGhpKpVKhUHHCZDgcHh0dzQ9z5+bmzp49W7LL+bnnnsu/m0gkJiZK5JzUpkQyuaen171t2fbIYlbPgX37c/tEYtGOtvYST770lCdEbm7SNa2vf9A0zeWzx7/w4kmv19PYuBABK7J84MC+5uYmIgqFgm+/462PfPHLP3j6x++/713uDt3dXaZpjQyPvv511xb1EHPOn/rhj3t7u48cPrjFa6PPPf/io499/5qrT7zt9lsVpfhtCQT8gUDgwoU+znnRiYQQzz3/YiQSve2tN2ua1tbWSkTDQ6MlV61/9dSZrRQSLkGKLB/cfyCXRzE6PuaGyLIs33BdDaW2d3Z05Jq1YxPj7lB3n9d3xfGFmdQUWal6R4sQ4vJjx3Orzp589RW3v2Tfnr0tzQsDJ2phoRNVVa4+ccK97djOCy+/5N6+7uprcvvwar+ZRCSEOLBvf29Pj3v3Qt/F2NwcEbW1tO7pXaiGPbpnw6s5bzcuxFVXXpm7+9wLv3RvHL/sqG/xyp7uqf6aF/V19ddcdZV7O55InD1/zr2d/7mLUjktlbTSh97U2HRg3z53Yy186ESkqmp7e3s4vNRb19raWrKVXl9f39LSkr+AdiAQ6OoqnSx62WWXSZKUa8B4vd7GWl3QZ7meru7crJHJVCoXItdUbVI7yhIiezye6669+mfPPHvu/MUrryiYajQSif74J89cdtmh3p6lqT1zgaQkSSeuPH7NVVc+9dSPTlxx/LIjh4hoT29Pd1fn6TPn3zIbKRr/d+bs+W8/+r33v/fd7p6bduFC3xce+VJzc9M77nlbMFhiDbxAwH/o0P7Hvvvk6TPnrrj8WP5DMzOz3/rO4z6v92133EpEHR3tBw/sO3v+wtDQyL59Bes2DQ4Ov/ba6VqbIBZg61RV7erozN1NpzNuiKxr2sF9NTTprN/nP7B3X+7uqTNn3BC5taU1f3vVNYYaG0MLla5pmrkQuabeTCLyeDy5HikiGp+YcKOlhoaGmipqQ319/go7uRC5u6u7MVjcoVgtjLHWlpZcivn0zEwuRK6pN3OlD70+UFdT5SSiYDD44Q9/+E//9E/dsc5tbW3vfve7SyYN+/3+Bx988MUXX3TjaU3TPvWpT/X29i7fk4huu+22m2666cc//rF797rrrnvrW99a9UR2KIey5CIzxj70wfcosvLlr3xrbGzpAkQkEvvrz/59MpV61zvu8q5wScvj8bz3ve/0+X0PP/zFTDpDRLquvfc97zx3/uK3H/2+O2uEa2Ji6n/89d8Ggw1XXnFsK/86w+HZf/7CvyUSid/+zQc6O9pLHkqW5ZtveqNH1//hoS/0DwzmtqfT6W89+vjoyNgH3neve9VJU9Vf/dUPjAyPfu3r34lElvJHh4dH/5//9Y9dnZ3LDw4AAADbS9f13//933/kkUfe8573fPSjH/3qV7/6oQ99aPlVYiJijN17773PPPPMxz/+8fe9731f+tKX/uRP/qTknkTU1tb27//+75/5zGfuueeeT3/609/+9rf3799fck/Y6cq1up6u67/7qd/60r9/7X9+9u/279vb29M9OTV1/kKfxKTf+cSDR44cXOW5DfX1D37s/v/1Nw899r0n3/WOuzRNvfLK4x/+0HufePKHAwODhw8dCDWGxsbGT50+19rc/LEHPtTYuKVugP989vmhkdH29tZvffvxkjv85oMPaJrW0tL0u5/6+Bf/9at/9dd/d/jwgb29vZlM5tTps/PziV974MP5r+jokcMf+fD7vv/k0//9z/7n0aNHmpuaxicmBwaG9u7tufWWN//DQ/+8ldLCrpe70leb3RJCCDdL0s3jrM1CAgAQkaqq991333333beenQ8dOvTQQw+tZ8/29vY//uM/3lrR1rBSWtryn9xVqgz3t1oIIcsyfqs3YRtCZL/fd8dtt7S2Nhcl6R47eviTn3jwxZOvTE5Mn7/YV19Xd9Mb33DtNSd6ewtWT33nO+48fLC4BXbF5cc+/MH7GGOWZWmaquva226/pbe3++KF/nB4drZvoL6u7q47b7/h+utaWpbW5OzsaL/zbW9dHjHrmvaWm9/Y0rJQQlVVX3/9tdbiWgaHDh14z7vvKTkZkIuxhdd1/NjR//K7v/3LF06GZ2b7+gd0Xb/iimNXXH78yOHiiP+O22/dt2/P2XMXw+HZi339jY2hd7/r7muvPZFOpe++8/bW1pqYrQlqUDabnQpPk6DmpubqDspZTgiRSqdjczHDNGzb1lStvq4+FAzWwuxOAAC7iWVbk1NTRdMzB/z+1pbWgt0sKxyZzWazzY1N+eN3HceZj88nkknDNAQXHo+nKdTo9/sRKG/INoTIAb//jttvWb6dMdbe3nbn224zDDObzeq6puv68kF173rHnSUP+5abC0aSapp21ZWXX3n5sUwma9mWrum6rhUdrbOzvbOzxDBMXdfzj6aq6g2vX5oc49jRI8eOHlnrVS5ob2u9+87bTdPKZDKKougeXSnVONM09fLjR48dPZLNZk3T8nh0XdcZYz6v9+677ljnueCSIoRIplKDI0OxWExRFL/PX2sh8uT01PjkRCaT4YIzwQQTmqr1dvd0d5Ye1AIAAJtjWdbo+FjRYqVtLa35IbJlWf2DA+HorOM4Ht2TC5Edx+kfHIjEIqZpkSBBgklsZjZ87MhRzDy7IeVKtMhhjHk8umebBgtLkuT3V/kDZozpuqbra09nI0mSz+fDP0hYj9j83IW+i1nDqNk2vuNwwzB6uno629sZY0Mjw5PTU32D/R3t7bKEjmQAgG0juLAdO9QQ6unqzvUG6nlThGWz2VdOvZYxssv7hWVZTmfSiqzsP7y/pak5lU73Dw7Mxef6B/uvPH5FxV7CLlD2EBkA1mTZ1oW+i8TYZYcO9w8NUg3M57VcV0dHc2Ojx+NxL5t0tLcnkolEKplMpRrqqjxBLwDAbmI5NhH5vN5gQ8Pyy++mab527ozt2L2d3RkjE44Ur3Jy/LJjXAg3pA74/W2trYlkYvkC7LA6hMgA1acqak9Xt65pjaHGvoH+2kwXkyQpfyIaSZIkWSZB6grjvgEAYHPcBVPdX9flyyyoqtrZ1s4Ya2lq7h8cWP50VVVzt911XpjEVpqjA1aC9wugJnS0tzNigoQgwagWQ+R8QohUKp1Op/w+v9dT5TXJAAB2GTdEjs7NJdNpIvJ6PKFgMNgQdHuUGWMdbe2MMcdxVplswOU4TjwRt227q62jAiXfTRAiA9QEiUm08kQ/tcayrLGJcdt2Dh/YU5t93gAAO5c7l0U8Gc9tGZ+c6O3u3bu4oEku+2LNOiORTExNz3h1b3dX91r7QgGEyACwMaZpnu+7mEwnOzs6QqWWqgIAgK3o6uisCwQUWVFU1TCyk1PTs9HZ4ZHhxlCovq5unQcRQiSTybMXzjOJ7du7F4kWG4X3CwA2IJPJDAwPReeiHW0dPZ3d+M0FANh2siyHFldH93o8Xo/Xss1oLBaNRdcZIgsh5ubnLvb3cSH29e5pCjXiit9GoXoDgPXKZrODI0Oz0dnO9s493T2atvbUhwAAsEWqqrr9EZyvKxlPCBGdiw0OD2VN8/CBQy1NTVjjaRMQIgPAuti2PTQ6HJ6d7ero3LtnjyLj1wMAoBKyhmGaJhH5vOsaHp1MJgeGBg3DOHb4ssZQaPm0cbAem6/kTNM0DNPr9eBKK8CuJ4QYGBycmpkO+Pxer3d2NpJ7SJHl5ubmKpYNAGCXOXv+vN/vCzYEVVU1jOzYxMR8PO7xeJubmtZ8rmVZZy6ey6QzLU0tlm3NhMO5hwIBf8AfKGfBd5XNR7cvnXz1B0/96P6PvG/f3j3bWCAAqE0TM5NElEynLg705W/3ef0IkQEAtpEgPjQ6zIcHiRiRUGSlob5+b++e9XRKxubnMpkMMQpHw+FoOP+hvT17ECKv3+ZD5Gg0dv78xXQqu42l2YpINPbDH/74+uuvQcgOOxcjdvjAISKqC9Tcr9hlBw+X3C4rasntAACwOXt6epsbmwzLdBxHVVRd0/1+v0fXi3aTJKmzraOxIVift8RpXaBupZ9rxMcbsntyJOLx+A9++KOurg6EyLBzMcbaWlqrXYoSGGPtbe3VLgUAwCXB7/P7vD5aXFpvpckoJEkKNjRQQ0P+Rq/H4/Xg53ob7J4QmYgch++UlRcAAAAAVuKGxZiprYq2M0Sen4+nUqnm5iZBFI1EY7F527H9fn9bW0vA78/fcyY8q8hyMNhg2fbkxNR8PMEYCwT8wYb6UCiY/w8inc5Eo9Hm5iaPx1N0upmZWcexOzraTdOcjUQnp6Y555FodGRkrK4uEAphRQMAAAAA2IztDJFfePHkL184+c533Hn27PlTp8+ZlpXJZBix/fv33nfvO1pblwb0PPrY90Oh4LXXnHjq6Z9cvNBnWTYREWMd7a1vvfXNV15xPJeQ3j8w9LVvfPsjH3rf4UMHik73nce+Nz8f/4Pf/53wbOQrX/3W2PiEYRg/fPqnzz3/0o2/8vq777p9G18aAAAAAFw6tjNEjs3Nnzl7IZ3O1NUF7rv3nlBjSHDRPzD41a9/568/+/f/7Y/+S0P9Qjr51PTM7GzklVdP2Zb9q/d/IBQKkqDw7OwjX/zK5z7/xY/92oevufqELElElE6nhodH0+nM8tNNTU1HIjEiamluev/73j08PPKP//TIrbfcdM1VV9bVISEdAAAAADZpm3OR3XlG7v/w+9rb29wtnZ3tpmU9/Pkvvvjiy7e85abcnidPvnr5Fcf+7z/+w9yKL11dHZ2dHX/92b974smnjxw6WP//s3ef8VFc58LAnzNte19pteoNARJFiN4xGGzjjnuJHafYqXbavfFN7k1yk9yb5L5JnDjFvWAbG9sYNzDGdNMRvaqhLlRW2/u0835YIVRosQXCyfP/8QGdPTNzZnZ295kzzzljvtinkAuCkJXpFkWRYRinw56XlzO0O4XQlYNhGJ7nAUDgr9x5JFi2p5Ecf0WPduB5LtVO9kqeV58AfwW/131xXM/x5K7s53j1Hk/mCs7yJAz5QrzvvW86y13RbzoajHxxvluGyxD/gGm12skTJ/TGxykVE8ar6tJT7R39auq0Ny6+ZsATER1221VzZ7++/J3GxqZx48YMbdsQ+ieQ5c6885bbhrsVF1A2qrRsVOlwt+LCrl903XA34cIEXrjy3/GUmVOnD3cTLsoX4nimO9O+EO38orzpaDCD3vCFOMeG0RD3nej1usGduBaziRAiilLfwtzcbHfmwElJWJbNzc02m03VtSeHtmEIIYQQQghdpCEOkVmWNej1A7fBMAwhA6Zjs1osgyfBBgCz2aTX67o83UPbMIQQQgghhC7SEIfIBIBhLiohSafTnjVPkSGEEBKLxYa2YQghhBBCCF2kYRukEgyGkonk4PJ4PCEmRfeZbObUcIqBDwSJJxLJpHgpG4gQQgghhP5FDVuI3N7eGQqFBxRSSrs8nmAolJfbk9AsCDwhJJFIDKjp6fLE4meZCQ4hhBBCCKHPadhC5M4uz74DBwcUxuPxw4ePmc2mkpLiVInFYmFZtqm5tW81SunhI8e7u32Xqa0IIYQQQuhfybCFyFqt5r33P9qydXvfwrXrNm7Y+On8eXPsNluqJDcny+l0bNmy3dPdM4CPUlpTe3Ld+s3x/r3IHMdTqsqpB/UhhIZVUk16FBx0ixBC6Itq2Cb2nzZ1Ulqac+kry3fv3l9UmCfJcnVNXX1949UL5s6ePY0/PZKP47i7br/l2eeX/up/fj9t6iSHzdbU0nb8RPX48WW8wMmS0rvCtDQHy7Jbd+ySFNlqsUyZXDFMe4bQv6i4GtcxutT/dyR2/VfbH7eNeH94m3QlUET1wPKW7qYYA2TSAzmCljvwdivLkykP5XPCmU6KRFjas7RJY+In3JEt6HsGPYtR+ZPfVZVfl5093ZoqoZRGO8SqTZ0N27waI5c93Zo/0W7L1sf90rEV7UWLnPYCAwBIceXEug45qjoKDdWfdKlAs8ZZxt6ceYn2se9bf8WKq/F6salYKNAwZ5lMCZ0LVVVIJkFVAYDodMAwoKo0HgdZAY0AgkAYBiilsgxinwFCDAMaDRACySQoCgAAywHPEZYFACpJPZU5DgSBXMHPcEH/yj57iJyfn3vtNQscDltvyYjiQqBw1qfiXXvt1SUjivqWsCy7+LqF2dmZtbUnG5taZFnJcrtnTp86bepEo7Hf46MrKsY/9ug3du6qbGtrr29oMhmNN91wzeRJFTt27YlFz0x8odVoHrj/7oOHjuzdd7B8PD52BKHLSqLSW8H3H7TdPdwNueLISXXb7+pVEy2c5lBENdgR3/jzao8vUjDL4S6z9FZrrvQv/+6+onFpZddm9IbIB19p/fhXJwIH4vesnMjyDADEvNIHPzzSXOsvmGFPxKU9yxvjPmnag/nRluTmb9SY39XaCwyyqO57s3nnaw3X/bhMiisxb/LYlo72A5cqRI7T+DvBVffb7rgUK/+cwmqYAy4VvnconX/qfvaXrh+7GdcFFxxGPsVvYPQacsXE8V6vumkLhELAMMzNN4Ig0L376LHjoFIwGkh2NsyfBwD00GG6pxLI6as+h4O5diHo9eq6DdDWBgwDPA9OJzNuLGRn0RNVtHIfyBIZOZLMnglX9uMY0b+szx4il44eWTp6ZN+S8ePGjD/HI/EeuP+uwYWEkGlTJk2ZVBGNxhRFMRqN3DmeYDlq5IgRxYXRaEySJZ1Wp9frCCHXLJw/oNrcOTMmTSoXk6LRaPhM+4QQ+iwopVXJ6o+CG+cYp7PAOFh7qlylapfi8Sk+N5dhY89cTitUaZFbEmoyl8/RMwNnUh8qPsWvJRqZKg1yQwabkcY6GcJ45O52ud3NuZ2so7fvKqAE25VTACSbzTKxplTLPUq3jbWG1FCL1JrGpmVyboZ8xsw0Fpix12Ys+MVIAGjbHbBbDGJc3va7+jtemdBbZ+ePGjLMZqHPd7KcVLe9Vn/VIyW1u7q6qsLusRYACNTGGlZ7b3iubNwdWVSFRFBieMKw/Trhqjd0bnuxfsF3SkbMS2N5pnhemvw9NdJ8lhmEPj9FVdZFN24M75hpnKIlGhebzhBGpnKn3NmteN1cRhqbNlx9hApVNkd2ZvPuCbqxw9KAz+Y1/9s3m6/JE/KGuyGnhSP02HFm6hSS6Qatlu7YSddvhPlXMenp1O+HeBwoBUppYxNEomT2LJK6CazTgUYDikKPn2DS08i4sTQWp4cOqYcPM195iLhcpGKC+umntLqGzJyOITK6Mg1bokUvhmFMJuP56xBCOI6zWMwXrGY0GMCA8TH64kkkEg0NzZFoFADKRo/UG3oCx6QoHj9eFY3GRhQXuVxpANDZ6QmFwiNGFA5YQywWO1Fd29nZVZCXl1+Qq9Nqm1taOzs9AOB2pWdmuRnmUo09qJcanvK+3CJ1/Kz9t2bW+KD9LgDQEu7lwLK3/WtUqipAf+b+zhz9bACIq/Ffd/1+b+wYULBypv9xP14sFF1oC5/Fa4HlMTV+IFatgBSVE3fbbpRBesO32sBqGGB/6np0oq4cALZFd/2/rqc4hokqiUze9bjrOyM1I+I08ZuuP7l557bwAQ3LheT4l+2332G9mSf8528YEyLjFmZtfafu5qfHCnoOACJdicOtbTPvL2rZ5u+t1rDd29UQ/uqKGV23hRo2e1MhMm9jdYW8xsYTQggLerswYOWt+/0vP7hryS/Kxy/JZrhLHpu+G/7gZd+KsBL7WftvS7QF/+58TKTi096XPw3vsnDGbil8j/2GuyxLtIz2UrdkMK/s2xjZUqEbzzFMGuvsLe9WvHViXTqXlsvlcuTMj2CT1NwiteTzeW7OzZLLEbRRSsNquFqqsTP2Qr6AEFIvNWwK7yrW5kZo1MW5nKwDAIJKsFqs4Qg/WhjZm9DSKDXZGJtA+ONilYUxFwtFKlW75K4aqc7NuoqEos98RTcY4TlSMoIUF9F4nJ5sIJMmkvnzCMelgmNgGJAkAACXi0ycQIQz5yRNJgnLQF4emVgBlJIRxeqzz9PmZmbqFEhPI9XVNBgaqkYiNOSGP0RGCAGA1+d//c0VkiiZjMasTLdOrwsEg8veWFFXW28yGwkhb614v6x01CNff3DfgYOHDh77j8e/13fxlta2l15e5vMHXOlpGzZ+arWYH/jS3dU1dbt37/N4uidPqrjrzlsEYWA4NVSKhMJHHA/+Wnry1dynUiWbYluCatwr+17K+aOFtT7re/FZz/KJORU6onvK94JPDr6U84SJMf7d9/zP2n/3QvafdezQZ7L65GBj8tTj6d+aoBv/UWjdbzv/tsA8/bW8J82s6e/el9dGNo7SlhgZw2hdyRM5v8jj8oJK8P88T26P7C0SCijQ6kS9hbX8JfvX+ULemvD6d4IfzjRMyRNyP3/DVKqOuc1dublpz9NNs35QBADrflGdnW3NnmRpPh0iK5J67J1To8a6TOma0fdnVG/vKr8vW28XrLm6whudb9y09+onR46alWHO0QoGNtVNSwEadng3PFwz45ai6d8q+PztvBi3W25lCFkf3P33nN+kSj4KrWuTOp7N/YOby6gXG5/w/D2Xz5lrmDmEEdtFejP0TnWiISBHDsePXWWeMVozkgNmZej9zeG9dtbcLntmGSt+6PwOS1i/4n/a+9Ke6NEM3umV/TdbF95rueNSd35TSv/ie2Zv9IiDs3mkgInV/cT16PvBj7yK/4PAOhtruc589Sz9tI2RLUv9b1oYq0TlCA191/m1KbpJDGH+2PW3Ul1Jq9jRIfpusS3M4bLfDK5cE9rsYG3tcvdUw9iH7Q9aWevQtploNCTDRdvaSDAIdjs5fdXd8+QCqoKi9GQeEwL9DyAhhGo1oNNBfOAsrghdmTBERuhKodPp7rz91rFjRgOAPxB4/Y0VyYT42KOPpKYJ9/r8BM75m33gwGGeF/7jx99PT3Mmk2IoFLZazXm5OfPmzPpw9dq+WfuX05dsd2dwLgC4zrxwc3ifXwkkGXFTqPJG6xyf6vep/hGawlWBT+uk+rFs2ZBvnQCZoq8Yqx0DACWaohHanEXG+S4unRBSpinZEtsqUxkAHIydB75FagmpYQfnCKhBicoAYOfMC41z8oU8ABilKTYw2rg6ZD/tGjM/e1HxrpcapjySJ8aVncsa7ntucjJ2ZkKe7upI/WHvtAfzQ+1xu02/a2uDrymmtwuCnlvw7RKzXlu5onn7TxtK7kmb/c1i50gDAMRA3P1GoyCw/kg0FhD11kt1RXR+myNb5xpmubkMAMjlsyfpJu6PH5mun6wll7sj+UvWe9rF7mtMV881TgOABqkxTqWIGvtz1n+nc2lbYzv+0Pnsl2xdLta1Nrz5lNTxZPYv3VzGttjOZ7pfnW+Y7ebdl7R5ClU+Cmz5qfs7s/UzkzTpVwIZnOs+253bIge/n/bwSM1IAGgQG3/b+bf/dD82Wz+TAl0bWff37ldy3TmZvBsAPgltfyztKzP10znCHY4f2x6tfDTtK5N1E1uk1v/t+tPu2P5FxquGONBnGDJ+HD1+Qn3+RTJhAikdBW434XoCCVp3kn6wiqayJgryydgxAAAUQJZpPAHxGD1yDMJhkpM9lE1C6JIZnhB58XULdVotz2GAjtDZ1dU1tHd0Pfy1B3NzslIlaU7HeeoLgmC1WkxGIyFEq8Ly05YAACAASURBVNVotcM/1ocDtvfutpWxUlAlkL2KV6Rii3RqdfhjAFBAmWAYOfjxmUPTAMJaWCNH2NT/7bxFx2hSEYOGEQgQACpRaUtk+5boDgdn1rHaDrkzk8tMtUfH6Eys8fSqeJ7w6pC2c84TxbsmNzZu8/lqovqEUHqj68CbbamXqEqb9vsb9nqD0fjmpbViROn0ho6tac+eYAUAk0t71Y9HTLg3u2Gj99OX63a9VL/4V2MAgAd29veKsyZYn128ffvo+vn/UcJywzCtp08OOrmevHMW2DTWWSvWyXClTMd5g+naVHw5RlOqZfTtcqeJMR9P1FlYU5VYUyXWBJVgTE0eSh651CEyQ5gphnErA2sUqkzXTU1dTA5wMHHYxOpn6qezhAGARcarVwRWVYu1qV1wsrZp+impXJF9if0SVbsV76bYpzKVGWAaxTYZZB6GIDWoL5KXxzz0AK2qobv30K1byVXzYN7c07vEUkFIzVkBp0cWUUmiH6+F3XtAkohOSxZcBdlZQ9skhC6R4QlSy8eNAQCc5wWhs6KUejzdrnSnw267cG0AACgsyF/7yaZ1GzZfs2i+VjP88TEAsIQZnNCpIzoCzDTD5Jm6aafLiOHSjNgjhLB9bu4TIDCoG94nB17wvX6/7fYZhikqVd5WP4io8d76zLm77T8/a5Yub7T96Jr2rsbwrJ8W8boz38ZiVK7a1DH1y3nTHyhIDcXb/0TLvt82X/OT0b27ZsvVW76ki3dJu37VsOgnKgAIwLqKTIVXOW5/tvzDfztSMNFRvDjt0rX/XNJ4W5KemfwrSUUNo2GGbw7+vjhgbKdzDwQiMMDIICfURESNiDS2O7YXACjQMn2hgbnkY1oYwnwv7Rsbo1te9L75Gln5rbQHK7QTBtTxKf503s6fTpjmCWdhDUGlJ3+3VFfcO/FFh+yJqJFDiaMAAEDTBVu2kH5JLj0ZQtxuSE8nFeV0xy66dh2ZPg04DgBIQT6zaCEIPAAAwxCGoaIIHEvKx5GJE4ndDjotGAyEH+KoHaFLZHhC5Es3bAihfwKiKHo8XpvVeq45XgYrLMy7bckNK99btfaTDfPnzZ47Z6bDYb+cHzQDo2cJ2y53uNj08ySEuNj0HMG1M7L3Kv1cgfASlSUqccOX8eVXg3pGX6ItMjHGTrnrYPxIsab48myaEDLt0YJlt+7hBfa+5yb3fSncnjy1PHj9n8YUTe+JcbU/4Xfvbqpa01E8P12MyLyeZTiSCEo+fxQc/SJ/Qsi4JVm1Oz3rn61yTTKZ0i95eoODs8dpIqyEDYyBACnUFByN18zQT9MRbUANHkkeKxIKBDI8WR8ECKUqpTTVI0MIGXxyahmNkTFkCDnfsn/tMjfPztpuN99ynXHhq4Hl/9b6m7cLnkkl8KqgpirkCtmrghtkKqe6imUqh5WYlekZuc73uQRN55w5XM537I9YWcvgDQ05wrJgscCkieq27bTuJBk1EgCAYYDnBkTAhGFIdg5TVnoZWoXQ0MJQFaErDsMwgkaIxeOqql7kIhzHzZo57Rf/9eO77lxS39D00tI3PB7vJW3kAHl87ljtqL95n18dWt8stZ6rGs/w30l7yCeH/up97vXAyr96n3/K//ww3oV3c+k5guu94JplgZXLAm8aGCN3GUeVZZdaDDma4lvTtaZ+FwlHPjhlXKDJu9neW+IqM5eUpX/4w6Pt+4LL7qh872eHP/79idfuqzz+asfMXxXxhn6XUhojN/8bJZFmcdNva1XlkvQk9jVFO5knzCv+tzZGtiqg3Gy6PqKGX/a9vjL00Yu+ZRSU2YYpfSeOuGwEItg4W6PULFIplXd+VnqiL9OO2B05UCPWRtSoV/FVJ2sVqpyr/lCRqVwvNsTUOAfcHMMMhSqdcqeRGCys8XiyJqmKClVKhdEqhc2RbVE1GlEin4Q3Siot1gyczQYAJukm+FTvrlhlWA0HlGCj2BRQAkPeZiqKtK2Nejw0FqM+Hz1yFBIJ4jidA5aIg9dHvV7q9dJAkCqX/BgidElhNjBCVxyO4+w267HjJ5JJUaf7B6Z6MJtNc2fPGDmi6MWXX29uaU1Pd154mSHCE/7L9juPJ2qCSpgFZpQw8ieuR3tfNTGmR51fTc1gNV479t/Sv3UiURdQQoV8Ya6QwcIlmWDrBtM1JqbnSUZOznGnZUku3zNOaLSmxMKa9UTPEvZB273HEzVJVRpjuCqDc4XVME94DuAh273ZfE/SpJ213mVZkslnfP5W2Qr1V/91VHqFCQAsObq7X6owZWhTj9krnOUw2jQaM5c9zpo71W5ynUmYYRiy+L/Lmg77rHm68vuzA+F4MiKX3p7h/pEld4aNYYkpV3vdS2UZFT39i66xptv/XO49eTmGaeoY3aNpX61NNqa6Z7M490P2e6sTdV2Kd7xmbJmuJDV07/LTEe0UXfmK4Ad1yaZphvFlulFnrcYQZqFprk/x/8nzjIFYRJrkGfI/Gf95iU7LXiIVn/EtBZUXCMcwyi22hXl8ro7RLTbP+yS0+UC0apFpzmzDtJ+4vvtucNWWyC6JygmIPOK8P4s/Sy7vKKFksXn+2vCmjeGdMsg8IffabhvyGS0gkaCbt9CTDaDVQjIJsszMmwOu9NSz9+iBQ2p7R89EFq505q47QH+pZj1H6DIglF7yPgaE0AW1nWpf+uryG6+/NjWjRUND09+feXHWzKk337h4QM2PPl43eNK3vrq9vj8/+fT1ixdNnTJRkuTUjBaXdNK3XpRSFVQGmAuONEjVJEAu/1xgg6lUBYBL1JJkWH5q2lY+nS2Zlz7xoRx77udNcqWUUoVSFRieXPA4N+321XzcdfDjVqfb+NDKaeev/LmaBBQACJDTM9BRlV7UmXBJiVQMyuFTcnsOn2ViTUElZGUtqRGcKlW7Fb+FNabSeRNqIqiEfaofgNhZazrrvNQtV6narXi9coAjrI21GBlDavbopJoMKiGP4s3kMmyclVIaUAI+JcgQYmHNVsaSOlG9so8nvJntuQiklEoghZSIR/EoVHUyDhtn1TBD8JGn9Q3q628wd99FiouoqkI0CoEgDYeIRgs2K5hMhOMoAMRi0HfmHI4FiwUYBkIhEDRENyjhh1L1zbdpMMR85UHMTkZXJuxFRuhKlJ+fe9W82e9/8FFjU8vECeMFjdDR0Zmbk10+fiwA+IOB9Ru29FaeNXPaug2beI7PzHQHg6EDBw+xLJuV5b780Qkh5CL73i6+5mVwScN0licjrk5rft9f1+AZfXOG/XNPrEwIIRf9TJBAY7zuJY8RNIU3nW9GlCFoUv8cXwLk8jx94/wEIqTxjjS+Z9+d3JncFYYw6dyZY6JltFpG64LLN8CRIUw6l5bODdyihtGkM2npfE85IcTG2WzcwJG7jj77kqomgODk7M7+5UOAEJAVdd16qNzLXLuI2GxgMg04/wgAnOu5XZaz5EarJ6rowUNQVQ05OUPcWoSGDobICF2JCCGLr706Nztzx849W7ftBEJsVkthQT4AuNLT3Rmu/QcO9VaeMnmCwWDYv/9Q5d4DLMOku9KvX7woOytz+JqPzuC07PV/HgN/Hp6tj78ra/xdOMcW+hysFjJ9GvX7AYZ0ekZCYPQoUlwEOHwfXakw0QKhK0LbqfYXXnpt/Liy/PzcEUWF+tM5fJRSSZYJAMdx5+kVppQqiiKKIstyGo3Qu86Ozq5du/aaTabLk2iBEEII/XPAXmSErggCz6c5nUePVlVV16Xfl9YbIhNChItI1COEcBzH9X8cT1VVTeW+Q8lksrAgD6chRwghhC4e9iIjhBBCCCHUD+YAIYQQQggh1A+GyAghhBBCCPWDITJCCCGEEEL9YIiMEEIIIYRQPxgiI4QQQggh1A+GyAghhBBCCPWDITJCCCGEEEL9YIiMEEIIIYRQPxgiI4QQQggh1A+GyAghhBBCCPWDITJCCCGEEEL9YIiMEEIIIYRQPxgiI4QQQggh1A+GyAghhBBCCPWDITJCCCGEEEL9YIiMEEIIIYRQPxgiI4QQQggh1A+GyAghhBBCCPWDITJCCCGEEEL9YIiMEEIIIYRQPxgiI4QQQggh1A+GyAghhBBCCPWDITJCCCGEEEL9YIiMEEIIIYRQPxgiI4QQQggh1A+GyAghhBBCCPWDITJCCCGEEEL9YIiMEEIIIYRQPxgiI4QQQggh1A+GyAghhBBCCPWDITJCCCGEEEL9YIiMEEIIIYRQPxgiI4QQQggh1A+GyAghhBBCCPWDITJCCCGEEEL9YIiMEEIIIYRQPxgiI4QQQggh1A+GyAghhBBCCPWDITJCCCGEEEL9YIiMEEIIIYRQPxgiI4QQQggh1A+GyAghhBBCCPWDITJCCCGEEEL9YIiMEEIIIYRQPxgiI4QQQggh1A+GyAghhBBCCPWDITJCCCGEEEL9YIiMEEIIIYRQPxgiI4QQQggh1A+GyAghhBBCCPWDITJCCCGEEEL9YIiMEEIIIYRQPxgiI4QQQggh1A+GyAghhBBCCPWDITJCCCGEEEL9YIiMEEIIIYRQP589RK5vaFy1em231zuErUEIIYQQQmjYffYQuaqq9o3l73R2dA9haxBCCCGEEBp2/zyJFs0trd//4U/3VO4b7oYghBBCCKEvtn+eEFlRFH8gmEyKw90QhBBCCCH0xfbPEyIjhBBCCCE0JLghXNexY1UnGxpmz5yuUrprd+W+fYei0VhhYf7Cq+cWFuT3rbl5yzaDXl9ePi4UDn+46uNjx6tYlisqzB8/rnRiRTnLsr01W1pP7d5TOWvmtAyXa8DmNm3eFovFrl+8yOcL7Ni5u7m1TRTFnbsqW1rbRpWUVFSMG8JdQwghhBBC/zqGMkQ+UV2zfv0WlmH37juQTEo5OZkWi7m2tm5P5f4vP3DP9GmTOK5nc9t27LZZrb5A4K0V7ztsVneGi6r0RFX19h27ZkyfesdtN1mtFkIIAJw6derDVWuLi4oGh8jbtu/0ev3XL16USMRrak+2tp1SFKW5pc0fCJrNpgrAEBkhhBBCCH0WQxkiA0AwGNy4eev8ebPnz5+j02oBwOPpfn35O8+9sDQ93TmypLi3Zm3tycbGpttvvXHe3Jk6nQ4AItHo6o8+Wb9xi8lkWHLLDRqN5iI3mpnp/sH3vtXQ2PTfv/p/d91xy+xZ04d2pxBCCCGE0L+UIc5FpgAjiguvmjc7FR8DQFqa85pF80VROnGium/N9vaOqVMmXrNofio+BgCjwXDD4msmTijftn231+sf2oYhhBBCCCF0kYY4RDYY9GPHlOr1ur6FBQV5lKqBYKhvYYY7Y9KkCobp1wC9XjdpYrksS8eOnxjahiGEEEIIIXSRhjhEFgQhLc0xoFAjCCzDKorSt9CVnmY2GQfUJITY7VaDwXCqvXNoG4YQQgghhNBFGuIQmSGE4/iLqWk0GgThLDX1Op1GEHx+TLRA6DKhlMpUlqhEKR3utvxrkagsUWm4W4HQ+VBKRSomaRIARFVUqHLBRQBApoqoXtRjChJqUr64dV48iUoSlT/PGiilSZpUqTpUTUJfREM8XA8ACJCLqaYosqqe5fdYkiRZUbSnU5nPRVYUWRniDxVCw0gUpS6PJ5lIAkB2VqZG2zNcVZLl1ta2ZFLMyHBZLWYACAZDsVjc7R44x0symWw71R4MhtKczvR0pyAI3V5vMBACAKvVYrNZB+Q19VJB3R7bHVHi15jmcZfgO+Hzaz8WVJKUMGAvMOgsfNvBgMbI2fL0LN9vj9oOBng9a883cEJPuZRQPFUR1xgTy52pSSkNdyY91WFWYJzFRoNTSM2f034kaM3V6SxCqk7UK8Z9EiuQmE8CAINTsGTpGPaivt8u0qex7VE5eaN5YaoBVy5FoV0ekCRgWbBZiV5PVRU6OmkkQkwmkuYEjgMAGgpBMAR9LrSIOwM4jnp9EIsBIaDRgNlENBoghMbj0O0FSoHniNs9fPvWT1AJtcitxXyhlrnAb1CKvzkW7RYBwJqtMzgFb0NMkVR7vp7Xsn2r+RqjYlyx5+kF/ZnPV/uRoDFdY3L121DMJ3ZVh+WE6iw2mN06hiMA4G2Iak2cwdnznRAPiMHWuCVb562PAYDGzDny9Qx3SZ5yoFBlV6xyY3i7SOX7HbfsiFRON0wepRnpkbsbpabJuonnWvBw4uiB2KGvOh644Cb+3v3CPNP0Ct2EIWz2mtAGA6tdYJw3oDyiRg8njkzXTb3gJy6shp/zLrvPfmsGl3H+mjQWg24vAIBWS9LTAIAGg7TLAwxD0tOI0QiEUEUBTzeIfa4ZzCZisVBZhvYOAACWBaOBmEzAMABAW9qAqsAw4HAQ3UWdiuhSGLafw0AglEgkzGbTgPJoNJZIJN0ZPT//qfOYDrqSC4fCqWACoX8OXp/vlVeXd3V1cxz36Hceyc3NUlV15Xurtm7bRVWVAhVFaUL5uG88/OXKfQeOHa1+7NGH+y7u8/uXLXv78NHjFrMpFIpkZroe+vJ9Bw8d2bp1ZyKRnDtn5s03LRaEMz+iMlUapMYCPo8jHAXaKDb75PBC05zLvt8X5Z1bDyWDkg74xS+X5V/nWHZNpa1Uf8OTY9xjLb11PLWRpdfszp5qveWZcWZ3z3CIlj3+1Y8dW/CrkaU3nPmdq1nV9dE3j6sJlRKqauj427Ov/v1IlmPeuH3fDX8tK1noAoBkSH7vnkPFi9JlQT3wvy0iyKVfdi/4WYlg6PedeTRxtFRTypB/IDo5nqwaLYxMfbM1ik1+MUrNV19kz8IFnZTq09l0EzMwh+1zoomEuuIdiMbAbGKuXgCFBeqy16GhCQSByjIwDPPA/SQ3hx44SDdvgT5Hg/nmw8RqpRs20epqYFmQJdBqyYwZzOyZ0HZK/eBDSCRBENgffX9oG/yZtUntywPvfNvxdTdzgcAoZceT9cde7dABP+v/Csfcmbnh51Wt6wN3rqjImWXrW+3NGftJIbn5b2Pd43vO2HBX4u37D+RNsd/8XM/8pJTSU/uCqx47GqiJa1QuoZVKbnAt+vUoY5pm809r8yvsE3+UCwCJoLT+F9WCiSu5Lm3VrcckUDLmmG99dpzOJgzpkegRU+NLfW/MMc6YoCvP5DIPxg+P0BSCBioT+1b7N03IHs+Rs0cRHVLH/vihr57tJa/iiyiRPCE39efO6N6RunyAoQyRqxN1VsG4YFB5i9Tyd88r43PGGYj+/GsQQdwR3XezddEFt0VPnqTvfQBaLcnLI7cvUY+foB99DMkE8AIVk2TWLDJ7JiST6sr3oKsLTvdTkOnTYN4cCATVF14CgQdFBVWFvFzm2muIO0N9ZyVIIsgKc/sSGFF8/gagS2fYQuSGhqbOLk96elrfQlVV6xuafD5/cXFhqsRgMDAM4w8E+lajlLa1nYpEor0TLSP0RaeqKhDy1a98aeyY0QCgKMoHH67ZsPHThx68Z2JFOQA0NbUyDAEAURRjsdiAxfftP9R6qv0/Hv9+QV5uJBrt7OhKczpuvnHxddcs/HD12lg0BnCmb49SGlADz3W/9l+uH+iZMz8VFECmMgCwwPbtZVGpqoI6uLz3VQAgQBRQCBAGGACgQBVQGGAYYHoXoZQqoAAAA0xvWKlQhQGGAlVAJUDYPvV7xbrEOf9XNO3hgtSfkl+JHRI7doUzysyESV1F04OvtVpC2rhfokrPnqoKbVrro9V063/XjV7s6q256uZjZV/PmP9ECa9jO0+EAEiqjznWLcqiCgBSQlnx5YMaA1/+SJbWzM96rHDHX096jkf73vaiQINq8LedTz+f+weecqndpJSqoKqgDtjx3kX8iv/JrpeezP4VS1kG+l6xnOewn/2Y9B7P3mMug/y85437bEtGa0sIkNQR7j3mfVeuUjUVlA94y9TUW0DYwVuCWIy55UYyahQAqJs/heoa5utfJ/m5EIvT+gbizgAAECVwONjvfKvfsqIEyQSZO5uZM5smk3TffvrxWupKIyUl7A++p27fSTdsHLxfFCgBooJKgTLAECB9z6JUee8e9dbv3YXBZx0FYIAAAAGSqtm7zt7FCSEjNIWPp/1Az+gGHKXB706KFFaKpzuXvFcOAFJMgSCI3Urtp56+IXL9dm9XVzjLZlVl2tuk2rUeTQdXvaYz3JEwZWgBQEmqO/5WbyvW3/feZIND8DXHxLCss/IAkAzIckQFAFWmlS82eWuiNz81zpan/27n3GMvtx9Y1jo4HeD0qUiZPkej96OaOoCp6DZ1mg04aL1Oye0yJdMNkwv4/L6XgtcYrp6un9obHytUUYGS07eRe8/t3jer9yNPKV0bXi/S5Jf4e1PvxYAtnrU9fU/1vu9az2ftHNeog5caKZQ8mf0/eqLrPRoMYVKpI6k6qa0zg3JQB6/qDFkmeflkyS3EaKDdXvrpNjJ2DLl6PmEY2t4JOi3hOJpIAMuQu+5gRo8asFqwmJn77iXpadTrU995V924ibn1ZvZ736XBoLpiJeDd8mE1bCGmKIkfr13vznA5nWeG9zU2Nu/cVVk+fmx+bk6qJM3p1Ol0hw8fnzl9amqmZEppJBLZum1Xt9eX4UrvXZYQ0vOpQeiL70RVzY5dld985KFxY8tSJYWFeeepHwqGRhQVZmZkEEJMRqOp+Hz9iO1yx7LAWw1i6wfhNU7OvsAwDwASNLEntr9BapSoNFoYOV43xsDoKdCgEtwXP1wvNvBEGKctK9OM1DD95izfnzigUFWkcp14kieaCu04C2s6ED/aLDfbGPss/ZRsPosQElGiu2J72+S2BE3mcDnTDBPtrA0A3g+tHq0d2ZhsaZFbBaKZpps4QlN0liitD52Lz7nG1rDHO/pul9bEA0CkS6x92zPxz7mHXm07c0za4u0nQnNfLH73nsPth4OZ5VYAUJIUXLRgiSN1yzuj1DJg5RFPcsPPqiFBr3ulVGs+58iKDqnjtcBbPiXwXmiVnbXO0c/kga8XGw8njvsVn5mxlOvGFAr5ffvY2qRTSwOvd8qed0OrHKxtnmE2AMRpYldsX61UJ6rSaE3JBN1YA2OglAbU4MH40XqpgaFcuW5MqbZEQ/od9iapuTbR0KF08CDkCTnl2rHbYjuqknUbo1uqxJpS7chSzaigEtwbO9QqtwKQQj5/or48Ffx9GttRKOR6ZP+RxPFS7YiJ2glexbcnduCU3G5kjFP1EwbEQwPQcAgy3SQ/FwgBg56cPkUvgBCi1ZLp05TDR+mRY6Sk5FwVm6WWTqVLB7qjyROimszhcybrK0ysEQASauJI4sSJZI0CUpFQOFFXbmD0ITV0LFnlYG01ycYuuUNPDJP1EwqFfIYwETVyMH60SWxSQKHA6BhtkZA3RlO6O16Zz+fnCtkAkARxd2xvgZCXy2cHlODRxPHJugoja9yX2M8CF1FiJ6WTlDLjtWVjtKMHnPwDcE4m91pb/ZruOT8s4jQsAKgK3fLL2tI73bHOM7c9k2G57gPP5N/nHflj24mVHZO/mUcIoSqInUrJ1empzB9HvmHAyqW4svfZ5up3uq77a6kt73ydoCpVq5I1RxNVITXIE+1UXUWJpoghzLHkiZgatzG2vfEDOla4xXSjXwnsix9qkZt50JZrx4zUFgvkTG90g9i4IbI5oka3RXd1a7xT9ZPPvCQ1VidOXm9eBABNYvPe+KEYjagUGGAdnHWibjwAMITUiicPJ44H1WAm655umGRiTNXJ2k2hnTbOuJJZVSTkj9WW9m35Kal9b/SQR+2ysrZJ+vI8PodS2iF31SbrW+UWAmyRUDBGO0rP6GvEuvpkU5fisTDWEUJBqXbkgMhVVZWdsT1NUgsAKdOOLNOMZgnrU3xbojtvNV0PAIcTx3WMVlTFw4ljmbxrpmFaQA7siu33Kz47Yy/SnnkkcJPYfDLZ1K60C6DJF3Im6yvOeehlCRhCigsJxwEhJDvzPG9TP4QQp4NZuED9aA1EIqC/QCc3ujwuSfbSxSgZURyNxp9+9qWt23bVnWyorqnbuHnrS0tfj8Zi114zv3faOKfTPnXKxP0HDq18b1VVVU1b26mDh44uf+vdjq4uo7HfN4jZbJYkqamp5VR7e2eXZzj2CaGhQSltb+/McKUXFJwvLO6ruLiwqbn10OGjknTh4V8JGgdgWGD1RK8jPZ+1I/HjW6M79GAQFeVF/xuVsQMqVeNqfGVo1frwpzbGllSkl32vH0wcGTCEZWt051PelytjB4zE3CF5ftn5x5f8bzSJrZls5sH4kVf8b4fUMABEabQqWaMhOiuxvxP88IPg2tR6XvC+8az3lTqxwcmkdcrdT3Y/3yA1nb/9hCGusWZ/bTTc3hN21H7YacwRXGXmvtW6TkSAhbyZjlHXuw483UpVCgCclskqtxx/t8N7MkIHDYeI+6XtT5yU48rNL48zpp0vGErQJAGGAUZPDDqiI0BapbZnvK90Sh435w4p0ed9r5xI1PS9aE/QBKFs6rBrSU9+4bFk1aexHUYwAmWW+t6sjB1UqZqkyZXBDz8ObzCCKUmll3yvHYgd6buquBr/784/HkocNROLRJXjiSqVKiKVAEBLdAZi4IFPqIlnfK+ujWwwEbOeGN4Nffha4K3U3YC1oc1L/cvXRzZqQWdmzAooz3iX7o7tszLWU1LHE55nasW68x3/UaOgq1vdd4DG4wNfU1VIJnv+iWcbraUqoKognC8r4KTY+Fz3ax+EVouqoiWGD0Nr3wm9DwAqVTdGtr7mXy6pshb07wZWrw2vBwC/Enw38NHLvtfrxAYbYz+RqP1b9wtxNaFQZVtk93vBj6yszcE69kQPHYwdFYiQpMl14U2NYs9pllQTn4S2NIrNANApez4Orw+rYQBYF9nyrPeVyvgBO+OIKvHnva/WJRvO3wujSjR/rkNJqCc39/wGdVWFWz8JjL8nS/GeWfBUZTAWEPNnOcb9KOvkJ92JoAQAjECy51ir13S2VQYGr1lKKPv+8RiHgwAAIABJREFU1nxk2alr/zQ6q9x6njYAgArqSbEhpERdrMsr+//see6U3AEABxOHXvQuWxNeR4BJY51RGlsRfH9rdJeF2CJK9GX/suOJ6r47GFYjQEnqjB1whVaVqHrbvxoAfIrvd11/bRFb3aw7pERe8a6gQDngAaBbDq0IvRuUw3owvBP4cKnvDQpUpapMFZ4IBqLXEKFvL3Kn3PV/XX87nDxqIpaqRO0TXU/5FX9QDb4ZWFkZO2glNoayTVJLgiaDSugvnhfapHYH6/ApgXqxYfBB2Bk5cDRx3ERMCUX8i+f5vfH9ANCleF71rUx9Ciqjh170vv5haBUPgo21xdTYE55n9kT3OhhHRI297X8vtZ6gEvyj55ljySoLYxGpfDJ5lm2dYTSB06EePEy7uwe+RCnI0pmPxlm7h2UJGAb+kcQtdEkNWy9yVpb7+sXXrFj5/hvLV1CglNJEPJmbm/3w1x4sLiroHVfEMMxtt97Ic9zaTzZu3rKd5zhRkvJyc+6567blb74TCJyZa9lqMZeVjt6w8dPdlfvGji175GsPDtOeIfR5SZLU2elxOu38RacSjSguKh8/ZtkbK1avWXfNwqsmTSw/z/MpC4XCCsO45mTnItN8A6NP3eV3cLZ7rbfl8blRNerrDhxNnphpmOqRvTujex+2PzBRV56gied8r22J7hinLesNrAGAUqoF4wO2O+2sPUmT90e+4WDtX7bdrSXaAiHvKd+LPsVnYc1O1vEV+/0aoiEADEsrI0diNGYkRgDI4TO/ar9PR3R+1f94+y9PJhuKhcLz729aqbFtu65qVUfaD4qTEbluY3fp3QOHfNWs6nQXm01uzdzfFK184LC3IeosMgLA3N+NWPtvJ169trL4+rRp381PFQKAHFcOPNPScSh884tjBwyiGqxAyC/Xle2LnrjOdDVPOAB4L7zKwdoest+jJVqRiksDyzdEthZrCnqPVbFQVG4obUx2LDYt7O0mT+Mc91hvzeFyEjQRoZHjyeoZhsndim97tPIh+90z9FNFKj7ti26N7R6nK9WfTqBM0MSRWM03HPdN0U1WqCJRWctoxuvGWDnLTP3UMt0oANgZ270zuvfv2b/N4FyU0jLdiEdbfz7XMH2kpgQA1oV2vJ73t0wukyHk0+jWQ/Hq32f+Zy6fk6DJ75/66cbwtlS1syIF+bDgKrpuPd2zh0yexEys6M2whI4O5c9/7fm/xcw+8vWe/0sSjUQhGKCHj0IwQKbddv7DG1bC91vvzhIyCZAMwfFE5/M3m69P0sTH4U3XmxfNN85hgOEIeTfw0RLLTQAQVeNzjdNvMl+rJdoSbeGvOv7UqXRmENfRRNVEXfm1pgUAIFN6JHG0UMi/yDkZJFV2sGkP2O5ysg6f4vuDp71RbB6lHcHCuW9xqGByaQqvdW75at3I1gwAOPRC2+gH0m3ZOprsCT0VUW3a5bOP0hvThYJZjoMvtXUdjeTNsjMsGXt3pmdr5K079mdn2qb8IS93qj01PFQF9fCLbaFEYszDmVkTLxAfAwAL7ELjVSxhOeASNPGd1n9vkVqy+UwA6JaDE/RjZuqns4StSdbvix/+tvMrYzSlURp72vvS9uie0Zoz9yvGacdIVDyWOLnANMfO2s+6rZNiQ22i8bfu/zSz5grduHWh7S7O4eDsABCWo3dZbsvlcxhgBJZ9wfPWNxxfHaMrdfHOkbrCxeaFA1a1LrzJr3h/lfFjA2PwKr6vN/9oc3TrFN2kVqn9Vsv1Mw1TVarKIHPAdcgdPjm4wDSrQCiQqayCOjhFhGfY+2136Rm9RKUoDT3vfa1vL3jKofixpbl/SefSCCEfR9btjBx4Nf/JHD5bpvI7ofcOx+sAIKxGTiZavu68b4ymVKHKBU4evY6ZOlVds1Z97kUYPZKZPp240iHVtnicvvehkvpa5jly9QJm7BgAAJVCIkH9fujsUjdtInm5YDGfbxPoMvrsIfLi6xYuvq7fKX77kptuX3LTWSu//tpzA0oIIQ6H7Xvf/YYoig2NzfF4oqS4SG/QDV7WaDTcc/dtN914XWNTczAUysxw5+fnEEJ+8bPH+1ZjGObH//ZoU3NLd7evuKjgM+8XQlcCSulZp3w5F71ed9uSG+fMmbFm7fqXlr6+/8DhB+6/y/KPfNVm8ZkuLp0QYmSNGZyrS+2koHbK3V45sC2+40DyIAC0SadUUCUq9/2gEkIy+TQn5wQAHdEV6XJyeLeO0QGAjbUYGE2qd1MBpUPuqBFrO5Wu+kSTRKWeBFzCjNAWpFKi9UTv4h0xNXHB1vJ6tvhG5/Zvn5z5WFHX8XCyQ86fZg/7ztzLluJKzXJPxY9yG7b5AIA20pNruh3fNhBC3OMs938wuWZt16eP1T3zettNT48dc6ubECInVJZlyxa7N9xVU+xL11kuav7KXtWJk1cb56Z2XEM0pcKoD8Nr4jSug7N8rfXK4DLcXAZDiBY0OVx2vVSvUKVFbPUrocrEvhNiFQXolLooQJIm9dATIttY25edN/+64y83WObdYLounUsbvOZGsaVAcLu5DAAghJRqRptYbb3UkIp9pxvHZ/NZqZqHEkcAlE+iG1J/qiB3yD6JSjw5+xEgHEfmzKYVFXT7Drp6jbJzN/P1rxGdBgDAmcbcdUdPPe5MKEk/WU83bAKWhZxsct+9JO0sDe4rU3Cl82mpNJXRmlEKQIvUwgIXVsJVYnVLoBkAOqSuLjkQViMAwBN2pGZE6uC7eZee0QfUYA7JtrCWbrU7QZMA1K8ENYyGASaVW3ymbedoA0uYbM6VxjkBwMAYXFxGmEZVUM8XIgMQBsZ/KWvLr2vbjwaNadr67d23vTIe4mcCuIgn2bDemzXZ2rwnICUUIkDLHn/2NCvLMfZ8w+2rJzTv8W35ed2ya/fOfqxoxn8WcBpWBpUtYcrn5ex6omHMre68GfbzT8hAAWI0Xp2saRZbwmpEpYqo9txcsrP2CdrxqSu0VqktKEe2RLfuiVdSoF1St57RSSBr4Hz3TwawsVYK0Kl0ahmtR+mmoJrYnq8dJ28pOn2tWywUilSK0ZgGzn4DgVJak2jUs7o3QytSJVqGrU823mhaPE1f8ceup/aZ991kuiGLdxMgmXzmCG3OLzv+cJvt+vmGuQN6uFNGa4tS3yo84cfrx7wX2BhVowPqTDSMcfE96Zr1icYcIT2HzwYAjnCTdBVvwccAkMm5r7XO/Gnbb26xLrrWtDB1PpwLYRjIyWa/9hCtrlU3blSfe4HctoSMKgEA0GrJ5MmkIB8AgBCwnk7xam9Xn3oGGAIaLZk5g8ycTs57jwVdTsM/3E0QhJElFxiwSQgxGg1jykafvxrLsoUF+YUF+eevhtAVjuM4m916+MhRSZIuOAFiX2lOxwP33TVrxtSlry5vam4ZO6b0wsucpiGawRnACZogwBiIwcyYAKBCP8bFpWmYft/gBEDXJ0GTAYYbtB4K6lPeF2uS9ZN04zL4tCAXCcmnTi9OUpHNP6p4Ydpmc+2JNR3h2kTaBJMxS9M3RN7zXJOiVxu3dDdu6QYApphp3OYde2+m3i4AAKdhS29yj7ohY+Ovaw690lp0lVNvEzRWfsoPcvNnOt5NHH7nKweXPDc+VfkiqVTt3XFKKUMYFVT1QqMjNMAPnmgvDgkCRE/0ZsYMAOX6Mjfn6s3NSPm2/ZGZ+unrQp/+vON3s43T7rfeOWAlFCjP9ItxNUToDZWK+6RaxtQEADEyxtQopQWmObl89gUm2SCEmIzk2kW0fLz696fpsaNk0kQAAIEnWWfJvyTzryLTpxK9HviLuvBgCQOnGyCDRCkVQeQpyFTSEZ2ZsQCAWWMp0YzggAUADcNzgyJXnvDTDRV/9Tz/LH1Bx+g6Re+tlhu0RCtRifYJjFVQz9o1yBFGy36WYCW9xFRY5jy0tC2zwmKx69JHmj0HI72veo5GAnVxIkD70SAAJPzSyY89FV/K0af1bCt3iv2+VZOPvNl24MXWsma3Y4SBB3bk1a6p/5UPQfWjB47fsbo8bdTAyaD6Opo49vfuF0doC0doCtIE53ao7H3JwZlNbM+ySZpgCGNgjEbGAACTDdZMPkM4x3XRueTz+TdY5v2m48/TjBWdkucG87wSfkTqJcM/8rlWQRWpTCik3lwAWGK7Po/P4Qi3xHLTOF3pmtDG33X9Zaph/K3mmyys+fH0H+yJV34S2vp+YM2d1luvNs4bcNnQ9wKPJzwAHTxTciZ/Zt4SkYo5mjN/9n7cGMJ8x/HIXMPMj0Mbf9n5+9nGqfda74DzYxgyeiRTVEDXb6SHD5NUvhzDgMN+lk9HhovcegvJdBPMP77yDH+IjBAagGGYvNzsTZu3Hjl2Ysa0Kf/o4jarlWO5SGRgl0lfGhAUUJQLza7v4pxaRpihnzpG+w9E24NF1Mja0NbHXd+cY5gFAHXeZz7P2lLMGdpR16Vv++VJW7F+zJ2ZGuOZb7NkRNr5h4Y5jxdNeLBn4O+pfcH1/17dfTSSM9vW+1PKMCRnirV+Q3fcL+ltAiFAWGJwaK75f6OX37lv158bZ/9H0YAJbvvSMBoVqESlVKJFibawWWxXqMISVgW1VTplYa3a/qO7NESjUkWi0vnHI2bzWVoiVGjHT9FPOk+1cu24Us3o3bHKX7Q/sdA4jyUsA2wCevrgc4WsVcH1MRpPjd/vkru6pWC2cJb4tURbvDd6Yp5hdib3D89PTNKcoNOBZ1Dm5QA6LbEMHBl5Hh1id0JN6BgtANQmTyogZXNZCVXUMfoRQtFVxoudnVAgQp4ma6KuwsgYMs3udDadEEKAACVhJaZSNTWkz68EL75tF2Pu34pXff2Y90Ss5NaB/eVHVpwa8yX3nMeLe+Y8rouufuRY5/FQwdwz3ZOEAUeBMdEuJ4MyABAgDBCGJVf9piTsPbrtj/WL/ndU7zTJg30QWp3Bu7/t+JqW0XbKXZFz3JbJ5Nwaws3UTxupGfGZ95QjrJ7Rj9eXlWvHWQzmAiH/glMOC4SPD2oSS9hsPn13vHWJ+aYBE8kxhCnRlBQ7i/fFDy71L5+knWjRmXWMdq5h9mTdxNXhj5f53p2ir7Cw/U6wk8kzQxpqknV2znz+yRDdQkZl4JBIxdSAxcb+IyLGaseM1JR8Gt3+fPfr15sWDdjWWRGepw47NDWDfN7cDJYlJhPGx1cmzApH6Eo0oriorHT08jdXvv/hmoaGpta2U/v2HzxZ35h6NRaPV1XX9v6TJHnX7r1Hj57wdHvrG5o2bPo0HIk4nWfPHUwp5ouiaqhWPBlTB84f11c6l5Yn5HwQ+rhJau6SPdtiO44nT1xkKmdfGqJ18uYuxdspd62LbtweqbzwMhdh4g9z2/YGYwExo9yUmtMtpXZDd7Q5WXZ7pqDnUv+co4z20frmvf7uusjeV5o7joe8jdHjqzu2f7/emW4wpveLNtJGGBf/vuz4c+0Na73nGZ41WjMqQWNHksfialyl6gLDvOpkza7YnqgaO5w8ujmybaJubN+kbQAYK4wJqaETYnVcjZ9nzRlsep4m+6PQhjqxvkv2bIttP5440XeUZEAJro9u9Cq+JE2E1KACCsMwNsaWztm3RXfE1JhIxbGasjTO/oLvlU6565TU/pzv1WJtzmhh1ODNzdPN0TLsu8HVbfKpZrF5c2xrVbLmPIdd3bOX1tTSbi9ta1M3bwG/nxSdzh0Xk7Spufff2UfsXYSQEn0tsNwjd7dILRtC28v1o9LYNDfnGqcb/VbgvcOJwx7ZcyB+aEts6/nX45G726VOr+L1K/4OuSNBEwDAEz6NS98e210n1jeIje8FVzeJrZ+tneeSN93BaImvOZo1uV/qcNSbaNrmK16UpjXzqTMzfZTJVWg69OopOansfbm5Zb8/2BY/ual797NNhnzB4O7Xja0x8rMeL/SdjFav7lKVc54/eZrcgBz0Kb4jyaPPeF8Ccvaa2bw7nUv7KLSuUWrqkDu3xrbXinWf4XlyB2JHQkrYp/o6lS6v4rtg/RJtwZ7oQY/skajUd3MLzHM6Rd+ywFvtcnuD2LgusqFNagsowYOJQx1ypwRSjEZFVSRAOpWu3fHKsBqO0URACVKggydgqU40rgl/ElCCRxJHPw5sucW28PzXpTP100JydEXgPY/cvTO26+3AB6lyr+LbFdvtU/xJNRlWwuK5E5AAgPoD6p5K2naKBgL0yFF68BDJyoTUg4RVBbq6znw6/H5Q8dF9VzrsRUboSqTVar7y5Xs3b8lZ8c4Hy5a9BYQ4Hfa77ri1qDAfABoam/7r5//bW/mpv/6+uqb2k3WbRVEEgEy3+4EH7iouKjxPd46Ds001lv/7qf8xsfoVeS+eq5qNtX7X+ZW/dD93Z8M3VaBW1vj9tK+NFM45kOtcBCLcZ7vtme7X/q/j2bH6op9n/Ptrvrf/0ZUM5hplLpjjyEg32/vMkEUB9v68qfy7OX2npDCmaQrGOQ6+3ZY31775wRo/9EzFMOnhvP/f3n1Hx1GdCwC/d2Z3yvauVW8rraqxJHdbttxtOoQSOJQk4IQYSB4JIeGQ5BFKXkLJObSXFxIIhAAJAUKJK5Zc5G5ZlixZtiwXyeptVbZPu++PxULNslywkP39/pJmZ+7O3p2Z/ebOd+9d+ox7cAt0RHKRderP4ra/etyWq7WkDB9+K8JGW1ca5z/R8nsTrftT3Is5XNYtputf6vpLfbjNQGsftN+1VLdw2K+yQ2Wfp8//afNTDpXlzfiXz/S5DLT+Ydv9r3e/fU/Dj0UiG2ntTxz3D+4/JyP5ja73joVfUGM6m099KvanUbQDIXSjadkfu95afOz2ey03P2D77jPRTzzd8fvb638gEKlIX/CHmGcGD4M9wKwyPR39+O/aX/pb9ycKUhIY5yOO+xA647dMTp0i/9z95Sx6Niv13Xtx+ulmyJY25aVXBtakHnsUW8a6VTuTAm02RzG3nVwlEmWmLucJ+6M0pmlMr7Lc89fed37c+GSIiCxW32BevEBTeKZCFKJoaY1H6v+sdz2NKY/kVYjyYuxTqWzytcZlz7W/8p2GR9SIvsW8fLZ2rNb686BiqOw7onuOBSwpQyp835uNPMMkzvuqTmiGSr/b8dGdFQt/k37gzaaG0m6CEEbIlW1f+a9sY+zwXAVnrmHa3QklD9elLrIb40fPwrpef21loPrO+gcZrPpFzGq72jzqalaV9WH7fS93vn7XyR/JSLGo9I86HkhVn6Wn7DBBJZjGJ23s235KaBSI1BBqm2fI/++ox8fYZIl+4YHgwRtPfO9a49IHbd8dWJ7Jul9LePbZthf/1Pk+QSiBsT8b/YQKqz/r3bCxf4eCSAaf8G3zTS4uuUvueq7t1RbRo6GYWbrcx6J+qKeGZ5487nx4Xf+mZ1tfVWPVPfab7jTePvYHiVPHvhj/5BPNv32l850YtfXpmJ+/0P6/CCGBCG92vV8VOs5gVQ6f+pOo7496Ep2ujiAp2UI6OhBCSK1CM6bjhQswyxJBQP4g+fTzgZsVXLQArVg+9i6BCYcnZCBhn99PYYrnuW/6tKsAXCrNLa1vvf3egvlz3W6XyWhUn07ZJISEQiGEMMexY5wvhBBRFH3+AKtWa0+Ph+jz+fu93uLibQih22+7kRnRC8Sv+ClE8+OYazekhPzEr6cM55qqOJhABJnIHD7nE/8506bpjyXk3R2ntbFqfqymoPEgCgn1S1JY1pgZmjnLk7RgnxjuE8veOuVvE1Y8n8UOnV2PEBIiIQURDeYHZmfoV7xGynCmz0gICZAgRpgfRz2ElJCfBAxYPyyrOMIrexHCOko7rByP7DFQhsjTakKIQAQFKWetdkKIV/EpSDFQ+mFtcsTnU177I168ELtcSKPBDIMkiQSDiKYxz6PzuowTQUB+PykrJ7t2079+YvBLJb5tJb4tv3Q8RiM6TAQtpRk+5C1RepU+DeZZPNZJ0Sg0v9L9f3ebb89hszHGISX0P+0vJ3Mx3zHfhb78pvo1lPZCDulPflAZqhdX/DmLM6sjQ3RfCKIQwS+FfJLGxJz1OBdDsr8jfPTDjtp1Hd/6x1SNdcjZTQgJkuCoHQxGCiqhoBLQ0/ox2kdHJRP5xc7XtDT7fct9kXSjY8LxHzX+9yvxT6WebVAan+JjEMNQwy9KhBA/CShE1lG6gdlG/CQgEtFMf9UkLxPZp/h4zI8sYXBRIRKiEMVgZpzXHIUokXobluzhVbyYYO2Icw0hpBw4QPZXUCuXIYMB6/WRcQ9JWMA6LTrf2c1ITy/y9itrN1BF83GG+/wKARduYlqRddrRW2UAuGKpaJrX8Lv2lFUdOvytG68dmHgSY8zzZ+/1gjFmGMYyNAiuqKw+WFXd1eXJzc0a9RdCS433TOQojkPn0HFwVAxmzm+iZVMa37Cpu78xOHN1sjP3QkdEwhTmTWqExhUNnNzWfeSTtr6GYNxM88gqxBgPS6WgMGUaM08RY3zWyW8HjF3tA/2uhhk8PhfGeNT+/qPumOEMBSKMkdFIqqpJUws1LR/FxSGVCuvH6jF2dp1dyo6dqLcXmUYZxYxghBBSU2r1aF8ThanIvDNjExTBKwckIitIIYQ0S60B4o8MWYC+/KbOPoDa2Hg7017WX/Kbo7l3xKQtcZx9gzFhCrN6NTu+UNtTH9jx/HF/S5h3MpgefmhijDXjPsx4ihvPffJIEpG6pT6zKj6oBFWUzqf4joVOWGi9kTp7qq7uDJnBGGMd1o69BCFEY/qsCcEjT8+zojClHfFeCKGRrdRfYVjk9ylbS3F0NF64AFEU4nk8jov2GJTiEhQOI1EYZ/dW8DWZmFZkAMAwoih2dXnCQhghFO2MGmNU4/HzeHr6vV6EkMFgMJmM1KR9aNNR45VDCqaxKZkfY8a7r4O3LeRrCSOENHZGH8NRI2KRK4Isk+5uJEqIopDJeIE//xEkFEIeDyII0TR2Rg1+qcS3rdi/5Vf2x7jzitsG+BTfB70f7/JXcIgnSGFoOl+Te73+6jPeCZy7vqZgoENACBniOe2Yc81cdGGf5DnqRwgxRpU5kadUE9CziBCyN7j/vZ5/BWSZx6yMJAdjuka/Ip+/aozZGS8zJBhEnh6EEGJZPGi24Asqs6UVEYIwRhYzPpdBjcDFBSEyAACAb5CAEgiQoIUyX5QwSyKSR+7RUlrtGCmk4ML4lUBQCRppoxpDBydw+YAQGQAAAAAAgCGulEchAAAAAAAAjBOEyAAAAAAAAAwBITIAVwqTybR69eqJ3gswOaxevdo02lgTX7eqqiqTybRmzZpL/9YAjN/jjz8+IScIuJQgRAbgStHX1xcIjDWXHgADAoFAX99FnpZ5PGRZ7uvrE0Xx0r81AOMXDAYn5AQBlxKEyAAAAAAAAAwBITIAAAAAAABDQIgMAAAAAADAEDAuMgBXilHnoAZgDJf+B6KioiIvL+8SvykA5wciqMsbTIQDwJXi3nvvnehdAOAsLBYLHKgAgG8CaEUGAAAAAABgCGhFBgBMSoqiHDt+sqmp2WIxp6Yk63TaSZdJEgyFGhqa4uNitFrNRO8LmBiEkOaW1mPHTrAs40pNtVrNFDVp+gh1e3qampoVWaFp2mDQR0U5eJ6b6J0C4KKBEBkAMPkEAsH33v+wdMcug14fFsVwKPTwg6umFZxzDquiKC0tbRzH2WyWr2M/x3biRP2Lf3jtoQfvz5s6ZdLF9+DCSZJcsnnbB//6hGVZhJHX67vummU33HANo1afa1Hd3T39Xm9yUsLXsZ9ncvDgoXfe/SfLskQhoVCQ47hv3/6tBfPnwMEMLg8QIgMAJp/ao8cO1x59/OePZLjTwoLQ2trujHJEXiKEBIOhQCCg0Wh4nov8WofDAsaIoiifz08I0em0arUaIeT1+tZt2JSbk8WwDM+xkYVhQfD7/AzDaDR8pElPkiRJkhlG7fcHBEHQarUsywzEAbKsBAKBcDis0fA8z2OMCSGiKPr9AbVardNpz/Qpdu7aa7NZqg8dyc3JVqvhanzF8fp8JZtLb731hsWLFlAU1dHeyTDqSHxMCBEE0e/3Mwyj1WoiB5soipIkswzjDwQEQdDptCzLIoQkUdrwRbFazVitFpZRRxaKouTz+zFCep2OVtGRMgOBIM9z4XDYHwjyHKfR8AOHsaIowVAoGAwyDKvTaiJHvizLXp8PI6zTaWmaHvkRsjLcDz/0fYZRB4OhTz9b+9e338vLm2I06C9VFQLwNYKLMgBgEiLEbDJFO6MQQizDJCXGRxaLknTw4KHde8oEIczz/Ly5szMz0miaLtt/oL/fGwqFGhubw4LgcqUsKio0GPSffrb2QMXBri7PwaqaxQsLU1KSGhoaN2/Z3tPbq1KpCvKnFuRfxXFsc0trZWW1SqWqqzshSqLZbF6xfFFMtBNj3Nvbt3PX3qN1xxVFsVotK5YvjnLYW9vaN2wo7unto2kqL2/K3NkzR4YX3d2eo3XHly0p2rWnzO/3m0zGS12HYMIRwmu4mGiniqYRQk7nV7d5jU3NxSXbenv7EEHTp+fNmFHAqNV1x05UVlY7nY5Dh2r9Ab/Nalm6dGF8XOz6jcXbd+wxm4w9Pb35ebkF+VM9nt7NW0qbmpslSU5LTS0qmms0GhRF+eDDT9JcKYcOHfH6fBzHLZg/Jzsrg6IoURT37is/UFElCIJarV6yZEGmO72np3ft+i/a2zsoik5NTVq5fIlKNXrMgDHWaHi327WpeKssSpeuAgH4OtFPPvnkRO8DAACcI4z27z/Q0NiYmJig0fADi0+eqP/o35/n5mYVLZjX4+ndsXN3erpLr9NtLd1ZXLItNjZm0cJCu9VWXLLVZDLGxkbzPH/8eMPcOTNmz5zmcNj6vb5/fPCxQa9btmwRTVNfFG+Jjo6KctgbTzW/+da7RqNh4YLCDLer8mB1a2t7Tk6WLMsbvyg5WFVzzcpleVNzY2OcFrMZEfzcC6+YjMZtS2MBAAAJe0lEQVSlS4q0Ws37//woyuGIi40Z9gk+X7NBEMVbbr6horJaFEVXavKlrUHwDYDRiRP1VVU18fGxJuNX90jhsPD6G3/T6bVLlyzU6bRr12902G3RzqiaI7UffvSZVqspLJydnZmxe29ZW1tHbk6WxWKuqalNT3ctW1IUHeNUqVSffr62va1j+fIlKSmJm7fuCAtCakoSxviFP7wWDIZmz5o+c0ZBW3t72f6KzMx0rUZzpLbuo48/nztn1tw5MxIT4q0WM8swb7z5jsfTc/XKpbEx0es3FsuKkuZKGbz79fWnmltaCvKnKIrS1eXZvHW73W6dXwiJFuAyMWm6BQAAwIBoZ9Ttt9504lj9o4/96o233m1tbVcURZbl/eWVdpt19szpUQ77zBkFPp+/paUVIYQISU5KuHrFkpTkpKlTc9zpaU1NzZIkRzujOI612axxcTE8z5861djV1b1wYWFsjHN6QZ7NYinbVx55R6vVcvXKpVlZ6W53WkH+VS0trYos9/b0VlZVL11SlJXlTkiIc7lSdDrtth07m5qbr7tuRVJSwpzZM5xOZ2nprmFjBwWDoU0lW+fNmcGyzJQpWRu+KJFl5dJXI5hYPMddf91KFa365a9/+7vnXzpSWyfJMkKooqKqo6NrUVFhQnzs7FnTrBZLTU2tJEkIIZ1Oe+3Vy3KyM91u1/Kli9vaOnw+nzPKwXGcyWiIi4sxGgzhsLBv34HZs2ekJie601wzp+dXVdX09fUjhDQaft68WbNmTktMjF9UND/gD/T3exFCn6/ZkJOdWThvVnx8XHq6y263HTlad+jwkTvvuCXNlZKbk5nhTv/44/+MHAKr+tCRHz706KoHHvnZL35NYeqeu74N8TG4bECiBQBgUnK70555+okDFQdLd+x++bXXV913d1xsbHtHZ7fH8+9P/4MQFkURY+zzBSLrGw0GjUaDEFKp1Uajvr/fO+z3XlGUHk9vIBBcu+4LtVqNEOnz9g/00DebTDz35d9arRZjihAkiCIh2Gg0DA4LGhubGJZZt35T5F+MEcFEluXBD6nL9h/w+3zNzW3/WbOht7e/tbW9vLxy+nSYMuOK44xy/NePHzh69NiO3Xvf/Ovfr756WeHcWfUNp4LBYMmWUowwQigUCiuEhMMCQohhGYvly66lUU57JEt+WJkej8fn8+8tK685XIsQ6u/vp2lalmWEEMdxVos5sppardJoNLKkIIQ6OjpnTM8ffBh3e3oomi4u2Rb5t6Ozi6IpUZKGdSXMcLvuvfsOlVrl9/n37N3/++df+ukjD1qtE9D5FYCLDkJkAMBkpVKppk/LT09zvf6Xt/eXV8bFxhJCDAZ9mis1kvubm5OVeDpNWaWiafosz80IQizLpKQkaTUahFCGO30gRVitVo0yGhdBghAWpSHJl4QgRFBaWgpN0QihDHeaTq/Dg7YNhcLlFVX5+VND4XAoHMYUTk9PLdmyLT9/yqg9osDljabpzEx3erprzbqNVVWHCvKuIoSwDJOclMixLEIow51mt1sZhkEIUZg6a89OQhCtouNiop3OqMgSrVaj1+sRQjRFqUfLJ5ZlJRQKDStFkRWXK1lFqyL7MH/e7JGnAKNmbDYryzLIYbdYzaU7du8rK1+xfMn5VQUA3ygQIgMAJjeOYxmG8fT00DQVE+OsbziVm5NlGF+feowRReHII2yKoqwWsyhKmRnpMdHO8WzOsAwiqLOjU8nKoE63wKUkJ27Zuj02OjrpDCNwnaxv6OzofOjBVbbTjW31DY3PPf9Sw6nGlOSk8bwvuPxgjPV6vdfrkyTJ5UreuXtvbIwzzZU6zs0ZRh0WhMjfFouZZRi73TZr5rTB60QakkcV7XScamiSZFl1+ibNYbdhjE1GY0525jj3we8LSJIUCoXHuT4A33AQIgMAJhlZlquqDrW2tbvd6Rjj7Tt2Ha6tW/W9u2mazp86Zc/e/es2bFpYVNjV2X3s+IlZM6c5HPYzFcUwrM1qra4+nJmRRtF0cnJilNPx93c/uO3WGwkh1dU1qa6UrAz3mTY3m035eVPWrt9ks1qtNktTU3Nqasr8wjlr1m167x8f3nbrTYig2qN1dpt1xoyCyCaKotTU1EZFOSxm80DqhSs1OSEhfv/+SgiRrygtLa3bd+6Zkput02mrqms2btoyZ9Z0nU47JTc7ymH/9PP1N994LUb48JHahIS4sUPV7KyMffsOtM5uN5mNHMfNmT1jzdqNer3O6Yyqrq5hOXZ6Qd4YzyhuvOGal1/905Yt23NyMk+erLfb7W53mjs97fU/v73q/ntMRmNd3XFBFFcsXzxsQ38wUFd3HFPUqcbG0tJdiqwsLCq8OLUDwESDES0AAJNPd3dP6Y7du3fv219eISvKzTdcMyU3m6Zpk9mUmBBfUVFVvHlb9aHDNE1nZbk1Gk17e6dGo0lLS8UYI0K6uz0My6QkJzIMYzQYqqtr1m0otlktKclJ7jRXS0trccm2svLKQCCY4U63WS1+v9/r82VmpLMsgxDq93qDgWBOdgajVicmxCOMi0tK9+4rVxTFlZqs0+lmz5jW1NKyZcv28gOVfV5vRkb6wLDNfn+gtrZu6tSc2NjowamfPM91dXlcqcnqc582AkxS4ZCwfdeePXvK9uwrb2/vLJw7a8miBTzP0TSdnZ3Z3Nxasrm0rLwiEAi63Wk2m7W3r9/v908ryIscOaFQuLOrOyc7g+c5m9Xa2NRcXLJVkeX0dFdSUoIoipu3bN++Y3d7e0diQnx8XBzG+PiJk7m5WUaDASEkiGJHZ5fLlWw0GEwmo91u27Fz7/btu3r7+pOTEhx2W/7U3FA4vLV05569+1vb29PSUhMT4gfvf29v3/HjJ6sO1dTU1HZ1daemJt/3vbvsNuvE1CYAFxse2UEVAAC++WRFCYfChBCe50amSAYCQYrCLMuOp3+9LMuhcDiSfxwhiqIoihw3SsmjkiRJFKXBs+8SQgRBkBWF4zgK+viDM1AURRAESZIH5qkZLBQKK4o8zuMwUpSaYejTK0uSFAyFeI4703jGw8iyHBYEDf/VKIqEEEmSBVFgWVYFifLgCgMhMgAAAAAAAEPAuMgAAAAAAAAMASEyAAAAAAAAQ0CIDAAAAAAAwBAQIgMAAAAAADAEhMgAAAAAAAAMASEyAAAAAAAAQ0CIDAAAAAAAwBAQIgMAAAAAADAEhMgAAAAAAAAMASEyAAAAAAAAQ0CIDAAAAAAAwBD/D8t/T4xNsTWWAAAAAElFTkSuQmCC)"
      ],
      "metadata": {
        "id": "O3TNW0_IxMAh"
      }
    },
    {
      "cell_type": "markdown",
      "source": [
        "You may have noticed the [CLS] token in the figure, it is basically added to the beginning of each sequence (or pair of sequences) and is given the responsibility of sequence level classification. That’s why we used the embeddings of [CLS] token to predict if sentence A comes before B in the next sentence prediction task.\n",
        "\n",
        "After BERT is trained on these 2 tasks, the learned model can be then used as a feature extractor for different NLP problems, where we can either keep the learned weights fixed and just learn the newly added task-specific layers or fine-tune the pre-trained layers too."
      ],
      "metadata": {
        "id": "Dhxg9Q96x1ZA"
      }
    },
    {
      "cell_type": "code",
      "source": [
        "import torch\n",
        "from torch.utils.data import DataLoader\n",
        "\n",
        "from transformers import BertModel, BertTokenizer\n",
        "\n",
        "def to_tensors(x):\n",
        "    return (torch.tensor(x['input_ids']), torch.tensor(x['attention_mask']), torch.tensor(x['label']))\n",
        "\n",
        "small_train_dataset_tensors = [to_tensors(x) for x in small_train_dataset]\n",
        "small_eval_dataset_tensors = [to_tensors(x) for x in small_eval_dataset]\n",
        "\n",
        "train_loader = DataLoader(small_train_dataset_tensors, batch_size=64)\n",
        "val_loader = DataLoader(small_eval_dataset_tensors, batch_size=64)"
      ],
      "metadata": {
        "id": "M4GiSkL_1Rsj"
      },
      "execution_count": 9,
      "outputs": []
    },
    {
      "cell_type": "code",
      "source": [
        "import torch\n",
        "import torch.nn as nn\n",
        "from transformers import BertModel\n",
        "\n",
        "class SentimentClassifier(nn.Module):\n",
        "\n",
        "    def __init__(self, freeze_bert = True):\n",
        "        super(SentimentClassifier, self).__init__()\n",
        "        #Instantiating BERT model object \n",
        "        self.bert_layer = BertModel.from_pretrained('bert-base-uncased')\n",
        "        \n",
        "        #Freeze bert layers\n",
        "        if freeze_bert:\n",
        "            for p in self.bert_layer.parameters():\n",
        "                #TODO: freeze bert training weights\n",
        "                p.requires_grad = False\n",
        "\n",
        "        #Classification layer\n",
        "        self.cls_layer = nn.Linear(768, 1)\n",
        "\n",
        "    def forward(self, seq, attn_masks):\n",
        "        '''\n",
        "        Inputs:\n",
        "            -seq : Tensor of shape [B, T] containing token ids of sequences\n",
        "            -attn_masks : Tensor of shape [B, T] containing attention masks to be used to avoid contibution of PAD tokens\n",
        "        '''\n",
        "\n",
        "        #Feeding the input to BERT model to obtain contextualized representations\n",
        "        output = self.bert_layer(seq, attention_mask=attn_masks)\n",
        "        # task: get last hidden state from output\n",
        "        cont_reps = output.last_hidden_state\n",
        "        \n",
        "        #Obtaining the representation of [CLS] head\n",
        "        cls_rep = cont_reps[:, 0]\n",
        "\n",
        "        #Feeding cls_rep to the classifier layer\n",
        "        logits = self.cls_layer(cls_rep)\n",
        "\n",
        "        return logits"
      ],
      "metadata": {
        "id": "T9PUCfqn1SzU"
      },
      "execution_count": 10,
      "outputs": []
    },
    {
      "cell_type": "code",
      "source": [
        "net = SentimentClassifier(freeze_bert=True)"
      ],
      "metadata": {
        "colab": {
          "base_uri": "https://localhost:8080/"
        },
        "id": "o9FM75291fze",
        "outputId": "e2856cd1-13f8-4eab-fbae-8d097ad12be4"
      },
      "execution_count": 11,
      "outputs": [
        {
          "output_type": "stream",
          "name": "stderr",
          "text": [
            "Some weights of the model checkpoint at bert-base-uncased were not used when initializing BertModel: ['cls.predictions.bias', 'cls.predictions.decoder.weight', 'cls.seq_relationship.weight', 'cls.predictions.transform.dense.weight', 'cls.predictions.transform.dense.bias', 'cls.seq_relationship.bias', 'cls.predictions.transform.LayerNorm.weight', 'cls.predictions.transform.LayerNorm.bias']\n",
            "- This IS expected if you are initializing BertModel from the checkpoint of a model trained on another task or with another architecture (e.g. initializing a BertForSequenceClassification model from a BertForPreTraining model).\n",
            "- This IS NOT expected if you are initializing BertModel from the checkpoint of a model that you expect to be exactly identical (initializing a BertForSequenceClassification model from a BertForSequenceClassification model).\n"
          ]
        }
      ]
    },
    {
      "cell_type": "code",
      "source": [
        "import torch.nn as nn\n",
        "import torch.optim as optim\n",
        "\n",
        "criterion = nn.BCEWithLogitsLoss()\n",
        "optimizer = optim.Adam(net.parameters(), lr=2e-5)"
      ],
      "metadata": {
        "id": "RPAsTWhf1hoY"
      },
      "execution_count": 12,
      "outputs": []
    },
    {
      "cell_type": "code",
      "source": [
        "def get_accuracy_from_logits(logits, labels):\n",
        "    #Get a tensor of shape [B, 1, 1] with probabilities that the sentiment is positive\n",
        "    probs = torch.sigmoid(logits.unsqueeze(-1))\n",
        "    #Convert probabilities to predictions, 1 being positive and 0 being negative\n",
        "    soft_probs = (probs > 0.5).long()\n",
        "    #Check which predictions are the same as the ground truth and calculate the accuracy\n",
        "    acc = (soft_probs.squeeze() == labels).float().mean()\n",
        "    return acc"
      ],
      "metadata": {
        "id": "F8IWCm768FBn"
      },
      "execution_count": 13,
      "outputs": []
    },
    {
      "cell_type": "code",
      "source": [
        "from tqdm.notebook import tqdm\n",
        "\n",
        "device = torch.device(\"cuda\" if torch.cuda.is_available() else \"cpu\")\n",
        "\n",
        "\n",
        "def train(net, criterion, optimizer, train_loader, val_loader):\n",
        "    net = net.to(device)\n",
        "    net.train()\n",
        "\n",
        "    for epoch in range(5):\n",
        "        for iteration, (seq, attn_masks, labels) in enumerate(tqdm((train_loader))):\n",
        "            optimizer.zero_grad()\n",
        "            seq, attn_masks, labels = seq.to(device), attn_masks.to(device), labels.to(device)\n",
        "\n",
        "            logits = net(seq,attn_masks) # task: model forward pass\n",
        "            loss = criterion(logits.squeeze(-1), labels.float())\n",
        "            loss.backward()\n",
        "            optimizer.step()\n",
        "\n",
        "        acc = get_accuracy_from_logits(logits, labels)\n",
        "        print(\"Iteration {} of epoch {} complete. Loss : {} Accuracy : {}\".format(iteration + 1, epoch + 1, loss.item(), acc))"
      ],
      "metadata": {
        "id": "cCFfU_x_1l5k"
      },
      "execution_count": 14,
      "outputs": []
    },
    {
      "cell_type": "code",
      "source": [
        "train(net, criterion, optimizer, train_loader, val_loader)"
      ],
      "metadata": {
        "colab": {
          "base_uri": "https://localhost:8080/",
          "height": 264,
          "referenced_widgets": [
            "8190e9e562d540819ec640dd0f809ded",
            "bf92b52500c940eca66a65e232f0ec32",
            "f2e0a3be1c744368a620ddb5850fff84",
            "90db579d31ad481fabbdf47220267cc3",
            "dbb820fca35d4efcb98ebdd77931f3c1",
            "9906b2aaa1774314a5b6adf4a63ccf7d",
            "6501b1bd87df4441a7918d7c5a0bd1ef",
            "fb2865096c6841a185094fcd4d47a4dc",
            "ebab0f32cace45b1823bac3796d86669",
            "09fae49193704dbf85e9ad9cb2d2a3cf",
            "3f2dd96856fc47d7b53105dd58708dd1",
            "2f6baf7fad7a45fd9dd302e8b893b098",
            "5abea1ad84fa436abb33df34e2475e7d",
            "a75b55dd6a18402b86b0df2c3d9ec5f6",
            "ec02fd39e935435199f17d92f7c8adea",
            "0895a26bc013466382e150908723b30c",
            "50a5d40a313a404da35728c36d2946be",
            "7cc3e043b15a48ffa8afc3822f427ec6",
            "914acee00b6b4697bbc43072d0fee792",
            "9a155a571ccd41e499fd63076cce5df4",
            "99c9cb4c33cc4c0f97d1cab081e2727c",
            "dfb875d4db714f1fbc366e893f487260",
            "27219391f36940b487fed64b90a2720a",
            "932fb3de275f4b939847b25d3018e818",
            "6fa7a598ab76485bb22ec2d198adee2d",
            "dc6175f5ad8a4b54b137688423e634ee",
            "7645eba65bf94c29b8165f812a5e4cae",
            "5c26f2d0ce8b4cd2aecb55b9a5083113",
            "ead8aadda2174a738ae968c4920545de",
            "ff31b05013aa40d5a216ff46a0aee33e",
            "16db37d8f4894eedb3337f10405160b6",
            "68bbf68d52744681a2d166a05fa7fe66",
            "037bc82667af4a7a8377d8deb3ab55a3",
            "4b2154864c4f4031ba9f898c7c37b0af",
            "0f81579f79b041d0a45361d1686bbbee",
            "b6f88c184dda4409b3da8dc54e7e8f49",
            "30626985c7f141e6a12b2ede5a15ef66",
            "a351bd866e2d4e08b999de7325de0e43",
            "a9cbd7c627254ee4ab2d3e2a1d7f5431",
            "99082d1e625f488784d77c3c52ac06ce",
            "092bae6894444a0b8fb9923062d806ef",
            "b8ac48d4c2ba47caa13078671145f362",
            "2a38160e9cd14caba8c5a7cdeee57e2d",
            "8608f510c03b4a9da031ced24ec64dfa",
            "9fc6736191b74f92b0683f59a9196fa1",
            "ca73416aa9df49609369f7401c9bf05c",
            "d13a1d56fda9427580e23be78a6569de",
            "09911d3d4f7d46dcb7970a061e548929",
            "43c6051c1ce04519bddc18ec1cca2b55",
            "c0499fd35409469d9e1d43b1765d06ee",
            "ee5ab82f0d8044829ab748820f2ca9c7",
            "8d431d6f06b341f7be6f54186ec6a8d1",
            "380889b07c0e41b3b74fdc17efdd4475",
            "aa238ccd1341456993ec571a7d2b23c3",
            "c712566069bc484280e186826057148c"
          ]
        },
        "id": "_9uROVdG7wG4",
        "outputId": "5119ce3f-fdeb-4536-f88e-0118cab42c0e"
      },
      "execution_count": 15,
      "outputs": [
        {
          "output_type": "display_data",
          "data": {
            "text/plain": [
              "  0%|          | 0/16 [00:00<?, ?it/s]"
            ],
            "application/vnd.jupyter.widget-view+json": {
              "version_major": 2,
              "version_minor": 0,
              "model_id": "8190e9e562d540819ec640dd0f809ded"
            }
          },
          "metadata": {}
        },
        {
          "output_type": "stream",
          "name": "stdout",
          "text": [
            "Iteration 16 of epoch 1 complete. Loss : 0.7085825800895691 Accuracy : 0.4000000059604645\n"
          ]
        },
        {
          "output_type": "display_data",
          "data": {
            "text/plain": [
              "  0%|          | 0/16 [00:00<?, ?it/s]"
            ],
            "application/vnd.jupyter.widget-view+json": {
              "version_major": 2,
              "version_minor": 0,
              "model_id": "2f6baf7fad7a45fd9dd302e8b893b098"
            }
          },
          "metadata": {}
        },
        {
          "output_type": "stream",
          "name": "stdout",
          "text": [
            "Iteration 16 of epoch 2 complete. Loss : 0.6974217295646667 Accuracy : 0.42500001192092896\n"
          ]
        },
        {
          "output_type": "display_data",
          "data": {
            "text/plain": [
              "  0%|          | 0/16 [00:00<?, ?it/s]"
            ],
            "application/vnd.jupyter.widget-view+json": {
              "version_major": 2,
              "version_minor": 0,
              "model_id": "27219391f36940b487fed64b90a2720a"
            }
          },
          "metadata": {}
        },
        {
          "output_type": "stream",
          "name": "stdout",
          "text": [
            "Iteration 16 of epoch 3 complete. Loss : 0.7035335898399353 Accuracy : 0.32500001788139343\n"
          ]
        },
        {
          "output_type": "display_data",
          "data": {
            "text/plain": [
              "  0%|          | 0/16 [00:00<?, ?it/s]"
            ],
            "application/vnd.jupyter.widget-view+json": {
              "version_major": 2,
              "version_minor": 0,
              "model_id": "4b2154864c4f4031ba9f898c7c37b0af"
            }
          },
          "metadata": {}
        },
        {
          "output_type": "stream",
          "name": "stdout",
          "text": [
            "Iteration 16 of epoch 4 complete. Loss : 0.6926196217536926 Accuracy : 0.4749999940395355\n"
          ]
        },
        {
          "output_type": "display_data",
          "data": {
            "text/plain": [
              "  0%|          | 0/16 [00:00<?, ?it/s]"
            ],
            "application/vnd.jupyter.widget-view+json": {
              "version_major": 2,
              "version_minor": 0,
              "model_id": "9fc6736191b74f92b0683f59a9196fa1"
            }
          },
          "metadata": {}
        },
        {
          "output_type": "stream",
          "name": "stdout",
          "text": [
            "Iteration 16 of epoch 5 complete. Loss : 0.7037178874015808 Accuracy : 0.3499999940395355\n"
          ]
        }
      ]
    },
    {
      "cell_type": "code",
      "source": [
        "from datasets import load_metric\n",
        "\n",
        "metric = load_metric(\"accuracy\")\n",
        "net.eval()\n",
        "\n",
        "for seq, attn_masks, labels in val_loader:\n",
        "    seq, attn_masks, labels = seq.to(device), attn_masks.to(device), labels.to(device)\n",
        "    with torch.no_grad():\n",
        "        logits = net(seq, attn_masks)\n",
        "\n",
        "    predictions = torch.argmax(logits, dim=-1)\n",
        "    metric.add_batch(predictions=predictions, references=labels)  # task: fill parameters\n",
        "\n",
        "metric.compute()"
      ],
      "metadata": {
        "colab": {
          "base_uri": "https://localhost:8080/"
        },
        "id": "RQTwUmfbBpRQ",
        "outputId": "c1005490-094d-4e5e-8d39-cfaa7a20626c"
      },
      "execution_count": 18,
      "outputs": [
        {
          "output_type": "execute_result",
          "data": {
            "text/plain": [
              "{'accuracy': 0.512}"
            ]
          },
          "metadata": {},
          "execution_count": 18
        }
      ]
    },
    {
      "cell_type": "code",
      "source": [
        "def infer(net, text):\n",
        "     # task: implement inference\n",
        "     #examples = \n",
        "     token_text = tokenizer(text, padding=\"max_length\", truncation=True)\n",
        "     seq_tensr = torch.tensor(token_text['input_ids'])\n",
        "     att_mask_tensr = torch.tensor(token_text['attention_mask'])\n",
        "\n",
        "     seq_tensr = torch.unsqueeze(seq_tensr,0)\n",
        "     att_mask_tensr = torch.unsqueeze(att_mask_tensr,0)\n",
        "     \n",
        "     seq_tensr, att_mask_tensr = seq_tensr.to(device), att_mask_tensr.to(device)\n",
        "     with torch.no_grad():\n",
        "        logits = net(seq_tensr, att_mask_tensr)\n",
        "\n",
        "     label = torch.argmax(logits, dim=-1)\n",
        "     return label\n",
        "    \n",
        "text = \"your positive or negative text\"\n",
        "label = infer(net, text)\n",
        "print(label)"
      ],
      "metadata": {
        "id": "GewD715OFVzQ",
        "colab": {
          "base_uri": "https://localhost:8080/"
        },
        "outputId": "5a533fff-e275-43a8-c25c-a3628cd6d101"
      },
      "execution_count": 29,
      "outputs": [
        {
          "output_type": "stream",
          "name": "stdout",
          "text": [
            "tensor([0], device='cuda:0')\n"
          ]
        }
      ]
    },
    {
      "cell_type": "markdown",
      "source": [
        "## BertForSequenceClassification Fine-tuning"
      ],
      "metadata": {
        "id": "Fh7d9wAlTAgj"
      }
    },
    {
      "cell_type": "code",
      "source": [
        "from transformers import AutoModelForSequenceClassification\n",
        "\n",
        "model = AutoModelForSequenceClassification.from_pretrained(\"bert-base-cased\", num_labels=2)"
      ],
      "metadata": {
        "colab": {
          "base_uri": "https://localhost:8080/",
          "height": 156,
          "referenced_widgets": [
            "aa5c47f948d548cca7fa82c4e1e48ccd",
            "73393e076a2840c7b8a04ae9bb17e273",
            "4e4f2b5adbb94f08bb4209c331ff81ed",
            "e09ac13a7329461ca379adcdcfe9dd92",
            "65bae9b56d084df1a90f415c68222630",
            "99b50bf0878b4328a9da21e091e29a1a",
            "7f30b43018c242dfbd0a76a8d5f6d25d",
            "53357b2aba574511a7e298abed153543",
            "b373b214e7684a45b7e5d688e81b7a78",
            "f5777a2abc99410797e865c1fc1d9d2d",
            "4fe64042b35b48c2beadef35ef98da28"
          ]
        },
        "id": "CROFAgmUTEfJ",
        "outputId": "45d283d6-8069-49bc-a7cd-185f308deab8"
      },
      "execution_count": 30,
      "outputs": [
        {
          "output_type": "display_data",
          "data": {
            "text/plain": [
              "Downloading:   0%|          | 0.00/436M [00:00<?, ?B/s]"
            ],
            "application/vnd.jupyter.widget-view+json": {
              "version_major": 2,
              "version_minor": 0,
              "model_id": "aa5c47f948d548cca7fa82c4e1e48ccd"
            }
          },
          "metadata": {}
        },
        {
          "output_type": "stream",
          "name": "stderr",
          "text": [
            "Some weights of the model checkpoint at bert-base-cased were not used when initializing BertForSequenceClassification: ['cls.predictions.bias', 'cls.predictions.decoder.weight', 'cls.seq_relationship.weight', 'cls.predictions.transform.dense.weight', 'cls.predictions.transform.dense.bias', 'cls.seq_relationship.bias', 'cls.predictions.transform.LayerNorm.weight', 'cls.predictions.transform.LayerNorm.bias']\n",
            "- This IS expected if you are initializing BertForSequenceClassification from the checkpoint of a model trained on another task or with another architecture (e.g. initializing a BertForSequenceClassification model from a BertForPreTraining model).\n",
            "- This IS NOT expected if you are initializing BertForSequenceClassification from the checkpoint of a model that you expect to be exactly identical (initializing a BertForSequenceClassification model from a BertForSequenceClassification model).\n",
            "Some weights of BertForSequenceClassification were not initialized from the model checkpoint at bert-base-cased and are newly initialized: ['classifier.weight', 'classifier.bias']\n",
            "You should probably TRAIN this model on a down-stream task to be able to use it for predictions and inference.\n"
          ]
        }
      ]
    },
    {
      "cell_type": "code",
      "source": [
        "from transformers import TrainingArguments\n",
        "\n",
        "training_args = TrainingArguments(\"test_trainer\")"
      ],
      "metadata": {
        "id": "jRdlD5sancpM"
      },
      "execution_count": 31,
      "outputs": []
    },
    {
      "cell_type": "code",
      "source": [
        "# task: change the number of epochs to 5\n",
        "training_args.num_train_epochs = 5"
      ],
      "metadata": {
        "id": "y2CqnFkivLi4"
      },
      "execution_count": 32,
      "outputs": []
    },
    {
      "cell_type": "code",
      "source": [
        "from transformers import Trainer\n",
        "\n",
        "trainer = Trainer(model=model, args=training_args, train_dataset=small_train_dataset, eval_dataset=small_eval_dataset)"
      ],
      "metadata": {
        "id": "xBCgtbJPndLo"
      },
      "execution_count": 38,
      "outputs": []
    },
    {
      "cell_type": "code",
      "source": [
        "for param in model.bert.parameters():\n",
        "    # task: freeze bert training weights\n",
        "    param.requires_grad = True"
      ],
      "metadata": {
        "id": "UdIc3xMPuPJP"
      },
      "execution_count": 40,
      "outputs": []
    },
    {
      "cell_type": "code",
      "source": [
        "trainer.train()"
      ],
      "metadata": {
        "colab": {
          "base_uri": "https://localhost:8080/",
          "height": 439
        },
        "id": "pJZCtCT0ngP8",
        "outputId": "21b6f64c-a8b1-4819-cb7a-1a3d297a7157"
      },
      "execution_count": 41,
      "outputs": [
        {
          "output_type": "stream",
          "name": "stderr",
          "text": [
            "The following columns in the training set don't have a corresponding argument in `BertForSequenceClassification.forward` and have been ignored: text. If text are not expected by `BertForSequenceClassification.forward`,  you can safely ignore this message.\n",
            "***** Running training *****\n",
            "  Num examples = 1000\n",
            "  Num Epochs = 5\n",
            "  Instantaneous batch size per device = 8\n",
            "  Total train batch size (w. parallel, distributed & accumulation) = 8\n",
            "  Gradient Accumulation steps = 1\n",
            "  Total optimization steps = 625\n"
          ]
        },
        {
          "output_type": "display_data",
          "data": {
            "text/plain": [
              "<IPython.core.display.HTML object>"
            ],
            "text/html": [
              "\n",
              "    <div>\n",
              "      \n",
              "      <progress value='625' max='625' style='width:300px; height:20px; vertical-align: middle;'></progress>\n",
              "      [625/625 08:03, Epoch 5/5]\n",
              "    </div>\n",
              "    <table border=\"1\" class=\"dataframe\">\n",
              "  <thead>\n",
              " <tr style=\"text-align: left;\">\n",
              "      <th>Step</th>\n",
              "      <th>Training Loss</th>\n",
              "    </tr>\n",
              "  </thead>\n",
              "  <tbody>\n",
              "    <tr>\n",
              "      <td>500</td>\n",
              "      <td>0.239300</td>\n",
              "    </tr>\n",
              "  </tbody>\n",
              "</table><p>"
            ]
          },
          "metadata": {}
        },
        {
          "output_type": "stream",
          "name": "stderr",
          "text": [
            "Saving model checkpoint to test_trainer/checkpoint-500\n",
            "Configuration saved in test_trainer/checkpoint-500/config.json\n",
            "Model weights saved in test_trainer/checkpoint-500/pytorch_model.bin\n",
            "\n",
            "\n",
            "Training completed. Do not forget to share your model on huggingface.co/models =)\n",
            "\n",
            "\n"
          ]
        },
        {
          "output_type": "execute_result",
          "data": {
            "text/plain": [
              "TrainOutput(global_step=625, training_loss=0.19228026609420776, metrics={'train_runtime': 484.2783, 'train_samples_per_second': 10.325, 'train_steps_per_second': 1.291, 'total_flos': 1422904587386880.0, 'train_loss': 0.19228026609420776, 'epoch': 5.0})"
            ]
          },
          "metadata": {},
          "execution_count": 41
        }
      ]
    },
    {
      "cell_type": "code",
      "source": [
        "import numpy as np\n",
        "from datasets import load_metric\n",
        "\n",
        "metric = load_metric(\"accuracy\")\n",
        "\n",
        "\n",
        "def compute_metrics(eval_pred):\n",
        "    logits, labels = eval_pred\n",
        "    predictions = np.argmax(logits, axis=-1)\n",
        "    return metric.compute(predictions=predictions, references=labels)"
      ],
      "metadata": {
        "id": "QjCMmTWanpue"
      },
      "execution_count": 42,
      "outputs": []
    },
    {
      "cell_type": "code",
      "source": [
        "# task: achieve 80% accuracy, you may also try unfreeze the bert parameters\n",
        "\n",
        "trainer = Trainer(\n",
        "    model=model,\n",
        "    args=training_args,\n",
        "    train_dataset=small_train_dataset,\n",
        "    eval_dataset=small_eval_dataset,\n",
        "    compute_metrics=compute_metrics,\n",
        ")\n",
        "trainer.evaluate()"
      ],
      "metadata": {
        "colab": {
          "base_uri": "https://localhost:8080/",
          "height": 213
        },
        "id": "Lp0Pn2s_nsjc",
        "outputId": "5581bc7f-23f9-4058-8e48-ed9a6ad9d97f"
      },
      "execution_count": 43,
      "outputs": [
        {
          "output_type": "stream",
          "name": "stderr",
          "text": [
            "The following columns in the evaluation set don't have a corresponding argument in `BertForSequenceClassification.forward` and have been ignored: text. If text are not expected by `BertForSequenceClassification.forward`,  you can safely ignore this message.\n",
            "***** Running Evaluation *****\n",
            "  Num examples = 1000\n",
            "  Batch size = 8\n"
          ]
        },
        {
          "output_type": "display_data",
          "data": {
            "text/plain": [
              "<IPython.core.display.HTML object>"
            ],
            "text/html": [
              "\n",
              "    <div>\n",
              "      \n",
              "      <progress value='125' max='125' style='width:300px; height:20px; vertical-align: middle;'></progress>\n",
              "      [125/125 00:33]\n",
              "    </div>\n",
              "    "
            ]
          },
          "metadata": {}
        },
        {
          "output_type": "execute_result",
          "data": {
            "text/plain": [
              "{'eval_loss': 0.769340455532074,\n",
              " 'eval_accuracy': 0.877,\n",
              " 'eval_runtime': 33.5061,\n",
              " 'eval_samples_per_second': 29.845,\n",
              " 'eval_steps_per_second': 3.731}"
            ]
          },
          "metadata": {},
          "execution_count": 43
        }
      ]
    },
    {
      "cell_type": "markdown",
      "source": [
        "Links\n",
        "\n",
        "[Painless Fine-Tuning of BERT in Pytorch](https://medium.com/swlh/painless-fine-tuning-of-bert-in-pytorch-b91c14912caa)\n",
        "\n",
        "[Fine-tuning BERT by Hugging Face](https://huggingface.co/docs/transformers/v4.16.2/en/training)"
      ],
      "metadata": {
        "id": "r76m0fa8eb5B"
      }
    }
  ]
}